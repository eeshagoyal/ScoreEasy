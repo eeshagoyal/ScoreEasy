{
 "cells": [
  {
   "cell_type": "markdown",
   "metadata": {},
   "source": [
    "# Topic Modeling with Latent Dirichlet Allocation (LDA)\n",
    "* automatic scoring with LDA"
   ]
  },
  {
   "cell_type": "code",
   "execution_count": 1,
   "metadata": {},
   "outputs": [],
   "source": [
    "%matplotlib inline\n",
    "\n",
    "import numpy as np\n",
    "import pandas as pd\n",
    "import re\n",
    "from datetime import datetime\n",
    "\n",
    "import matplotlib.pyplot as plt\n",
    "import seaborn as sns\n",
    "\n",
    "import spacy\n",
    "from spacy.lang.en.stop_words import STOP_WORDS\n",
    "from string import punctuation\n",
    "\n",
    "import language_check\n",
    "\n",
    "from sklearn.feature_extraction.text import CountVectorizer\n",
    "from sklearn.decomposition import LatentDirichletAllocation\n",
    "from sklearn.externals import joblib\n",
    "from sklearn.model_selection import train_test_split\n",
    "\n",
    "import pyLDAvis\n",
    "from pyLDAvis.sklearn import prepare\n",
    "\n",
    "plt.style.use('seaborn-colorblind')\n",
    "\n",
    "# Setup Pandas\n",
    "pd.set_option('display.width', 500)\n",
    "pd.set_option('display.max_columns', 100)\n",
    "pd.set_option('display.notebook_repr_html', True)\n",
    "pd.set_option('display.max_colwidth', 100)\n",
    "\n",
    "pyLDAvis.enable_notebook()\n",
    "# plt.rcParams['figure.figsize'] = [8, 5]\n",
    "plt.rcParams['figure.dpi']= 100\n",
    "\n",
    "import warnings\n",
    "warnings.simplefilter(\"ignore\", DeprecationWarning)"
   ]
  },
  {
   "cell_type": "code",
   "execution_count": 2,
   "metadata": {},
   "outputs": [
    {
     "data": {
      "text/html": [
       "<div>\n",
       "<style scoped>\n",
       "    .dataframe tbody tr th:only-of-type {\n",
       "        vertical-align: middle;\n",
       "    }\n",
       "\n",
       "    .dataframe tbody tr th {\n",
       "        vertical-align: top;\n",
       "    }\n",
       "\n",
       "    .dataframe thead th {\n",
       "        text-align: right;\n",
       "    }\n",
       "</style>\n",
       "<table border=\"1\" class=\"dataframe\">\n",
       "  <thead>\n",
       "    <tr style=\"text-align: right;\">\n",
       "      <th></th>\n",
       "      <th>essay_id</th>\n",
       "      <th>topic</th>\n",
       "      <th>essay</th>\n",
       "      <th>rater1_domain1</th>\n",
       "      <th>rater2_domain1</th>\n",
       "      <th>rater3_domain1</th>\n",
       "      <th>target_score</th>\n",
       "      <th>rater1_domain2</th>\n",
       "      <th>rater2_domain2</th>\n",
       "      <th>topic2_target</th>\n",
       "      <th>rater1_trait1</th>\n",
       "      <th>rater1_trait2</th>\n",
       "      <th>rater1_trait3</th>\n",
       "      <th>rater1_trait4</th>\n",
       "      <th>rater1_trait5</th>\n",
       "      <th>rater1_trait6</th>\n",
       "      <th>rater2_trait1</th>\n",
       "      <th>rater2_trait2</th>\n",
       "      <th>rater2_trait3</th>\n",
       "      <th>rater2_trait4</th>\n",
       "      <th>rater2_trait5</th>\n",
       "      <th>rater2_trait6</th>\n",
       "      <th>rater3_trait1</th>\n",
       "      <th>rater3_trait2</th>\n",
       "      <th>rater3_trait3</th>\n",
       "      <th>rater3_trait4</th>\n",
       "      <th>rater3_trait5</th>\n",
       "      <th>rater3_trait6</th>\n",
       "    </tr>\n",
       "  </thead>\n",
       "  <tbody>\n",
       "    <tr>\n",
       "      <th>5405</th>\n",
       "      <td>8959</td>\n",
       "      <td>4</td>\n",
       "      <td>In this short story, Saeng vows to take the test again in the spring because she knows that she ...</td>\n",
       "      <td>3</td>\n",
       "      <td>2</td>\n",
       "      <td>NaN</td>\n",
       "      <td>3</td>\n",
       "      <td>NaN</td>\n",
       "      <td>NaN</td>\n",
       "      <td>NaN</td>\n",
       "      <td>NaN</td>\n",
       "      <td>NaN</td>\n",
       "      <td>NaN</td>\n",
       "      <td>NaN</td>\n",
       "      <td>NaN</td>\n",
       "      <td>NaN</td>\n",
       "      <td>NaN</td>\n",
       "      <td>NaN</td>\n",
       "      <td>NaN</td>\n",
       "      <td>NaN</td>\n",
       "      <td>NaN</td>\n",
       "      <td>NaN</td>\n",
       "      <td>NaN</td>\n",
       "      <td>NaN</td>\n",
       "      <td>NaN</td>\n",
       "      <td>NaN</td>\n",
       "      <td>NaN</td>\n",
       "      <td>NaN</td>\n",
       "    </tr>\n",
       "  </tbody>\n",
       "</table>\n",
       "</div>"
      ],
      "text/plain": [
       "      essay_id  topic                                                                                                essay  rater1_domain1  rater2_domain1  rater3_domain1  target_score  rater1_domain2  rater2_domain2  topic2_target  rater1_trait1  rater1_trait2  rater1_trait3  rater1_trait4  rater1_trait5  rater1_trait6  rater2_trait1  rater2_trait2  rater2_trait3  rater2_trait4  rater2_trait5  rater2_trait6  rater3_trait1  rater3_trait2  rater3_trait3  rater3_trait4  rater3_trait5  \\\n",
       "5405      8959      4  In this short story, Saeng vows to take the test again in the spring because she knows that she ...               3               2             NaN             3             NaN             NaN            NaN            NaN            NaN            NaN            NaN            NaN            NaN            NaN            NaN            NaN            NaN            NaN            NaN            NaN            NaN            NaN            NaN            NaN   \n",
       "\n",
       "      rater3_trait6  \n",
       "5405            NaN  "
      ]
     },
     "execution_count": 2,
     "metadata": {},
     "output_type": "execute_result"
    }
   ],
   "source": [
    "training_set  = pd.read_csv('kaggle-dataset/training_set_rel3.tsv', sep='\\t', encoding = \"ISO-8859-1\")\\\n",
    "            .rename(columns={'essay_set': 'topic', 'domain1_score': 'target_score', 'domain2_score': 'topic2_target'})\n",
    "training_set.sample()"
   ]
  },
  {
   "cell_type": "markdown",
   "metadata": {},
   "source": [
    "## Essay processing:\n",
    "\n",
    "1. Language correction with languagetool (add number of corrections as feature)\n",
    "2. Sentence tokenization with Spacy\n",
    "3. Sentence count and length\n",
    "4. Word tokenize with Spacy\n",
    "5. Word token classification (punctuation, stop words and anonymized entities, pos, ent)\n",
    "6. Document similarity (based on arbitrary high scoring essay for each topic)"
   ]
  },
  {
   "cell_type": "markdown",
   "metadata": {},
   "source": [
    "## Grammar and spelling\n",
    "\n",
    "As to be expected with student essays, many essays exhibit grammar and spelling errors. \n",
    "\n",
    "Parts-of-speech (POS) and named-entity-recognition (NER) is hampered in part by the lack of consitent spelling and punctuation. Therefore, the essays will be corrected using languagetool and the nlp parsing will be performed with Spacy on the corrected essays."
   ]
  },
  {
   "cell_type": "code",
   "execution_count": 10,
   "metadata": {},
   "outputs": [],
   "source": [
    "text = 'Some people are still using Myspoce instead of facdbook'"
   ]
  },
  {
   "cell_type": "markdown",
   "metadata": {},
   "source": [
    "Textblob is an open source nlp package and something to keep an eye on. Unlike Spacy, textblob includes a statistics based spell checker. It only claims 70% accuracy, and in my testing it didn't perform well.\n",
    "\n",
    "https://textblob.readthedocs.io/en/dev/"
   ]
  },
  {
   "cell_type": "code",
   "execution_count": 11,
   "metadata": {},
   "outputs": [
    {
     "name": "stdout",
     "output_type": "stream",
     "text": [
      "Some people are still using Myspoce instead of facdbook\n"
     ]
    }
   ],
   "source": [
    "from textblob import TextBlob\n",
    "data = TextBlob(text)\n",
    "print (data.correct())"
   ]
  },
  {
   "cell_type": "markdown",
   "metadata": {},
   "source": [
    "Languagetool.org has a python wrapper for spelling and grammatical errors at \n",
    "https://github.com/myint/language-check\n",
    "\n",
    "It appears to work quite well, although it requires intermediate storage of a list of errors ('matches')."
   ]
  },
  {
   "cell_type": "code",
   "execution_count": 12,
   "metadata": {},
   "outputs": [
    {
     "data": {
      "text/plain": [
       "'Some people are still using MySpace instead of Facebook'"
      ]
     },
     "execution_count": 12,
     "metadata": {},
     "output_type": "execute_result"
    }
   ],
   "source": [
    "tool = language_check.LanguageTool('en-US')\n",
    "\n",
    "matches = tool.check(text)\n",
    "language_check.correct(text, matches)"
   ]
  },
  {
   "cell_type": "code",
   "execution_count": 13,
   "metadata": {},
   "outputs": [
    {
     "data": {
      "text/plain": [
       "'I do think that there should be a censorship in not just in libaries, but everywhare.       Personlly, I think that the way that the libraries have the books are appropite and if the parents do not want thier children going any where  that is not privy to them keep a hand lenght away     As for the parents, the parents know the aera that intrest them ,therefor the parents should go there'"
      ]
     },
     "execution_count": 13,
     "metadata": {},
     "output_type": "execute_result"
    }
   ],
   "source": [
    "text = training_set.essay[1871]\n",
    "text"
   ]
  },
  {
   "cell_type": "code",
   "execution_count": 14,
   "metadata": {
    "scrolled": true
   },
   "outputs": [
    {
     "data": {
      "text/plain": [
       "'I do think that there should be a censorship in not just in libraries, but everywhere.  Personally, I think that the way that the libraries have the books are appropriate and if the parents do not want their children going anywhere that is not privy to them keep a hand length away As for the parents, the parents know the area that interest them,therefor the parents should go there'"
      ]
     },
     "execution_count": 14,
     "metadata": {},
     "output_type": "execute_result"
    }
   ],
   "source": [
    "\n",
    "matches = tool.check(text)\n",
    "language_check.correct(text, matches)\n"
   ]
  },
  {
   "cell_type": "markdown",
   "metadata": {},
   "source": [
    "As seen in the last sentence, languagetool did not correct `\",therefor\"`. Nonetheless, it should be good enough to proceed."
   ]
  },
  {
   "cell_type": "code",
   "execution_count": 15,
   "metadata": {},
   "outputs": [
    {
     "name": "stdout",
     "output_type": "stream",
     "text": [
      "Processing time: 0:14:07.330476\n"
     ]
    }
   ],
   "source": [
    "\"\"\"\n",
    "use language tool to correct for most spelling and grammatical errors. Also count the applied corrections. \n",
    "Using language_check python wrapper for languagetool:\n",
    "https://www.languagetool.org/dev\n",
    "\"\"\"\n",
    "tool = language_check.LanguageTool('en-US')\n",
    "\n",
    "t0 = datetime.now()\n",
    "\n",
    "training_set['matches'] = training_set['essay'].apply(lambda txt: tool.check(txt))\n",
    "training_set['corrections'] = training_set.apply(lambda l: len(l['matches']), axis=1)\n",
    "training_set['corrected'] = training_set.apply(lambda l: language_check.correct(l['essay'], l['matches']), axis=1)\n",
    "\n",
    "t1 = datetime.now()\n",
    "print('Processing time: {}'.format(t1 - t0))\n",
    "\n",
    "# save work\n",
    "training_set.to_pickle('training_corr.pkl')"
   ]
  },
  {
   "cell_type": "markdown",
   "metadata": {},
   "source": [
    "Here's a very special example of poor writing skills (or perhaps a digitization error?). None of the spell checkers I tried were able to make much sense out of this."
   ]
  },
  {
   "cell_type": "code",
   "execution_count": 16,
   "metadata": {
    "scrolled": true
   },
   "outputs": [
    {
     "name": "stdout",
     "output_type": "stream",
     "text": [
      "Original:\n",
      "I aegre waf the evansmant ov tnachnolage. The evansmant ov tnachnolige is being to halp fined a kohar froi alnsas. Tnanchnolage waf ont ot we wod not go to the moon. Tnachnologe evans as we maech at. The people are in tnacholege to the frchr fror the good ov live. Famas invanyor ues tnacholage leki lena orde dvanse and his fling mashine. Tnachologe is the grat\n",
      "Corrected with languagetool:\n",
      "I Segre weigh the evansmant of tnachnolage. The evansmant of tnachnolige is being to half fined a coheir from Kansas. Tnanchnolage weigh Ont OT we won not go to the moon. Tnachnologe Evans as we match at. The people are in tnacholege to the arch for the good of live. Lamas inventor us tnacholage Levi Lena order dance and his fling machine. Tnachologe is the great\n"
     ]
    }
   ],
   "source": [
    "print('Original:')\n",
    "print(training_set.essay[18])\n",
    "print('Corrected with languagetool:')\n",
    "print(training_set.corrected[18])"
   ]
  },
  {
   "cell_type": "markdown",
   "metadata": {},
   "source": [
    "## NLP with SpaCy\n",
    "\n",
    "Although much of the analysis could be performed with other NLP packages, SpaCy was chosen due to its combination of speed and simplicity."
   ]
  },
  {
   "cell_type": "code",
   "execution_count": 17,
   "metadata": {},
   "outputs": [],
   "source": [
    "training_set = pd.read_pickle('training_corr.pkl')"
   ]
  },
  {
   "cell_type": "code",
   "execution_count": 18,
   "metadata": {
    "scrolled": true
   },
   "outputs": [
    {
     "name": "stdout",
     "output_type": "stream",
     "text": [
      "Processing time: 0:10:03.031798\n"
     ]
    }
   ],
   "source": [
    "sents = []\n",
    "tokens = []\n",
    "lemma = []\n",
    "pos = []\n",
    "ner = []\n",
    "\n",
    "stop_words = set(STOP_WORDS)\n",
    "stop_words.update(punctuation) # remove it if you need punctuation \n",
    "\n",
    "nlp = spacy.load('en_core_web_sm')\n",
    "\n",
    "t0 = datetime.now()\n",
    "\n",
    "# suppress numpy warnings\n",
    "np.warnings.filterwarnings('ignore')\n",
    "\n",
    "for essay in nlp.pipe(training_set['corrected'], batch_size=100, n_threads=3):\n",
    "    if essay.is_parsed:\n",
    "        tokens.append([e.text for e in essay])\n",
    "        sents.append([sent.string.strip() for sent in essay.sents])\n",
    "        pos.append([e.pos_ for e in essay])\n",
    "        ner.append([e.text for e in essay.ents])\n",
    "        lemma.append([n.lemma_ for n in essay])\n",
    "    else:\n",
    "        # We want to make sure that the lists of parsed results have the\n",
    "        # same number of entries of the original Dataframe, so add some blanks in case the parse fails\n",
    "        tokens.append(None)\n",
    "        lemma.append(None)\n",
    "        pos.append(None)\n",
    "        sents.append(None)\n",
    "        ner.append(None)\n",
    "\n",
    "training_set['tokens'] = tokens\n",
    "training_set['lemma'] = lemma\n",
    "training_set['pos'] = pos\n",
    "training_set['sents'] = sents\n",
    "training_set['ner'] = ner\n",
    "\n",
    "t1 = datetime.now()\n",
    "print('Processing time: {}'.format(t1 - t0))"
   ]
  },
  {
   "cell_type": "code",
   "execution_count": 19,
   "metadata": {},
   "outputs": [],
   "source": [
    "training_set.to_pickle('training_spacy.pkl')"
   ]
  },
  {
   "cell_type": "code",
   "execution_count": 20,
   "metadata": {},
   "outputs": [],
   "source": [
    "training_set = pd.read_pickle('training_spacy.pkl')"
   ]
  },
  {
   "cell_type": "code",
   "execution_count": 21,
   "metadata": {},
   "outputs": [
    {
     "data": {
      "text/html": [
       "<div>\n",
       "<style scoped>\n",
       "    .dataframe tbody tr th:only-of-type {\n",
       "        vertical-align: middle;\n",
       "    }\n",
       "\n",
       "    .dataframe tbody tr th {\n",
       "        vertical-align: top;\n",
       "    }\n",
       "\n",
       "    .dataframe thead th {\n",
       "        text-align: right;\n",
       "    }\n",
       "</style>\n",
       "<table border=\"1\" class=\"dataframe\">\n",
       "  <thead>\n",
       "    <tr style=\"text-align: right;\">\n",
       "      <th></th>\n",
       "      <th>tokens</th>\n",
       "      <th>pos</th>\n",
       "      <th>sents</th>\n",
       "      <th>ner</th>\n",
       "    </tr>\n",
       "  </thead>\n",
       "  <tbody>\n",
       "    <tr>\n",
       "      <th>0</th>\n",
       "      <td>[Dear, local, newspaper, ,, I, think, effects, computers, have, on, people, are, great, learning...</td>\n",
       "      <td>[ADJ, ADJ, NOUN, PUNCT, PRON, VERB, NOUN, NOUN, VERB, ADP, NOUN, VERB, ADJ, NOUN, NOUN, SYM, NOU...</td>\n",
       "      <td>[Dear local newspaper, I think effects computers have on people are great learning skills/affect...</td>\n",
       "      <td>[Facebook, MySpace, all day]</td>\n",
       "    </tr>\n",
       "    <tr>\n",
       "      <th>1</th>\n",
       "      <td>[Dear, @CAPS1, @CAPS2, ,, I, believe, that, using, computers, will, benefit, us, in, many, ways,...</td>\n",
       "      <td>[ADJ, PROPN, PUNCT, PUNCT, PRON, VERB, ADP, VERB, NOUN, VERB, VERB, PRON, ADP, ADJ, NOUN, ADP, V...</td>\n",
       "      <td>[Dear @CAPS1 @CAPS2, I believe that using computers will benefit us in many ways like talking an...</td>\n",
       "      <td>[Facebook, MySpace, millions, one, MySpace, Facebook, one, millions, @MONTH1, @LOCATION2, A Mill...</td>\n",
       "    </tr>\n",
       "    <tr>\n",
       "      <th>2</th>\n",
       "      <td>[Dear, ,, @CAPS1, @CAPS2, @CAPS3, More, and, more, people, use, computers, ,, but, not, everyone...</td>\n",
       "      <td>[ADJ, PUNCT, PROPN, PUNCT, PROPN, ADJ, CCONJ, ADJ, NOUN, VERB, NOUN, PUNCT, CCONJ, ADV, NOUN, VE...</td>\n",
       "      <td>[Dear, @CAPS1 @CAPS2 @CAPS3 More and more people use computers, but not everyone agrees that thi...</td>\n",
       "      <td>[today, one, @CAPS4, one, @MONTH1, thousand, @ORGANIZATION1]</td>\n",
       "    </tr>\n",
       "    <tr>\n",
       "      <th>3</th>\n",
       "      <td>[Dear, Local, Newspaper, ,, @CAPS1, I, have, found, that, many, experts, say, that, computers, d...</td>\n",
       "      <td>[ADJ, PROPN, PROPN, PUNCT, PROPN, PRON, VERB, VERB, ADP, ADJ, NOUN, VERB, ADP, NOUN, VERB, ADV, ...</td>\n",
       "      <td>[Dear Local Newspaper, @CAPS1, I have found that many experts say that computers do not benefit ...</td>\n",
       "      <td>[Dear Local Newspaper, @PERSON1, @PERSON2, @CAPS4, @LOCATION2, @PERCENT3, @LOCATION1, A+, Newspa...</td>\n",
       "    </tr>\n",
       "    <tr>\n",
       "      <th>4</th>\n",
       "      <td>[Dear, @LOCATION1, ,, I, know, having, computers, has, a, positive, effect, on, people, ., The, ...</td>\n",
       "      <td>[ADJ, ADP, PUNCT, PRON, VERB, VERB, NOUN, VERB, DET, ADJ, NOUN, ADP, NOUN, PUNCT, DET, NOUN, VER...</td>\n",
       "      <td>[Dear @LOCATION1, I know having computers has a positive effect on people., The computers connec...</td>\n",
       "      <td>[First, @NUM1 hours, one, Mae, Secondly, @LOCATION2, one, one]</td>\n",
       "    </tr>\n",
       "  </tbody>\n",
       "</table>\n",
       "</div>"
      ],
      "text/plain": [
       "                                                                                                tokens                                                                                                  pos                                                                                                sents                                                                                                  ner\n",
       "0  [Dear, local, newspaper, ,, I, think, effects, computers, have, on, people, are, great, learning...  [ADJ, ADJ, NOUN, PUNCT, PRON, VERB, NOUN, NOUN, VERB, ADP, NOUN, VERB, ADJ, NOUN, NOUN, SYM, NOU...  [Dear local newspaper, I think effects computers have on people are great learning skills/affect...                                                                         [Facebook, MySpace, all day]\n",
       "1  [Dear, @CAPS1, @CAPS2, ,, I, believe, that, using, computers, will, benefit, us, in, many, ways,...  [ADJ, PROPN, PUNCT, PUNCT, PRON, VERB, ADP, VERB, NOUN, VERB, VERB, PRON, ADP, ADJ, NOUN, ADP, V...  [Dear @CAPS1 @CAPS2, I believe that using computers will benefit us in many ways like talking an...  [Facebook, MySpace, millions, one, MySpace, Facebook, one, millions, @MONTH1, @LOCATION2, A Mill...\n",
       "2  [Dear, ,, @CAPS1, @CAPS2, @CAPS3, More, and, more, people, use, computers, ,, but, not, everyone...  [ADJ, PUNCT, PROPN, PUNCT, PROPN, ADJ, CCONJ, ADJ, NOUN, VERB, NOUN, PUNCT, CCONJ, ADV, NOUN, VE...  [Dear, @CAPS1 @CAPS2 @CAPS3 More and more people use computers, but not everyone agrees that thi...                                         [today, one, @CAPS4, one, @MONTH1, thousand, @ORGANIZATION1]\n",
       "3  [Dear, Local, Newspaper, ,, @CAPS1, I, have, found, that, many, experts, say, that, computers, d...  [ADJ, PROPN, PROPN, PUNCT, PROPN, PRON, VERB, VERB, ADP, ADJ, NOUN, VERB, ADP, NOUN, VERB, ADV, ...  [Dear Local Newspaper, @CAPS1, I have found that many experts say that computers do not benefit ...  [Dear Local Newspaper, @PERSON1, @PERSON2, @CAPS4, @LOCATION2, @PERCENT3, @LOCATION1, A+, Newspa...\n",
       "4  [Dear, @LOCATION1, ,, I, know, having, computers, has, a, positive, effect, on, people, ., The, ...  [ADJ, ADP, PUNCT, PRON, VERB, VERB, NOUN, VERB, DET, ADJ, NOUN, ADP, NOUN, PUNCT, DET, NOUN, VER...  [Dear @LOCATION1, I know having computers has a positive effect on people., The computers connec...                                       [First, @NUM1 hours, one, Mae, Secondly, @LOCATION2, one, one]"
      ]
     },
     "execution_count": 21,
     "metadata": {},
     "output_type": "execute_result"
    }
   ],
   "source": [
    "training_set[['tokens', 'pos', 'sents', 'ner']].head()"
   ]
  },
  {
   "cell_type": "markdown",
   "metadata": {},
   "source": [
    "# Topic Modeling with Latent Dirichlet Allocation"
   ]
  },
  {
   "cell_type": "markdown",
   "metadata": {},
   "source": [
    "Latent Dirichlet Allocation, or **LDA**, uses probabilities to allocate any number of documents to a pre-defined number of topics. A very good explanation is given here:\n",
    "\n",
    "https://tedunderwood.com/2012/04/07/topic-modeling-made-just-simple-enough/\n",
    "\n",
    "The *Hewlett ASAP* essays are already labeled as belonging to one of eight topics. A baseline excercise will determine how well essays are allocated to a topic using LDA.\n",
    "\n",
    "A second experiment will be performed using LDA to assign scores.\n",
    "\n",
    "Another important remark is that LDA is based on probability distributions. Probing these distributions introduces randomness so the results of running this notebook might not exactly match the comments or annotations."
   ]
  },
  {
   "cell_type": "markdown",
   "metadata": {},
   "source": [
    "To minimize confusion between the *LDA* derived topics and the *Hewlett ASAP* given topics, the given topic numbers will be replaced with a one-word summary.\n",
    "\n",
    "LDA uses the probability of finding certain words associated with documents. Stop words will not be very helpful, for example, the word \"the\" is going to have a high probability across all topics. In order to refine the word list, we'll also use the lemma generated by SpaCy instead of the regular essay. As a reminder, the lemma were generated on language corrected essays."
   ]
  },
  {
   "cell_type": "code",
   "execution_count": 22,
   "metadata": {},
   "outputs": [],
   "source": [
    "# Replace topic numbers with meaningful one-word summary:\n",
    "topic_dict = {'topic':{1: 'computer', \n",
    "                       2: 'censorship', \n",
    "                       3: 'cyclist', \n",
    "                       4: 'hibiscus', \n",
    "                       5: 'mood', \n",
    "                       6: 'dirigibles', \n",
    "                       7: 'patience', \n",
    "                       8: 'laughter'}}\n",
    "\n",
    "training_set.replace(topic_dict, inplace=True)\n",
    "\n",
    "# Lemmatized essays re-joined (list to essay)\n",
    "training_set['l_essay'] = training_set['lemma'].apply(' '.join)"
   ]
  },
  {
   "cell_type": "markdown",
   "metadata": {},
   "source": [
    "Convert essays to a matrix of token (lemma) counts:"
   ]
  },
  {
   "cell_type": "code",
   "execution_count": 23,
   "metadata": {},
   "outputs": [
    {
     "data": {
      "text/plain": [
       "computer     20364\n",
       "book         14001\n",
       "building      7808\n",
       "library       7562\n",
       "dirigible     6275\n",
       "read          6130\n",
       "child         5762\n",
       "help          5203\n",
       "offensive     5115\n",
       "talk          4977\n",
       "dtype: int32"
      ]
     },
     "execution_count": 23,
     "metadata": {},
     "output_type": "execute_result"
    }
   ],
   "source": [
    "# Baseline: number of unique lemma\n",
    "vectorizer = CountVectorizer(max_df=.2, \n",
    "                             min_df=3, \n",
    "                             stop_words=STOP_WORDS, \n",
    "                             max_features=2000) # default: binary=False\n",
    "doc_term_matrix = vectorizer.fit_transform(training_set.l_essay) # using lemmatized essays\n",
    "\n",
    "# Most frequent tokens:\n",
    "words = vectorizer.get_feature_names()\n",
    "doc_term_matrix_df = pd.SparseDataFrame(doc_term_matrix, columns=words)\n",
    "word_freq = doc_term_matrix_df.sum(axis=0).astype(int)\n",
    "word_freq.sort_values(ascending=False).head(10) "
   ]
  },
  {
   "cell_type": "markdown",
   "metadata": {},
   "source": [
    "Apply LDA on the word frequency matrix."
   ]
  },
  {
   "cell_type": "code",
   "execution_count": 24,
   "metadata": {},
   "outputs": [
    {
     "name": "stdout",
     "output_type": "stream",
     "text": [
      "iteration: 1 of max_iter: 40\n",
      "iteration: 2 of max_iter: 40\n",
      "iteration: 3 of max_iter: 40\n",
      "iteration: 4 of max_iter: 40\n",
      "iteration: 5 of max_iter: 40, perplexity: 396.4384\n",
      "iteration: 6 of max_iter: 40\n",
      "iteration: 7 of max_iter: 40\n",
      "iteration: 8 of max_iter: 40\n",
      "iteration: 9 of max_iter: 40\n",
      "iteration: 10 of max_iter: 40, perplexity: 387.6358\n",
      "iteration: 11 of max_iter: 40\n",
      "iteration: 12 of max_iter: 40\n",
      "iteration: 13 of max_iter: 40\n",
      "iteration: 14 of max_iter: 40\n",
      "iteration: 15 of max_iter: 40, perplexity: 387.3376\n",
      "iteration: 16 of max_iter: 40\n",
      "iteration: 17 of max_iter: 40\n",
      "iteration: 18 of max_iter: 40\n",
      "iteration: 19 of max_iter: 40\n",
      "iteration: 20 of max_iter: 40, perplexity: 387.2330\n",
      "iteration: 21 of max_iter: 40\n",
      "iteration: 22 of max_iter: 40\n",
      "iteration: 23 of max_iter: 40\n",
      "iteration: 24 of max_iter: 40\n",
      "iteration: 25 of max_iter: 40, perplexity: 387.1749\n",
      "iteration: 26 of max_iter: 40\n",
      "iteration: 27 of max_iter: 40\n",
      "iteration: 28 of max_iter: 40\n",
      "iteration: 29 of max_iter: 40\n",
      "iteration: 30 of max_iter: 40, perplexity: 387.1528\n",
      "iteration: 31 of max_iter: 40\n",
      "iteration: 32 of max_iter: 40\n",
      "iteration: 33 of max_iter: 40\n",
      "iteration: 34 of max_iter: 40\n",
      "iteration: 35 of max_iter: 40, perplexity: 387.1401\n",
      "iteration: 36 of max_iter: 40\n",
      "iteration: 37 of max_iter: 40\n",
      "iteration: 38 of max_iter: 40\n",
      "iteration: 39 of max_iter: 40\n",
      "iteration: 40 of max_iter: 40, perplexity: 387.1301\n"
     ]
    },
    {
     "data": {
      "text/plain": [
       "['lda_baseline.pkl']"
      ]
     },
     "execution_count": 24,
     "metadata": {},
     "output_type": "execute_result"
    }
   ],
   "source": [
    "lda_base = LatentDirichletAllocation(n_components=8,\n",
    "                                     n_jobs=-1,\n",
    "                                     learning_method='batch',\n",
    "                                     max_iter=40,\n",
    "                                     perp_tol=0.01,\n",
    "                                     verbose=1,\n",
    "                                     evaluate_every=5)\n",
    "lda_base.fit(doc_term_matrix)\n",
    "\n",
    "# save base model\n",
    "joblib.dump(lda_base, 'lda_baseline.pkl')"
   ]
  },
  {
   "cell_type": "markdown",
   "metadata": {},
   "source": [
    "Topic probabilities for all words. The numbered topics are generated from the latent Dirichlet allocation. "
   ]
  },
  {
   "cell_type": "code",
   "execution_count": 25,
   "metadata": {},
   "outputs": [
    {
     "data": {
      "text/html": [
       "<div>\n",
       "<style scoped>\n",
       "    .dataframe tbody tr th:only-of-type {\n",
       "        vertical-align: middle;\n",
       "    }\n",
       "\n",
       "    .dataframe tbody tr th {\n",
       "        vertical-align: top;\n",
       "    }\n",
       "\n",
       "    .dataframe thead th {\n",
       "        text-align: right;\n",
       "    }\n",
       "</style>\n",
       "<table border=\"1\" class=\"dataframe\">\n",
       "  <thead>\n",
       "    <tr style=\"text-align: right;\">\n",
       "      <th></th>\n",
       "      <th>Topic 1</th>\n",
       "      <th>Topic 2</th>\n",
       "      <th>Topic 3</th>\n",
       "      <th>Topic 4</th>\n",
       "      <th>Topic 5</th>\n",
       "      <th>Topic 6</th>\n",
       "      <th>Topic 7</th>\n",
       "      <th>Topic 8</th>\n",
       "    </tr>\n",
       "  </thead>\n",
       "  <tbody>\n",
       "    <tr>\n",
       "      <th>minor</th>\n",
       "      <td>1.507076e-04</td>\n",
       "      <td>0.000003</td>\n",
       "      <td>0.000028</td>\n",
       "      <td>5.680529e-05</td>\n",
       "      <td>0.000067</td>\n",
       "      <td>0.000002</td>\n",
       "      <td>0.000023</td>\n",
       "      <td>0.000002</td>\n",
       "    </tr>\n",
       "    <tr>\n",
       "      <th>vow</th>\n",
       "      <td>1.685977e-03</td>\n",
       "      <td>0.000003</td>\n",
       "      <td>0.000001</td>\n",
       "      <td>7.512121e-07</td>\n",
       "      <td>0.000002</td>\n",
       "      <td>0.000002</td>\n",
       "      <td>0.000001</td>\n",
       "      <td>0.000002</td>\n",
       "    </tr>\n",
       "    <tr>\n",
       "      <th>smart</th>\n",
       "      <td>1.792769e-04</td>\n",
       "      <td>0.000448</td>\n",
       "      <td>0.000065</td>\n",
       "      <td>1.503492e-04</td>\n",
       "      <td>0.000374</td>\n",
       "      <td>0.000002</td>\n",
       "      <td>0.000659</td>\n",
       "      <td>0.000093</td>\n",
       "    </tr>\n",
       "    <tr>\n",
       "      <th>bear</th>\n",
       "      <td>5.742768e-05</td>\n",
       "      <td>0.000842</td>\n",
       "      <td>0.000032</td>\n",
       "      <td>3.094863e-04</td>\n",
       "      <td>0.000002</td>\n",
       "      <td>0.001499</td>\n",
       "      <td>0.000265</td>\n",
       "      <td>0.000020</td>\n",
       "    </tr>\n",
       "    <tr>\n",
       "      <th>engine</th>\n",
       "      <td>5.606097e-07</td>\n",
       "      <td>0.000003</td>\n",
       "      <td>0.000001</td>\n",
       "      <td>5.825088e-05</td>\n",
       "      <td>0.000002</td>\n",
       "      <td>0.000002</td>\n",
       "      <td>0.000785</td>\n",
       "      <td>0.000002</td>\n",
       "    </tr>\n",
       "    <tr>\n",
       "      <th>somebody</th>\n",
       "      <td>5.488834e-04</td>\n",
       "      <td>0.000003</td>\n",
       "      <td>0.000020</td>\n",
       "      <td>3.873019e-04</td>\n",
       "      <td>0.000207</td>\n",
       "      <td>0.000018</td>\n",
       "      <td>0.000317</td>\n",
       "      <td>0.000002</td>\n",
       "    </tr>\n",
       "    <tr>\n",
       "      <th>tomorrow</th>\n",
       "      <td>5.609983e-07</td>\n",
       "      <td>0.000388</td>\n",
       "      <td>0.000001</td>\n",
       "      <td>3.139983e-04</td>\n",
       "      <td>0.000002</td>\n",
       "      <td>0.000002</td>\n",
       "      <td>0.000211</td>\n",
       "      <td>0.000002</td>\n",
       "    </tr>\n",
       "    <tr>\n",
       "      <th>object</th>\n",
       "      <td>2.771226e-04</td>\n",
       "      <td>0.000317</td>\n",
       "      <td>0.000151</td>\n",
       "      <td>2.039656e-05</td>\n",
       "      <td>0.000040</td>\n",
       "      <td>0.000002</td>\n",
       "      <td>0.000121</td>\n",
       "      <td>0.000064</td>\n",
       "    </tr>\n",
       "    <tr>\n",
       "      <th>proper</th>\n",
       "      <td>1.093197e-04</td>\n",
       "      <td>0.000003</td>\n",
       "      <td>0.000090</td>\n",
       "      <td>1.203972e-05</td>\n",
       "      <td>0.000211</td>\n",
       "      <td>0.000018</td>\n",
       "      <td>0.000057</td>\n",
       "      <td>0.000087</td>\n",
       "    </tr>\n",
       "    <tr>\n",
       "      <th>apart</th>\n",
       "      <td>9.725760e-05</td>\n",
       "      <td>0.000160</td>\n",
       "      <td>0.000056</td>\n",
       "      <td>2.862382e-04</td>\n",
       "      <td>0.000358</td>\n",
       "      <td>0.000034</td>\n",
       "      <td>0.000086</td>\n",
       "      <td>0.000117</td>\n",
       "    </tr>\n",
       "  </tbody>\n",
       "</table>\n",
       "</div>"
      ],
      "text/plain": [
       "               Topic 1   Topic 2   Topic 3       Topic 4   Topic 5   Topic 6   Topic 7   Topic 8\n",
       "minor     1.507076e-04  0.000003  0.000028  5.680529e-05  0.000067  0.000002  0.000023  0.000002\n",
       "vow       1.685977e-03  0.000003  0.000001  7.512121e-07  0.000002  0.000002  0.000001  0.000002\n",
       "smart     1.792769e-04  0.000448  0.000065  1.503492e-04  0.000374  0.000002  0.000659  0.000093\n",
       "bear      5.742768e-05  0.000842  0.000032  3.094863e-04  0.000002  0.001499  0.000265  0.000020\n",
       "engine    5.606097e-07  0.000003  0.000001  5.825088e-05  0.000002  0.000002  0.000785  0.000002\n",
       "somebody  5.488834e-04  0.000003  0.000020  3.873019e-04  0.000207  0.000018  0.000317  0.000002\n",
       "tomorrow  5.609983e-07  0.000388  0.000001  3.139983e-04  0.000002  0.000002  0.000211  0.000002\n",
       "object    2.771226e-04  0.000317  0.000151  2.039656e-05  0.000040  0.000002  0.000121  0.000064\n",
       "proper    1.093197e-04  0.000003  0.000090  1.203972e-05  0.000211  0.000018  0.000057  0.000087\n",
       "apart     9.725760e-05  0.000160  0.000056  2.862382e-04  0.000358  0.000034  0.000086  0.000117"
      ]
     },
     "execution_count": 25,
     "metadata": {},
     "output_type": "execute_result"
    }
   ],
   "source": [
    "topic_labels = ['Topic {}'.format(i) for i in range(1, 9)]\n",
    "topics_count = lda_base.components_\n",
    "topics_prob = topics_count / topics_count.sum(axis=1).reshape(-1, 1)\n",
    "topics = pd.DataFrame(topics_prob.T,\n",
    "                      index=words,\n",
    "                      columns=topic_labels)\n",
    "topics.sample(10)"
   ]
  },
  {
   "cell_type": "code",
   "execution_count": 26,
   "metadata": {},
   "outputs": [
    {
     "data": {
      "image/png": "[encoded data removed]",
      "text/plain": [
       "<Figure size 432x288 with 2 Axes>"
      ]
     },
     "metadata": {},
     "output_type": "display_data"
    }
   ],
   "source": [
    "one_word = list(topic_dict['topic'].values())\n",
    "sns.heatmap(topics.reindex(one_word), cmap='Blues')\n",
    "plt.title('Topic probabilities for one-word-summary')\n",
    "plt.show()"
   ]
  },
  {
   "cell_type": "markdown",
   "metadata": {},
   "source": [
    "The heatmap suggests assignments for all but 1 topics. \n",
    "\n",
    "Below are the most probable words for each topic. We can already see our one-word summaries of the actual topic near the top of the list. "
   ]
  },
  {
   "cell_type": "code",
   "execution_count": 27,
   "metadata": {},
   "outputs": [
    {
     "data": {
      "text/html": [
       "<div>\n",
       "<style scoped>\n",
       "    .dataframe tbody tr th:only-of-type {\n",
       "        vertical-align: middle;\n",
       "    }\n",
       "\n",
       "    .dataframe tbody tr th {\n",
       "        vertical-align: top;\n",
       "    }\n",
       "\n",
       "    .dataframe thead th {\n",
       "        text-align: right;\n",
       "    }\n",
       "</style>\n",
       "<table border=\"1\" class=\"dataframe\">\n",
       "  <thead>\n",
       "    <tr style=\"text-align: right;\">\n",
       "      <th></th>\n",
       "      <th>Topic 1</th>\n",
       "      <th>Topic 2</th>\n",
       "      <th>Topic 3</th>\n",
       "      <th>Topic 4</th>\n",
       "      <th>Topic 5</th>\n",
       "      <th>Topic 6</th>\n",
       "      <th>Topic 7</th>\n",
       "      <th>Topic 8</th>\n",
       "    </tr>\n",
       "  </thead>\n",
       "  <tbody>\n",
       "    <tr>\n",
       "      <th>0</th>\n",
       "      <td>book</td>\n",
       "      <td>caps3</td>\n",
       "      <td>building</td>\n",
       "      <td>laugh</td>\n",
       "      <td>computer</td>\n",
       "      <td>mood</td>\n",
       "      <td>computer</td>\n",
       "      <td>cyclist</td>\n",
       "    </tr>\n",
       "    <tr>\n",
       "      <th>1</th>\n",
       "      <td>library</td>\n",
       "      <td>caps4</td>\n",
       "      <td>dirigible</td>\n",
       "      <td>patient</td>\n",
       "      <td>spend</td>\n",
       "      <td>memoir</td>\n",
       "      <td>help</td>\n",
       "      <td>water</td>\n",
       "    </tr>\n",
       "    <tr>\n",
       "      <th>2</th>\n",
       "      <td>read</td>\n",
       "      <td>caps5</td>\n",
       "      <td>obstacle</td>\n",
       "      <td>wait</td>\n",
       "      <td>exercise</td>\n",
       "      <td>love</td>\n",
       "      <td>learn</td>\n",
       "      <td>setting</td>\n",
       "    </tr>\n",
       "    <tr>\n",
       "      <th>3</th>\n",
       "      <td>offensive</td>\n",
       "      <td>caps6</td>\n",
       "      <td>empire</td>\n",
       "      <td>laughter</td>\n",
       "      <td>kid</td>\n",
       "      <td>narcs</td>\n",
       "      <td>talk</td>\n",
       "      <td>affect</td>\n",
       "    </tr>\n",
       "    <tr>\n",
       "      <th>4</th>\n",
       "      <td>child</td>\n",
       "      <td>person1</td>\n",
       "      <td>mast</td>\n",
       "      <td>tell</td>\n",
       "      <td>bad</td>\n",
       "      <td>create</td>\n",
       "      <td>information</td>\n",
       "      <td>feature</td>\n",
       "    </tr>\n",
       "    <tr>\n",
       "      <th>5</th>\n",
       "      <td>movie</td>\n",
       "      <td>person2</td>\n",
       "      <td>builder</td>\n",
       "      <td>mom</td>\n",
       "      <td>outside</td>\n",
       "      <td>grateful</td>\n",
       "      <td>online</td>\n",
       "      <td>road</td>\n",
       "    </tr>\n",
       "    <tr>\n",
       "      <th>6</th>\n",
       "      <td>shelf</td>\n",
       "      <td>caps7</td>\n",
       "      <td>face</td>\n",
       "      <td>start</td>\n",
       "      <td>nature</td>\n",
       "      <td>happy</td>\n",
       "      <td>hand</td>\n",
       "      <td>hill</td>\n",
       "    </tr>\n",
       "    <tr>\n",
       "      <th>7</th>\n",
       "      <td>music</td>\n",
       "      <td>organization1</td>\n",
       "      <td>dock</td>\n",
       "      <td>person1</td>\n",
       "      <td>play</td>\n",
       "      <td>rodriguez</td>\n",
       "      <td>place</td>\n",
       "      <td>desert</td>\n",
       "    </tr>\n",
       "    <tr>\n",
       "      <th>8</th>\n",
       "      <td>material</td>\n",
       "      <td>caps8</td>\n",
       "      <td>mooring</td>\n",
       "      <td>patience</td>\n",
       "      <td>reason</td>\n",
       "      <td>house</td>\n",
       "      <td>world</td>\n",
       "      <td>hot</td>\n",
       "    </tr>\n",
       "    <tr>\n",
       "      <th>9</th>\n",
       "      <td>magazine</td>\n",
       "      <td>caps9</td>\n",
       "      <td>wind</td>\n",
       "      <td>feel</td>\n",
       "      <td>child</td>\n",
       "      <td>paragraph</td>\n",
       "      <td>reason</td>\n",
       "      <td>town</td>\n",
       "    </tr>\n",
       "  </tbody>\n",
       "</table>\n",
       "</div>"
      ],
      "text/plain": [
       "     Topic 1        Topic 2    Topic 3   Topic 4   Topic 5    Topic 6      Topic 7  Topic 8\n",
       "0       book          caps3   building     laugh  computer       mood     computer  cyclist\n",
       "1    library          caps4  dirigible   patient     spend     memoir         help    water\n",
       "2       read          caps5   obstacle      wait  exercise       love        learn  setting\n",
       "3  offensive          caps6     empire  laughter       kid      narcs         talk   affect\n",
       "4      child        person1       mast      tell       bad     create  information  feature\n",
       "5      movie        person2    builder       mom   outside   grateful       online     road\n",
       "6      shelf          caps7       face     start    nature      happy         hand     hill\n",
       "7      music  organization1       dock   person1      play  rodriguez        place   desert\n",
       "8   material          caps8    mooring  patience    reason      house        world      hot\n",
       "9   magazine          caps9       wind      feel     child  paragraph       reason     town"
      ]
     },
     "execution_count": 27,
     "metadata": {},
     "output_type": "execute_result"
    }
   ],
   "source": [
    "top_words = {}\n",
    "for topic, words_ in topics.items():\n",
    "    top_words[topic] = words_.nlargest(10).index.tolist()\n",
    "pd.DataFrame(top_words)"
   ]
  },
  {
   "cell_type": "markdown",
   "metadata": {},
   "source": [
    "Now we can assign LDA topic probabilities to each essay and aggregate. It is now clear that, for example, LDA allocated topic 3 is aligned with the given topic \"computers\"."
   ]
  },
  {
   "cell_type": "code",
   "execution_count": 28,
   "metadata": {
    "scrolled": false
   },
   "outputs": [
    {
     "data": {
      "text/html": [
       "<div>\n",
       "<style scoped>\n",
       "    .dataframe tbody tr th:only-of-type {\n",
       "        vertical-align: middle;\n",
       "    }\n",
       "\n",
       "    .dataframe tbody tr th {\n",
       "        vertical-align: top;\n",
       "    }\n",
       "\n",
       "    .dataframe thead th {\n",
       "        text-align: right;\n",
       "    }\n",
       "</style>\n",
       "<table border=\"1\" class=\"dataframe\">\n",
       "  <thead>\n",
       "    <tr style=\"text-align: right;\">\n",
       "      <th></th>\n",
       "      <th>Topic 1</th>\n",
       "      <th>Topic 2</th>\n",
       "      <th>Topic 3</th>\n",
       "      <th>Topic 4</th>\n",
       "      <th>Topic 5</th>\n",
       "      <th>Topic 6</th>\n",
       "      <th>Topic 7</th>\n",
       "      <th>Topic 8</th>\n",
       "    </tr>\n",
       "    <tr>\n",
       "      <th>topic</th>\n",
       "      <th></th>\n",
       "      <th></th>\n",
       "      <th></th>\n",
       "      <th></th>\n",
       "      <th></th>\n",
       "      <th></th>\n",
       "      <th></th>\n",
       "      <th></th>\n",
       "    </tr>\n",
       "  </thead>\n",
       "  <tbody>\n",
       "    <tr>\n",
       "      <th>computer</th>\n",
       "      <td>0.001149</td>\n",
       "      <td>0.001147</td>\n",
       "      <td>0.001148</td>\n",
       "      <td>0.001148</td>\n",
       "      <td>0.440254</td>\n",
       "      <td>0.001149</td>\n",
       "      <td>0.552857</td>\n",
       "      <td>0.001148</td>\n",
       "    </tr>\n",
       "    <tr>\n",
       "      <th>dirigibles</th>\n",
       "      <td>0.002605</td>\n",
       "      <td>0.002606</td>\n",
       "      <td>0.981761</td>\n",
       "      <td>0.002605</td>\n",
       "      <td>0.002606</td>\n",
       "      <td>0.002605</td>\n",
       "      <td>0.002605</td>\n",
       "      <td>0.002607</td>\n",
       "    </tr>\n",
       "    <tr>\n",
       "      <th>mood</th>\n",
       "      <td>0.002552</td>\n",
       "      <td>0.002552</td>\n",
       "      <td>0.002552</td>\n",
       "      <td>0.002553</td>\n",
       "      <td>0.002553</td>\n",
       "      <td>0.982134</td>\n",
       "      <td>0.002553</td>\n",
       "      <td>0.002551</td>\n",
       "    </tr>\n",
       "    <tr>\n",
       "      <th>mood</th>\n",
       "      <td>0.002051</td>\n",
       "      <td>0.002050</td>\n",
       "      <td>0.002050</td>\n",
       "      <td>0.002052</td>\n",
       "      <td>0.002052</td>\n",
       "      <td>0.985644</td>\n",
       "      <td>0.002051</td>\n",
       "      <td>0.002051</td>\n",
       "    </tr>\n",
       "    <tr>\n",
       "      <th>cyclist</th>\n",
       "      <td>0.005209</td>\n",
       "      <td>0.005210</td>\n",
       "      <td>0.005213</td>\n",
       "      <td>0.005226</td>\n",
       "      <td>0.005210</td>\n",
       "      <td>0.005209</td>\n",
       "      <td>0.005213</td>\n",
       "      <td>0.963509</td>\n",
       "    </tr>\n",
       "    <tr>\n",
       "      <th>censorship</th>\n",
       "      <td>0.773385</td>\n",
       "      <td>0.048939</td>\n",
       "      <td>0.000913</td>\n",
       "      <td>0.046385</td>\n",
       "      <td>0.033712</td>\n",
       "      <td>0.000915</td>\n",
       "      <td>0.094839</td>\n",
       "      <td>0.000913</td>\n",
       "    </tr>\n",
       "    <tr>\n",
       "      <th>computer</th>\n",
       "      <td>0.001171</td>\n",
       "      <td>0.117966</td>\n",
       "      <td>0.001170</td>\n",
       "      <td>0.001170</td>\n",
       "      <td>0.133341</td>\n",
       "      <td>0.001169</td>\n",
       "      <td>0.742844</td>\n",
       "      <td>0.001170</td>\n",
       "    </tr>\n",
       "    <tr>\n",
       "      <th>computer</th>\n",
       "      <td>0.096735</td>\n",
       "      <td>0.067008</td>\n",
       "      <td>0.000969</td>\n",
       "      <td>0.000971</td>\n",
       "      <td>0.000971</td>\n",
       "      <td>0.000971</td>\n",
       "      <td>0.831404</td>\n",
       "      <td>0.000970</td>\n",
       "    </tr>\n",
       "    <tr>\n",
       "      <th>patience</th>\n",
       "      <td>0.005685</td>\n",
       "      <td>0.005684</td>\n",
       "      <td>0.005683</td>\n",
       "      <td>0.960209</td>\n",
       "      <td>0.005685</td>\n",
       "      <td>0.005685</td>\n",
       "      <td>0.005684</td>\n",
       "      <td>0.005684</td>\n",
       "    </tr>\n",
       "    <tr>\n",
       "      <th>hibiscus</th>\n",
       "      <td>0.719268</td>\n",
       "      <td>0.008933</td>\n",
       "      <td>0.008931</td>\n",
       "      <td>0.008937</td>\n",
       "      <td>0.008946</td>\n",
       "      <td>0.227115</td>\n",
       "      <td>0.008937</td>\n",
       "      <td>0.008934</td>\n",
       "    </tr>\n",
       "  </tbody>\n",
       "</table>\n",
       "</div>"
      ],
      "text/plain": [
       "             Topic 1   Topic 2   Topic 3   Topic 4   Topic 5   Topic 6   Topic 7   Topic 8\n",
       "topic                                                                                     \n",
       "computer    0.001149  0.001147  0.001148  0.001148  0.440254  0.001149  0.552857  0.001148\n",
       "dirigibles  0.002605  0.002606  0.981761  0.002605  0.002606  0.002605  0.002605  0.002607\n",
       "mood        0.002552  0.002552  0.002552  0.002553  0.002553  0.982134  0.002553  0.002551\n",
       "mood        0.002051  0.002050  0.002050  0.002052  0.002052  0.985644  0.002051  0.002051\n",
       "cyclist     0.005209  0.005210  0.005213  0.005226  0.005210  0.005209  0.005213  0.963509\n",
       "censorship  0.773385  0.048939  0.000913  0.046385  0.033712  0.000915  0.094839  0.000913\n",
       "computer    0.001171  0.117966  0.001170  0.001170  0.133341  0.001169  0.742844  0.001170\n",
       "computer    0.096735  0.067008  0.000969  0.000971  0.000971  0.000971  0.831404  0.000970\n",
       "patience    0.005685  0.005684  0.005683  0.960209  0.005685  0.005685  0.005684  0.005684\n",
       "hibiscus    0.719268  0.008933  0.008931  0.008937  0.008946  0.227115  0.008937  0.008934"
      ]
     },
     "execution_count": 28,
     "metadata": {},
     "output_type": "execute_result"
    }
   ],
   "source": [
    "train_preds = lda_base.transform(doc_term_matrix)\n",
    "train_eval = pd.DataFrame(train_preds, columns=topic_labels, index=training_set.topic)\n",
    "train_eval.sample(10)"
   ]
  },
  {
   "cell_type": "code",
   "execution_count": 29,
   "metadata": {},
   "outputs": [
    {
     "data": {
      "image/png": "[encoded data removed]",
      "text/plain": [
       "<Figure size 720x360 with 1 Axes>"
      ]
     },
     "metadata": {},
     "output_type": "display_data"
    }
   ],
   "source": [
    "train_eval.groupby(level='topic').mean().plot.bar(title='Avg. Topic Probabilities', rot=0, colormap='tab10', figsize=(10,5));"
   ]
  },
  {
   "cell_type": "markdown",
   "metadata": {},
   "source": [
    "The baseline model was successful in that each given topic is allocated with high probability to an LDA topic:"
   ]
  },
  {
   "cell_type": "code",
   "execution_count": 30,
   "metadata": {},
   "outputs": [
    {
     "data": {
      "text/html": [
       "<div>\n",
       "<style scoped>\n",
       "    .dataframe tbody tr th:only-of-type {\n",
       "        vertical-align: middle;\n",
       "    }\n",
       "\n",
       "    .dataframe tbody tr th {\n",
       "        vertical-align: top;\n",
       "    }\n",
       "\n",
       "    .dataframe thead th {\n",
       "        text-align: right;\n",
       "    }\n",
       "</style>\n",
       "<table border=\"1\" class=\"dataframe\">\n",
       "  <thead>\n",
       "    <tr style=\"text-align: right;\">\n",
       "      <th></th>\n",
       "      <th>topic</th>\n",
       "      <th>assignment</th>\n",
       "    </tr>\n",
       "  </thead>\n",
       "  <tbody>\n",
       "    <tr>\n",
       "      <th>0</th>\n",
       "      <td>censorship</td>\n",
       "      <td>Topic 1</td>\n",
       "    </tr>\n",
       "    <tr>\n",
       "      <th>1</th>\n",
       "      <td>computer</td>\n",
       "      <td>Topic 7</td>\n",
       "    </tr>\n",
       "    <tr>\n",
       "      <th>2</th>\n",
       "      <td>cyclist</td>\n",
       "      <td>Topic 8</td>\n",
       "    </tr>\n",
       "    <tr>\n",
       "      <th>3</th>\n",
       "      <td>dirigibles</td>\n",
       "      <td>Topic 3</td>\n",
       "    </tr>\n",
       "    <tr>\n",
       "      <th>4</th>\n",
       "      <td>hibiscus</td>\n",
       "      <td>Topic 1</td>\n",
       "    </tr>\n",
       "    <tr>\n",
       "      <th>5</th>\n",
       "      <td>laughter</td>\n",
       "      <td>Topic 4</td>\n",
       "    </tr>\n",
       "    <tr>\n",
       "      <th>6</th>\n",
       "      <td>mood</td>\n",
       "      <td>Topic 6</td>\n",
       "    </tr>\n",
       "    <tr>\n",
       "      <th>7</th>\n",
       "      <td>patience</td>\n",
       "      <td>Topic 4</td>\n",
       "    </tr>\n",
       "  </tbody>\n",
       "</table>\n",
       "</div>"
      ],
      "text/plain": [
       "        topic assignment\n",
       "0  censorship    Topic 1\n",
       "1    computer    Topic 7\n",
       "2     cyclist    Topic 8\n",
       "3  dirigibles    Topic 3\n",
       "4    hibiscus    Topic 1\n",
       "5    laughter    Topic 4\n",
       "6        mood    Topic 6\n",
       "7    patience    Topic 4"
      ]
     },
     "execution_count": 30,
     "metadata": {},
     "output_type": "execute_result"
    },
    {
     "data": {
      "image/png": "[encoded data removed]",
      "text/plain": [
       "<Figure size 576x576 with 2 Axes>"
      ]
     },
     "metadata": {},
     "output_type": "display_data"
    }
   ],
   "source": [
    "df = train_eval.groupby(level='topic').agg('median')\n",
    "fig, ax = plt.subplots(figsize=(8,8))\n",
    "g = sns.heatmap(df, annot=True, fmt='.1%', annot_kws={\"size\": 10}, cmap='Blues', square=True)\n",
    "loc, labels = plt.yticks()\n",
    "g.set_yticklabels(labels, rotation=0)\n",
    "g.set_title('Topic Assignments');\n",
    "\n",
    "df = train_eval\\\n",
    "            .idxmax(axis=1)\\\n",
    "            .reset_index()\\\n",
    "            .groupby('topic', as_index=False)\\\n",
    "            .agg(lambda x:x.value_counts().index[0])\\\n",
    "            .rename(columns={0:'assignment'})\n",
    "df"
   ]
  },
  {
   "cell_type": "markdown",
   "metadata": {},
   "source": [
    "## Visualization with PyLDAVis\n",
    "\n",
    "#### Lambda\n",
    "\n",
    "- **$\\lambda$ = 0**: how probable is a word to appear in a topic - words are ranked on lift P(word | topic) / P(word)\n",
    "- **$\\lambda$ = 1**: how exclusive is a word to a topic -  words are purely ranked on P(word | topic)\n",
    "\n",
    "The ranking formula is $\\lambda * P(\\text{word} \\vert \\text{topic}) + (1 - \\lambda) * \\text{lift}$\n",
    "\n",
    "User studies suggest $\\lambda = 0.6$ works for most people."
   ]
  },
  {
   "cell_type": "code",
   "execution_count": 31,
   "metadata": {
    "scrolled": false
   },
   "outputs": [
    {
     "data": {
      "text/html": [
       "\n",
       "<link rel=\"stylesheet\" type=\"text/css\" href=\"https://cdn.rawgit.com/bmabey/pyLDAvis/files/ldavis.v1.0.0.css\">\n",
       "\n",
       "\n",
       "<div id=\"ldavis_el1146022842250645362787206531\"></div>\n",
       "<script type=\"text/javascript\">\n",
       "\n",
       "var ldavis_el1146022842250645362787206531_data = {\"mdsDat\": {\"x\": [0.07175606223644311, 0.08068894289840188, 0.10703733789857596, -0.37578474058767836, 0.07484893711937005, 0.05677954053827845, -0.10377635975169079, 0.08845027964829978], \"y\": [-0.12307604802937175, 0.07375227982007691, -0.12683295546513473, -0.015804887909771866, -0.0987446493906184, -0.08860034481376315, 0.055200835792635024, 0.32410576999594803], \"topics\": [1, 2, 3, 4, 5, 6, 7, 8], \"cluster\": [1, 1, 1, 1, 1, 1, 1, 1], \"Freq\": [25.791481326715477, 19.30042039480357, 14.366069036606946, 12.629812628324954, 8.2376094344009, 7.5193590961976575, 7.491409275776115, 4.6638388071743915]}, \"tinfo\": {\"Category\": [\"Default\", \"Default\", \"Default\", \"Default\", \"Default\", \"Default\", \"Default\", \"Default\", \"Default\", \"Default\", \"Default\", \"Default\", \"Default\", \"Default\", \"Default\", \"Default\", \"Default\", \"Default\", \"Default\", \"Default\", \"Default\", \"Default\", \"Default\", \"Default\", \"Default\", \"Default\", \"Default\", \"Default\", \"Default\", \"Default\", \"Topic1\", \"Topic1\", \"Topic1\", \"Topic1\", \"Topic1\", \"Topic1\", \"Topic1\", \"Topic1\", \"Topic1\", \"Topic1\", \"Topic1\", \"Topic1\", \"Topic1\", \"Topic1\", \"Topic1\", \"Topic1\", \"Topic1\", \"Topic1\", \"Topic1\", \"Topic1\", \"Topic1\", \"Topic1\", \"Topic1\", \"Topic1\", \"Topic1\", \"Topic1\", \"Topic1\", \"Topic1\", \"Topic1\", \"Topic1\", \"Topic1\", \"Topic1\", \"Topic1\", \"Topic1\", \"Topic1\", \"Topic1\", \"Topic1\", \"Topic1\", \"Topic1\", \"Topic1\", \"Topic1\", \"Topic1\", \"Topic1\", \"Topic1\", \"Topic1\", \"Topic1\", \"Topic1\", \"Topic1\", \"Topic1\", \"Topic1\", \"Topic1\", \"Topic1\", \"Topic1\", \"Topic1\", \"Topic1\", \"Topic1\", \"Topic1\", \"Topic1\", \"Topic1\", \"Topic1\", \"Topic1\", \"Topic1\", \"Topic2\", \"Topic2\", \"Topic2\", \"Topic2\", \"Topic2\", \"Topic2\", \"Topic2\", \"Topic2\", \"Topic2\", \"Topic2\", \"Topic2\", \"Topic2\", \"Topic2\", \"Topic2\", \"Topic2\", \"Topic2\", \"Topic2\", \"Topic2\", \"Topic2\", \"Topic2\", \"Topic2\", \"Topic2\", \"Topic2\", \"Topic2\", \"Topic2\", \"Topic2\", \"Topic2\", \"Topic2\", \"Topic2\", \"Topic2\", \"Topic2\", \"Topic2\", \"Topic2\", \"Topic2\", \"Topic2\", \"Topic2\", \"Topic2\", \"Topic2\", \"Topic2\", \"Topic2\", \"Topic2\", \"Topic2\", \"Topic2\", \"Topic2\", \"Topic2\", \"Topic2\", \"Topic2\", \"Topic2\", \"Topic2\", \"Topic2\", \"Topic2\", \"Topic2\", \"Topic2\", \"Topic2\", \"Topic2\", \"Topic2\", \"Topic2\", \"Topic2\", \"Topic2\", \"Topic2\", \"Topic2\", \"Topic2\", \"Topic2\", \"Topic2\", \"Topic2\", \"Topic2\", \"Topic2\", \"Topic2\", \"Topic2\", \"Topic2\", \"Topic2\", \"Topic2\", \"Topic2\", \"Topic2\", \"Topic2\", \"Topic2\", \"Topic2\", \"Topic2\", \"Topic3\", \"Topic3\", \"Topic3\", \"Topic3\", \"Topic3\", \"Topic3\", \"Topic3\", \"Topic3\", \"Topic3\", \"Topic3\", \"Topic3\", \"Topic3\", \"Topic3\", \"Topic3\", \"Topic3\", \"Topic3\", \"Topic3\", \"Topic3\", \"Topic3\", \"Topic3\", \"Topic3\", \"Topic3\", \"Topic3\", \"Topic3\", \"Topic3\", \"Topic3\", \"Topic3\", \"Topic3\", \"Topic3\", \"Topic3\", \"Topic3\", \"Topic3\", \"Topic3\", \"Topic3\", \"Topic3\", \"Topic3\", \"Topic3\", \"Topic3\", \"Topic3\", \"Topic3\", \"Topic3\", \"Topic3\", \"Topic3\", \"Topic3\", \"Topic3\", \"Topic3\", \"Topic3\", \"Topic3\", \"Topic3\", \"Topic3\", \"Topic3\", \"Topic3\", \"Topic3\", \"Topic3\", \"Topic3\", \"Topic3\", \"Topic3\", \"Topic3\", \"Topic3\", \"Topic3\", \"Topic3\", \"Topic3\", \"Topic3\", \"Topic3\", \"Topic3\", \"Topic3\", \"Topic3\", \"Topic3\", \"Topic4\", \"Topic4\", \"Topic4\", \"Topic4\", \"Topic4\", \"Topic4\", \"Topic4\", \"Topic4\", \"Topic4\", \"Topic4\", \"Topic4\", \"Topic4\", \"Topic4\", \"Topic4\", \"Topic4\", \"Topic4\", \"Topic4\", \"Topic4\", \"Topic4\", \"Topic4\", \"Topic4\", \"Topic4\", \"Topic4\", \"Topic4\", \"Topic4\", \"Topic4\", \"Topic4\", \"Topic4\", \"Topic4\", \"Topic4\", \"Topic4\", \"Topic4\", \"Topic4\", \"Topic4\", \"Topic4\", \"Topic4\", \"Topic4\", \"Topic4\", \"Topic4\", \"Topic4\", \"Topic4\", \"Topic4\", \"Topic4\", \"Topic4\", \"Topic4\", \"Topic4\", \"Topic4\", \"Topic4\", \"Topic4\", \"Topic4\", \"Topic4\", \"Topic4\", \"Topic5\", \"Topic5\", \"Topic5\", \"Topic5\", \"Topic5\", \"Topic5\", \"Topic5\", \"Topic5\", \"Topic5\", \"Topic5\", \"Topic5\", \"Topic5\", \"Topic5\", \"Topic5\", \"Topic5\", \"Topic5\", \"Topic5\", \"Topic5\", \"Topic5\", \"Topic5\", \"Topic5\", \"Topic5\", \"Topic5\", \"Topic5\", \"Topic5\", \"Topic5\", \"Topic5\", \"Topic5\", \"Topic5\", \"Topic5\", \"Topic5\", \"Topic5\", \"Topic5\", \"Topic5\", \"Topic5\", \"Topic5\", \"Topic5\", \"Topic5\", \"Topic5\", \"Topic5\", \"Topic5\", \"Topic5\", \"Topic5\", \"Topic5\", \"Topic5\", \"Topic5\", \"Topic5\", \"Topic5\", \"Topic5\", \"Topic5\", \"Topic5\", \"Topic5\", \"Topic5\", \"Topic5\", \"Topic5\", \"Topic5\", \"Topic5\", \"Topic5\", \"Topic5\", \"Topic5\", \"Topic5\", \"Topic5\", \"Topic5\", \"Topic5\", \"Topic6\", \"Topic6\", \"Topic6\", \"Topic6\", \"Topic6\", \"Topic6\", \"Topic6\", \"Topic6\", \"Topic6\", \"Topic6\", \"Topic6\", \"Topic6\", \"Topic6\", \"Topic6\", \"Topic6\", \"Topic6\", \"Topic6\", \"Topic6\", \"Topic6\", \"Topic6\", \"Topic6\", \"Topic6\", \"Topic6\", \"Topic6\", \"Topic6\", \"Topic6\", \"Topic6\", \"Topic6\", \"Topic6\", \"Topic6\", \"Topic6\", \"Topic6\", \"Topic6\", \"Topic6\", \"Topic6\", \"Topic6\", \"Topic6\", \"Topic6\", \"Topic6\", \"Topic6\", \"Topic6\", \"Topic6\", \"Topic6\", \"Topic6\", \"Topic6\", \"Topic6\", \"Topic6\", \"Topic6\", \"Topic6\", \"Topic6\", \"Topic6\", \"Topic6\", \"Topic6\", \"Topic6\", \"Topic6\", \"Topic6\", \"Topic7\", \"Topic7\", \"Topic7\", \"Topic7\", \"Topic7\", \"Topic7\", \"Topic7\", \"Topic7\", \"Topic7\", \"Topic7\", \"Topic7\", \"Topic7\", \"Topic7\", \"Topic7\", \"Topic7\", \"Topic7\", \"Topic7\", \"Topic7\", \"Topic7\", \"Topic7\", \"Topic7\", \"Topic7\", \"Topic7\", \"Topic7\", \"Topic7\", \"Topic7\", \"Topic7\", \"Topic7\", \"Topic7\", \"Topic7\", \"Topic7\", \"Topic7\", \"Topic7\", \"Topic7\", \"Topic7\", \"Topic7\", \"Topic7\", \"Topic7\", \"Topic7\", \"Topic7\", \"Topic7\", \"Topic7\", \"Topic7\", \"Topic7\", \"Topic7\", \"Topic7\", \"Topic7\", \"Topic7\", \"Topic7\", \"Topic7\", \"Topic7\", \"Topic7\", \"Topic7\", \"Topic7\", \"Topic7\", \"Topic7\", \"Topic7\", \"Topic7\", \"Topic7\", \"Topic7\", \"Topic8\", \"Topic8\", \"Topic8\", \"Topic8\", \"Topic8\", \"Topic8\", \"Topic8\", \"Topic8\", \"Topic8\", \"Topic8\", \"Topic8\", \"Topic8\", \"Topic8\", \"Topic8\", \"Topic8\", \"Topic8\", \"Topic8\", \"Topic8\", \"Topic8\", \"Topic8\", \"Topic8\", \"Topic8\", \"Topic8\", \"Topic8\", \"Topic8\", \"Topic8\", \"Topic8\", \"Topic8\", \"Topic8\", \"Topic8\", \"Topic8\", \"Topic8\", \"Topic8\", \"Topic8\", \"Topic8\", \"Topic8\", \"Topic8\", \"Topic8\", \"Topic8\", \"Topic8\", \"Topic8\", \"Topic8\", \"Topic8\", \"Topic8\"], \"Freq\": [20459.0, 13892.0, 7777.0, 6250.0, 4649.0, 4307.0, 3450.0, 3904.0, 7502.0, 3989.0, 4648.0, 2464.0, 3443.0, 2889.0, 5073.0, 2581.0, 3709.0, 2978.0, 3614.0, 1905.0, 2172.0, 3266.0, 2571.0, 2427.0, 1952.0, 2375.0, 2388.0, 2376.0, 2322.0, 3293.0, 5073.101666794062, 3292.8483529286136, 2254.450078115149, 2140.394741859809, 1980.7175793252154, 1836.9087982753401, 1422.3428789264315, 1148.6102812720121, 820.3296857492816, 684.4548649462706, 373.03476960419596, 332.3713396499431, 228.23433193524622, 223.27540857897299, 2898.6448544686814, 202.44793084556485, 197.48898255057216, 498.1645607204922, 2759.77518008278, 133.02304347144738, 128.06409497739864, 124.09673404080841, 257.9612585913149, 1045.5356863355082, 112.19537852766892, 601.7796370778298, 97.31867297133465, 93.35161256364646, 89.38431388381045, 192.42211085300144, 7330.093978655566, 13358.762261243339, 777.7433621723358, 1434.582093501369, 449.18136749497404, 399.195335211002, 4145.944547867875, 828.4239899762076, 1063.2965438523468, 2497.132355070101, 5262.276458484105, 1799.727499513262, 803.3854382400057, 739.0597994425234, 2904.47403741603, 4368.284964568868, 772.0655300728381, 1924.9118630154735, 2086.0958668549038, 1809.2340860194145, 1592.4542314765588, 1821.5975146296346, 2000.7467349377446, 1381.8150881376732, 1092.0282108313236, 1068.4945543785345, 1510.109833203271, 1448.1572120482097, 1317.156353119678, 1260.5429919872195, 1290.936669171758, 1269.4879399386602, 4647.271707938316, 3265.3647992305046, 2460.4958574531065, 1489.479852558859, 596.0651266986436, 241.88276921458117, 154.3319665483857, 150.35304993662928, 149.35790907407016, 133.4396729674675, 128.46540594757306, 126.4754125452783, 81.70535373738974, 81.70532168965053, 79.71524576392022, 78.72062191052136, 78.72034582813788, 76.73066433463278, 75.7360628704754, 73.74626075327335, 63.797077916318045, 60.81247175168179, 58.822744190441206, 113.53931773019255, 114.4520329812711, 50.8639225036437, 128.12326254818484, 49.86886882472185, 49.86870949472781, 48.873970756443875, 2916.0009274106756, 265.79269909727657, 98.67319954520325, 96.60822342442009, 2067.0888829865007, 1182.2511167454536, 913.4453397381118, 845.6003794993501, 691.5412570645694, 225.66694957881882, 816.149009356815, 275.93137876122324, 135.64887611133565, 409.426220825949, 181.41811330877778, 145.91224628570956, 414.49434621544907, 420.30895106620534, 651.2886015769362, 800.5062700851389, 346.72549390755637, 892.6353170452072, 469.5130742171171, 1227.3434249099573, 1276.2832507301325, 731.588513130496, 2036.02556178762, 571.1681087350381, 1002.1293685206545, 2080.0084706163207, 942.4515814888674, 1624.5915665538232, 906.471095929262, 1073.4655162862432, 1103.9188513485428, 950.6999509559131, 680.0255075373972, 730.9594336995324, 878.0743923916061, 1317.6450186572997, 914.218532227504, 1294.0121162634105, 1107.8942205816954, 1150.4786111427152, 890.2251795965267, 937.1267324538204, 898.9987414789437, 893.987331401672, 975.7606970937507, 266.57171390160295, 140.36007736011194, 81.26088438560913, 50.208951170780615, 49.20738907392445, 47.20400032278923, 138.09248945300192, 54.88751214228894, 187.69382527415553, 662.0948438088103, 48.909521449164814, 253.43351751540135, 92.37264467528033, 140.71516360743283, 53.66161024243834, 45.152832417063365, 429.7563720264615, 190.4218147731416, 52.35839320185377, 48.12183114033862, 788.467125995345, 416.5120441198349, 96.71717613335774, 229.6410205232765, 190.94004194943255, 55.874963053883974, 335.525698479379, 481.88015434907135, 362.1185124362962, 884.5021977773919, 462.87423681244496, 1531.8906634458615, 1411.8537673061803, 850.3450605528401, 676.4021136730943, 1206.3847649664845, 280.34564476927096, 12266.06600334665, 913.7512429949627, 596.9740389291155, 420.3734872757406, 3173.3158104890063, 1338.902922727126, 2440.498532493095, 1120.0512919500918, 381.726025998885, 877.4297981388589, 513.4114147220221, 1131.3794832367882, 790.850918769141, 667.381071855458, 2070.8042770095876, 1002.4832473383851, 764.2391033096322, 1076.6496410643858, 659.5898904373474, 1313.09712207395, 1239.9553895335578, 1207.479494708858, 720.3020861525973, 1238.6943680965112, 1057.193171958776, 915.772793847189, 985.8393039198423, 1038.9489128316527, 891.4280774602762, 840.6065540477289, 6249.961724796936, 3442.2659204062206, 2977.1385845121963, 2570.7746684336003, 2387.51245777508, 2321.7771772187784, 1368.6147509519112, 868.627772134419, 846.715947769345, 789.9445624818662, 765.044743321116, 651.5019505925807, 561.8628527649053, 558.8748029048916, 423.42012986514413, 417.4443055976519, 412.46435527331374, 898.2822523303126, 362.66463977506567, 322.82525325269506, 320.83324126870235, 314.85715795695023, 312.86534411835424, 296.9292082968804, 257.08991414004413, 245.1380345629191, 231.19417142135862, 209.28239584888018, 198.32630164998324, 192.3504300289836, 3922.229953075689, 1989.974905694369, 347.53585110354254, 362.6185224096233, 7466.580636450003, 611.3509487810494, 1174.6934804724183, 1335.4456031432835, 716.6068897106268, 617.1913045681586, 833.5814134316888, 753.2292230018073, 1561.57305338355, 2412.5120832155435, 799.3631174268828, 854.4261398421853, 698.5211133443285, 925.5814112358422, 1457.137284473018, 1331.4613220824574, 851.289250924839, 746.4475223099356, 1645.0293498857604, 288.7407813436347, 218.10102792008678, 184.79926653733546, 94.98545941698515, 82.87555454041134, 73.79332236024256, 49.57397317469463, 145.41778577053938, 52.35213052902089, 90.41832823138272, 383.33596320400454, 193.20307927843515, 76.56125117912508, 55.02911081047401, 59.740619714654436, 93.44486509598033, 136.3965417580455, 150.97622055589693, 2054.745941163401, 45.360304490235876, 93.34466713097312, 336.80936958423626, 50.535499795280415, 59.61821305457535, 72.45029152828123, 67.46876761213498, 37.74974275936271, 37.33413621293409, 401.4516466373638, 244.76872424930247, 220.4157451172945, 396.1495201196217, 945.9880928141953, 8192.979481272554, 855.7919064704615, 227.054567911945, 620.0353242872726, 537.6104049229572, 495.1613122143333, 275.64544893861955, 809.623354930588, 1109.2227198905089, 286.12148389606267, 949.8833774344795, 677.4233599772822, 652.8110889712062, 518.9640295039585, 784.731794896608, 498.73270182004023, 330.986329921881, 416.0968386527397, 682.5278104894737, 526.6287735649239, 553.8482169614194, 447.8319560455208, 382.22608213642053, 316.81957092230533, 362.0117789336048, 338.13306495150806, 362.4983763319009, 362.9979436951356, 353.36180625315245, 342.1559133001972, 4306.581416085522, 2580.620392742128, 1951.6430821168597, 1640.6321014941589, 1171.6317160309113, 738.4024708084457, 634.0696760015951, 354.8554742091913, 345.9126027727912, 340.9440628335647, 262.4463607169936, 232.6370931292875, 192.89131991515802, 184.94207146857303, 173.0184395916659, 173.01841515958668, 153.14554071021584, 140.2281537431641, 132.278993303057, 131.28520954771636, 128.30409622351652, 123.33616715892549, 120.3549561279039, 118.36784469098652, 117.37365500427013, 112.40591153733716, 109.42478564919696, 108.43146776532795, 106.44421721052767, 105.45056502315039, 378.3539928195161, 1944.393691214454, 425.14570603468627, 2539.8338268811594, 525.2940025675864, 328.5089150132579, 1511.4027543661778, 469.09865263900554, 535.601143095772, 296.03346437948113, 1145.553615821127, 299.09611254685854, 499.2798177053468, 1063.8074923881775, 447.45332789416193, 429.22941937495625, 567.3406940988737, 378.82602065132926, 599.5159543076807, 684.8151317609376, 426.95079448670043, 529.9758382100531, 469.09134556528346, 431.39206848242543, 438.7221818039654, 417.9045945282471, 3903.593944058445, 2171.8148251611346, 1416.4008161548186, 909.8058492105233, 600.2751124348678, 442.02658862102385, 398.2343803115743, 396.24394412966956, 358.4232414180661, 309.65500981438163, 265.86289845638464, 259.8912445667572, 241.97628884540637, 208.13655899405597, 172.3070237738076, 167.3306098933198, 153.39678127652232, 138.46766449594668, 131.50054557972493, 129.51012875787595, 126.52406799523722, 112.59026454488145, 112.59013142522274, 457.731017537257, 93.68027946826153, 82.73191190850847, 81.73679894358574, 79.74591860541861, 70.788835930596, 66.80779235910019, 340.9223800278022, 919.9166509578733, 221.3911864037126, 626.5646800096303, 2693.858145866417, 1187.5478967469871, 2088.2221807002725, 256.5002490498573, 225.3955987868245, 887.6809191699297, 194.34288753588675, 569.5707692071942, 766.924836978328, 367.75057877958403, 447.64142798993, 263.1646451271351, 397.66068392872035, 546.2658462170649, 299.1816306912245, 321.89793559596893, 444.81879807788545, 617.2667292774015, 467.4458400956687, 370.996053640803, 310.1035885869321, 321.54939225881026, 354.9348818647189, 400.675173327872, 386.5005559320401, 380.1903433450125, 2464.07059176197, 1904.223528163824, 1339.2495925337182, 954.7392054071638, 704.551103852907, 606.1164898228498, 587.6597492008653, 551.7723024480739, 339.52258295201847, 338.4972241759402, 294.4067216966395, 290.3051391107572, 286.2038452231713, 179.56627945297944, 124.19678800467918, 123.17141808546144, 108.81636753762002, 94.46132432914459, 90.35973674369728, 80.1062656055492, 67.80193796088408, 50.37079264089971, 3283.128967310615, 1364.8648996433133, 3705.1800649257802, 35.24724441335786, 31.588466947516302, 454.04046948328784, 129.84054552590277, 27.797401752187533, 1037.2185864310748, 1373.2865648699226, 71.87121138008212, 327.8420056340192, 387.2798201767673, 167.36996147117495, 212.28303999959135, 250.757531493991, 178.87260755042112, 188.8086377903327, 214.09915073554043, 154.0703797140462, 145.75546284545396, 150.40043234864902], \"Term\": [\"computer\", \"book\", \"building\", \"dirigible\", \"caps3\", \"mood\", \"caps4\", \"cyclist\", \"library\", \"obstacle\", \"laugh\", \"caps5\", \"empire\", \"water\", \"offensive\", \"memoir\", \"love\", \"mast\", \"person1\", \"caps6\", \"setting\", \"patient\", \"builder\", \"affect\", \"narcs\", \"spend\", \"dock\", \"create\", \"mooring\", \"shelf\", \"offensive\", \"shelf\", \"sang\", \"remove\", \"hibiscus\", \"censorship\", \"censor\", \"offend\", \"geese\", \"bud\", \"vow\", \"violence\", \"katherine\", \"paterson\", \"material\", \"librarian\", \"vietnam\", \"melt\", \"magazine\", \"retake\", \"sangs\", \"mining\", \"literature\", \"spring\", \"genre\", \"freedom\", \"profanity\", \"slavery\", \"uncensored\", \"ho\", \"library\", \"book\", \"flower\", \"conclude\", \"appropriate\", \"medium\", \"movie\", \"section\", \"plant\", \"test\", \"read\", \"certain\", \"winter\", \"inappropriate\", \"music\", \"child\", \"public\", \"month1\", \"right\", \"believe\", \"different\", \"person\", \"kid\", \"watch\", \"listen\", \"age\", \"paragraph\", \"bad\", \"world\", \"try\", \"reason\", \"feel\", \"laugh\", \"patient\", \"laughter\", \"patience\", \"joke\", \"bus\", \"boyfriend\", \"giggle\", \"ice\", \"asleep\", \"patiently\", \"stomach\", \"funniest\", \"pant\", \"deer\", \"shower\", \"cream\", \"coaster\", \"roller\", \"laughing\", \"tolerant\", \"wet\", \"puppy\", \"impatient\", \"shot\", \"dentist\", \"clock\", \"van\", \"skate\", \"pee\", \"wait\", \"ibm\", \"hug\", \"hilarious\", \"mom\", \"dad\", \"brother\", \"funny\", \"smile\", \"seat\", \"sister\", \"wake\", \"truck\", \"cry\", \"dance\", \"red\", \"moment\", \"time1\", \"relationship\", \"minute\", \"team\", \"line\", \"night\", \"sit\", \"hour\", \"car\", \"start\", \"didn\", \"walk\", \"tell\", \"date1\", \"person1\", \"finally\", \"long\", \"little\", \"ask\", \"girl\", \"ride\", \"fun\", \"feel\", \"year\", \"look\", \"try\", \"talk\", \"hard\", \"school\", \"play\", \"lot\", \"coordination\", \"faraway\", \"google\", \"keyboard\", \"textbook\", \"earthquake\", \"skype\", \"typing\", \"dictionary\", \"cam\", \"communicate\", \"reconnect\", \"program\", \"update\", \"assignment\", \"efficient\", \"convenient\", \"communication\", \"tool\", \"application\", \"easier\", \"research\", \"email\", \"engine\", \"improve\", \"instant\", \"handy\", \"mail\", \"helpful\", \"web\", \"benefit\", \"touch\", \"information\", \"online\", \"website\", \"chat\", \"internet\", \"useful\", \"computer\", \"positive\", \"project\", \"search\", \"help\", \"hand\", \"learn\", \"society\", \"business\", \"easy\", \"paper\", \"eye\", \"student\", \"technology\", \"talk\", \"type\", \"teach\", \"effect\", \"job\", \"place\", \"world\", \"school\", \"dear\", \"reason\", \"great\", \"game\", \"work\", \"look\", \"allow\", \"lot\", \"dirigible\", \"empire\", \"mast\", \"builder\", \"dock\", \"mooring\", \"hydrogen\", \"flammable\", \"york\", \"airship\", \"urban\", \"blimp\", \"helium\", \"architect\", \"populated\", \"tether\", \"moor\", \"frame\", \"pedestrian\", \"hindenburg\", \"smith\", \"modify\", \"densely\", \"steel\", \"modification\", \"marcia\", \"docking\", \"framework\", \"german\", \"transmit\", \"obstacle\", \"wind\", \"landing\", \"swivel\", \"building\", \"shift\", \"attempt\", \"law\", \"highly\", \"ship\", \"safety\", \"current\", \"area\", \"face\", \"stress\", \"low\", \"violent\", \"fly\", \"allow\", \"problem\", \"air\", \"nature\", \"exercise\", \"addict\", \"obesity\", \"obese\", \"addiction\", \"virus\", \"addicted\", \"predator\", \"unhealthy\", \"cuber\", \"overweight\", \"health\", \"lazy\", \"excessive\", \"outdoors\", \"bullying\", \"bully\", \"fat\", \"active\", \"spend\", \"distraction\", \"interaction\", \"healthy\", \"spending\", \"outdoor\", \"usage\", \"distract\", \"depression\", \"suicide\", \"interact\", \"screen\", \"activity\", \"negative\", \"outside\", \"computer\", \"nature\", \"waste\", \"enjoy\", \"dear\", \"instead\", \"social\", \"play\", \"kid\", \"percent1\", \"bad\", \"effect\", \"game\", \"hour\", \"reason\", \"sit\", \"technology\", \"stay\", \"child\", \"lot\", \"talk\", \"problem\", \"online\", \"newspaper\", \"fun\", \"internet\", \"away\", \"person\", \"world\", \"month1\", \"mood\", \"memoir\", \"narcs\", \"grateful\", \"rodriguez\", \"cuban\", \"sacrifice\", \"cuba\", \"immigrant\", \"cooking\", \"loving\", \"gratitude\", \"gratefulness\", \"passionate\", \"blueprints\", \"celebration\", \"selflessly\", \"culinary\", \"solidarity\", \"congregation\", \"warmth\", \"backdrop\", \"instill\", \"admiration\", \"perseverance\", \"courageous\", \"caring\", \"eternally\", \"generosity\", \"encompass\", \"thankful\", \"create\", \"neighborhood\", \"love\", \"happiness\", \"childhood\", \"happy\", \"warm\", \"describe\", \"blood\", \"house\", \"kitchen\", \"culture\", \"paragraph\", \"simple\", \"forget\", \"live\", \"care\", \"great\", \"talk\", \"grow\", \"feel\", \"tell\", \"example\", \"music\", \"child\", \"cyclist\", \"setting\", \"feature\", \"desert\", \"heat\", \"terrain\", \"california\", \"june\", \"snake\", \"dehydrate\", \"kurmaskie\", \"yosemite\", \"rolling\", \"factory\", \"dehydration\", \"dehydrated\", \"joe\", \"heatstroke\", \"pedal\", \"thirst\", \"battery\", \"acid\", \"cycle\", \"exceed\", \"tumbleweed\", \"ridiculously\", \"rider\", \"stroke\", \"biker\", \"bumpy\", \"journey\", \"hill\", \"thirsty\", \"rough\", \"water\", \"road\", \"affect\", \"pump\", \"abandon\", \"hot\", \"juice\", \"speed\", \"town\", \"ahead\", \"post\", \"dry\", \"bike\", \"limit\", \"sun\", \"direction\", \"man\", \"old\", \"ride\", \"rid\", \"drink\", \"travel\", \"set\", \"example\", \"effect\", \"feel\", \"caps5\", \"caps6\", \"caps7\", \"caps8\", \"caps9\", \"caps11\", \"person3\", \"caps10\", \"caps12\", \"caps13\", \"caps14\", \"person4\", \"caps15\", \"caps16\", \"caps18\", \"caps17\", \"caps21\", \"caps19\", \"person5\", \"caps20\", \"caps22\", \"caps24\", \"caps4\", \"person2\", \"caps3\", \"glance\", \"hello\", \"organization2\", \"reply\", \"said\", \"organization1\", \"person1\", \"organization3\", \"ask\", \"look\", \"location2\", \"date1\", \"location1\", \"man\", \"walk\", \"love\", \"begin\", \"run\", \"face\"], \"Total\": [20459.0, 13892.0, 7777.0, 6250.0, 4649.0, 4307.0, 3450.0, 3904.0, 7502.0, 3989.0, 4648.0, 2464.0, 3443.0, 2889.0, 5073.0, 2581.0, 3709.0, 2978.0, 3614.0, 1905.0, 2172.0, 3266.0, 2571.0, 2427.0, 1952.0, 2375.0, 2388.0, 2376.0, 2322.0, 3293.0, 5073.978725993901, 3293.725538811122, 2255.327156399382, 2141.2719406025963, 1981.594632212334, 1837.7858803407235, 1423.2199563179424, 1149.4874334073447, 821.2067591182401, 685.3322871920221, 373.91194691787774, 333.24878776655976, 229.11140999530477, 224.15248745821899, 2910.944949974289, 203.32501285985015, 198.36608884504238, 500.8660680123521, 2775.2033342051163, 133.90009566893102, 128.9411731718527, 124.97404092779713, 259.8745551536936, 1053.3058830863104, 113.07262403249102, 607.0138622289514, 98.1958564263114, 94.22871788771802, 90.26158191545102, 194.40282747546001, 7502.570507409226, 13892.23695716039, 795.5911867201871, 1491.1094460467057, 460.3497781447353, 408.7020906804571, 4475.9679254498915, 869.9162402454757, 1129.1685304322857, 2761.968429907069, 6089.034914588303, 1992.0120979265437, 857.1854480213874, 795.3720708590129, 3584.901166428925, 5731.350127661245, 871.5342586813721, 2905.482741744743, 3285.3424383666998, 3101.000349285713, 2638.3031359225133, 3448.5109708034083, 4054.6430447059497, 2215.78364456789, 1493.1170098274035, 1448.305937700689, 3100.6173364298097, 3786.1867388594383, 3341.4036936545363, 3338.5001854545308, 4305.799202738168, 3856.6710465938854, 4648.148688812487, 3266.2415634526787, 2461.3726929089767, 1490.3565993148843, 596.9422055014235, 242.76011164278972, 155.20948397735188, 151.2299019766754, 150.23500953333746, 134.31671415748292, 129.34224404410077, 127.35245905873451, 82.58224832792972, 82.58224785018547, 80.59246116566224, 79.5975687365083, 79.59757225800003, 77.60777823481764, 76.61288487981399, 74.62309725978427, 64.67415907967687, 61.68948455898733, 59.699697478630526, 115.4148326542966, 116.41598940314495, 51.740542126154146, 130.35628777858543, 50.745651128568596, 50.74565239068495, 49.75075980851345, 2982.2764613601203, 271.61391687839927, 100.51912131697047, 98.50093489465002, 2174.8072444886593, 1240.1490321826093, 957.5067555514395, 895.4971049394, 732.6826112205274, 233.9635370348072, 883.5026859924665, 298.04244304586143, 141.39526365955825, 460.9327172156984, 193.05504338277638, 153.3117895096495, 471.60231554270985, 486.1110376578947, 791.9870968070965, 1022.1616310057346, 403.415479959698, 1180.7138418468578, 588.9128742932428, 1866.3319018062416, 1970.9478696865674, 1034.6301901808768, 3685.3525935566145, 775.9586667316913, 1583.0918077216431, 3977.532308114809, 1494.9513972763366, 3614.935075584916, 1612.3417964738182, 2093.532557348062, 2229.2458757624004, 1807.944100964003, 1090.0343061883796, 1240.660025582234, 1743.850628673285, 3856.6710465938854, 1957.5291030302274, 4309.1138235342505, 3338.5001854545308, 4974.16536004499, 2061.555659006628, 3250.7380264252447, 2519.9086299514597, 3766.3487487952502, 976.6365930432929, 267.4476621620101, 141.2360733209967, 82.1369968915374, 51.084938214774155, 50.08325687085437, 48.07989899181, 143.27125658558478, 57.12648080051445, 195.37709695083754, 691.2569560988017, 51.07613735774226, 266.4507066134153, 97.16687947498407, 149.43055490154714, 57.075234520252955, 48.06602624579671, 467.0748534489015, 207.3105672609345, 57.154490548273266, 53.06174808929041, 871.8937028819693, 461.0950367209748, 107.11404620080529, 257.38297570100843, 214.49166506636934, 63.08263158480297, 384.74494336539146, 557.6843818462672, 419.11632985330573, 1056.8128702200115, 551.326346533645, 1944.902759624704, 1794.8296788511634, 1061.3300155682543, 834.610536961713, 1562.9393320502186, 330.52830481095384, 20459.795200398665, 1222.8604643808847, 766.1836878230796, 530.166296884258, 5199.401085294033, 1990.8337920148565, 4102.704781060302, 1732.1611701952793, 480.8856255567184, 1330.2284303679698, 700.3385282417499, 1900.9958402386626, 1239.9266690765198, 999.1173400979749, 4974.16536004499, 1818.1383449637474, 1312.5825303595689, 2263.2714783365136, 1070.5658393280326, 3370.704269228662, 3341.4036936545363, 3250.7380264252447, 1271.967949342838, 4305.799202738168, 3172.851337310015, 2314.76869061123, 3112.7966206138267, 4309.1138235342505, 3129.5303711408837, 3766.3487487952502, 6250.83820202156, 3443.1424007948, 2978.0150722977087, 2571.6511535420173, 2388.3889947048892, 2322.6536543030643, 1369.4912272754746, 869.5042488455525, 847.5924689858278, 790.8210390937926, 765.9212892910095, 652.3784295461738, 562.7393298127068, 559.7513603106115, 424.29672046207196, 418.3207802196681, 413.3408302435654, 900.4159452845419, 363.54133198851804, 323.7017305583563, 321.7097507689828, 315.73381181928437, 313.741830541211, 297.80599286066087, 257.96639074214556, 246.01451077327815, 232.07065087178168, 210.1588708595797, 199.20298231680422, 193.2270411625753, 3989.89294750287, 2016.1938993565434, 349.6324180254131, 365.53107510584954, 7777.468239178764, 620.7508854303086, 1232.0192686791208, 1497.7480262639062, 764.8785966590664, 652.4888044015033, 907.1263680172485, 819.1169458494967, 1988.3497878688866, 3492.7021037515733, 961.5816820392641, 1048.0396834630728, 816.2214137341691, 1182.222195523539, 3129.5303711408837, 2804.4262889213687, 1384.472250938791, 1677.2295013931591, 1645.9045077313233, 289.61594682986396, 218.9759189138996, 185.67419096106894, 95.8604379865028, 83.75071744753694, 74.66842996169208, 50.4489930308857, 151.31159716312442, 54.476256622565835, 94.90846774511121, 402.7142127456313, 202.97026517872268, 80.67811953690929, 58.50277992387664, 63.51707123791839, 99.84335718435409, 146.30670370351666, 162.3853984661983, 2375.5476693458486, 53.35977567674401, 109.85246367011906, 398.8551982598279, 61.41511690530743, 72.48170417676866, 103.55814990084093, 96.44841060753618, 54.23387144809367, 54.216141746519476, 594.9600980471673, 365.7471834046142, 334.62889256749816, 626.4951856883715, 1693.032309534904, 20459.795200398665, 1677.2295013931591, 370.32653224672856, 1463.2656220013564, 1271.967949342838, 1211.9819502294279, 543.9456250370436, 2519.9086299514597, 4054.6430447059497, 597.0527589907489, 3786.1867388594383, 2263.2714783365136, 2314.76869061123, 1970.9478696865674, 4305.799202738168, 1866.3319018062416, 999.1173400979749, 1719.4252372565186, 5731.350127661245, 3766.3487487952502, 4974.16536004499, 2804.4262889213687, 1794.8296788511634, 926.0870720127391, 1743.850628673285, 1562.9393320502186, 2875.9116214937976, 3448.5109708034083, 3341.4036936545363, 2905.482741744743, 4307.458632013637, 2581.4971721220686, 1952.519853977148, 1641.5089534997212, 1172.508488071662, 739.2792454159177, 634.946515897159, 355.73225535094804, 346.78945073015024, 341.8212294552371, 263.3232678886011, 233.51391385429858, 193.76811171562167, 185.81895174306996, 173.89521067104712, 173.89521072097912, 154.0223095939061, 141.10492395639793, 133.1557635398445, 132.16212084242747, 129.18118652076498, 124.21295829136425, 121.23202373173761, 119.24473420673203, 118.25108948999838, 113.28286339748136, 110.30193086777636, 109.30828232899532, 107.32099212310538, 106.32734709506774, 387.5393308359039, 2376.8255609700154, 485.3762634121261, 3709.2391009821213, 649.0117047117176, 388.7030651436482, 2543.5710711872985, 633.7884112291616, 758.3669497233822, 372.21072137458003, 2421.1196112204943, 397.07118644232963, 811.9743204027144, 3100.6173364298097, 808.3194522479494, 1024.4122326445843, 2126.1258249930593, 909.8261567744377, 3172.851337310015, 4974.16536004499, 1337.8804869285648, 3856.6710465938854, 3977.532308114809, 2746.2129990419267, 3584.901166428925, 5731.350127661245, 3904.470512069116, 2172.6915734245626, 1417.2776584440833, 910.682554348804, 601.1519514845193, 442.9031836763744, 399.11107359161525, 397.1205219969864, 359.30006679856024, 310.53157506644305, 266.7394639578465, 260.76781245617354, 242.85285793895142, 209.0135036725734, 173.18359022404894, 168.20721478787837, 154.27336042442425, 139.34423163861237, 132.37730791741083, 130.38675513305208, 127.40093068814997, 113.46707888641565, 113.46707908196899, 461.8580815589956, 94.55684525763503, 83.60882318663927, 82.61354520618347, 80.6229996716654, 71.66551405720357, 67.6844141996709, 347.5247496697807, 949.4872862416153, 225.93177892998276, 649.9118234329867, 2889.2151439707964, 1315.4741162166774, 2427.9888104949437, 267.73078133975434, 236.95555682424, 1047.6884079328568, 204.0337444246534, 685.0703784263059, 1049.5342588101278, 438.22746880221564, 563.3852607707654, 293.6005597394819, 564.9413592973957, 943.3156941596399, 415.5101010659825, 486.7930865559047, 1038.3742467194122, 2320.0737805939866, 1240.660025582234, 702.3294845264072, 458.78612402252173, 570.572016145695, 1080.8396994650461, 2746.2129990419267, 2263.2714783365136, 3856.6710465938854, 2464.94385177644, 1905.0966560120437, 1340.1226528876489, 955.6122154144463, 705.4240904295457, 606.9894195798837, 588.5329124539927, 552.64527646232, 340.39551512354456, 339.37015391288116, 295.27962445898265, 291.1781762973052, 287.0767354053105, 180.43917359833372, 125.0696707983593, 124.04430934594022, 109.68925313874402, 95.33419706886646, 91.23274905576433, 80.97914061968486, 68.6748068666663, 51.24366668627923, 3450.8542237430706, 1507.0038281871, 4649.370655765774, 53.76083077254738, 53.73129010942155, 784.8913889766428, 242.74600959167958, 52.56248432420436, 2571.3680953007374, 3614.935075584916, 153.8385867462375, 1807.944100964003, 4309.1138235342505, 782.7579843483426, 1494.9513972763366, 2498.985608538947, 1038.3742467194122, 1583.0918077216431, 3709.2391009821213, 1026.9311098335083, 1452.0108929703892, 3492.7021037515733], \"loglift\": [30.0, 29.0, 28.0, 27.0, 26.0, 25.0, 24.0, 23.0, 22.0, 21.0, 20.0, 19.0, 18.0, 17.0, 16.0, 15.0, 14.0, 13.0, 12.0, 11.0, 10.0, 9.0, 8.0, 7.0, 6.0, 5.0, 4.0, 3.0, 2.0, 1.0, 1.355, 1.3549, 1.3547, 1.3547, 1.3547, 1.3546, 1.3545, 1.3544, 1.3541, 1.3538, 1.3528, 1.3525, 1.3513, 1.3512, 1.3509, 1.3508, 1.3507, 1.3497, 1.3496, 1.3486, 1.3483, 1.3481, 1.3477, 1.3477, 1.3473, 1.3465, 1.3462, 1.3458, 1.3454, 1.3449, 1.3319, 1.316, 1.3324, 1.3165, 1.3306, 1.3316, 1.2785, 1.3063, 1.295, 1.2543, 1.2092, 1.2536, 1.2903, 1.2817, 1.1446, 1.0835, 1.2339, 0.9434, 0.9009, 0.8163, 0.8503, 0.7169, 0.6488, 0.8829, 1.0423, 1.051, 0.6357, 0.3941, 0.4242, 0.3811, 0.1505, 0.2439, 1.6449, 1.6448, 1.6447, 1.6445, 1.6436, 1.6414, 1.6394, 1.6392, 1.6392, 1.6385, 1.6382, 1.6381, 1.6344, 1.6344, 1.6341, 1.634, 1.634, 1.6337, 1.6335, 1.6332, 1.6314, 1.6307, 1.6302, 1.6287, 1.628, 1.628, 1.6278, 1.6276, 1.6276, 1.6273, 1.6226, 1.6234, 1.6265, 1.6256, 1.5942, 1.5972, 1.5979, 1.5877, 1.5873, 1.6089, 1.5657, 1.568, 1.6036, 1.5265, 1.5829, 1.5956, 1.516, 1.4996, 1.4495, 1.4006, 1.4936, 1.3653, 1.4185, 1.2259, 1.2105, 1.2985, 1.0517, 1.3386, 1.1878, 0.9968, 1.1837, 0.8452, 1.0692, 0.9771, 0.9422, 1.0023, 1.1732, 1.116, 0.9589, 0.5711, 0.8837, 0.4421, 0.542, 0.181, 0.8053, 0.4012, 0.6143, 0.2069, 1.9394, 1.937, 1.9341, 1.9296, 1.923, 1.9227, 1.9219, 1.9035, 1.9003, 1.9002, 1.8972, 1.897, 1.8902, 1.8897, 1.8802, 1.8786, 1.8778, 1.857, 1.8553, 1.8527, 1.8426, 1.8397, 1.8386, 1.8382, 1.8263, 1.824, 1.819, 1.8034, 1.7942, 1.7941, 1.7623, 1.7654, 1.7016, 1.7003, 1.7187, 1.7301, 1.6814, 1.7756, 1.4287, 1.6489, 1.6908, 1.7083, 1.4465, 1.5436, 1.4209, 1.5043, 1.7094, 1.5242, 1.6298, 1.4214, 1.4906, 1.5368, 1.064, 1.345, 1.3994, 1.1973, 1.456, 0.9976, 0.949, 0.95, 1.3717, 0.6944, 0.8413, 1.013, 0.7905, 0.5178, 0.6845, 0.4406, 2.069, 2.0689, 2.0688, 2.0688, 2.0687, 2.0687, 2.0685, 2.0681, 2.0681, 2.068, 2.068, 2.0678, 2.0676, 2.0675, 2.067, 2.067, 2.067, 2.0667, 2.0667, 2.0664, 2.0664, 2.0663, 2.0663, 2.0662, 2.0657, 2.0655, 2.0653, 2.0649, 2.0647, 2.0646, 2.052, 2.056, 2.0631, 2.0611, 2.0283, 2.0539, 2.0215, 1.9544, 2.0039, 2.0135, 1.9846, 1.9853, 1.8275, 1.6991, 1.8843, 1.8649, 1.9134, 1.8244, 1.3047, 1.3242, 1.5828, 1.2595, 2.4959, 2.4934, 2.4925, 2.4917, 2.4873, 2.486, 2.4847, 2.479, 2.4567, 2.4567, 2.448, 2.4471, 2.4471, 2.4441, 2.4352, 2.4352, 2.4302, 2.4263, 2.4236, 2.3514, 2.334, 2.3336, 2.3274, 2.3015, 2.3011, 2.1392, 2.1391, 2.1341, 2.1234, 2.1031, 2.0948, 2.079, 2.0381, 1.9144, 1.5813, 1.8236, 2.0073, 1.6378, 1.6353, 1.6013, 1.8167, 1.3611, 1.2003, 1.7609, 1.1137, 1.2902, 1.2307, 1.162, 0.7941, 1.1768, 1.3917, 1.0776, 0.3686, 0.5291, 0.3013, 0.6619, 0.9498, 1.4238, 0.9243, 0.9656, 0.4254, 0.2452, 0.2498, 0.3574, 2.5875, 2.5873, 2.5872, 2.5872, 2.5869, 2.5865, 2.5863, 2.5852, 2.5852, 2.5851, 2.5844, 2.5839, 2.5832, 2.583, 2.5826, 2.5826, 2.582, 2.5815, 2.5811, 2.581, 2.5809, 2.5806, 2.5804, 2.5803, 2.5802, 2.5799, 2.5797, 2.5796, 2.5795, 2.5794, 2.5637, 2.3869, 2.4552, 2.209, 2.3762, 2.4194, 2.0672, 2.2868, 2.2399, 2.3587, 1.8393, 2.3043, 2.1014, 1.5179, 1.9963, 1.7178, 1.2666, 1.7115, 0.9214, 0.6048, 1.4455, 0.603, 0.4501, 0.7367, 0.4871, -0.0308, 2.5912, 2.591, 2.5908, 2.5905, 2.59, 2.5894, 2.5892, 2.5892, 2.589, 2.5886, 2.5881, 2.588, 2.5878, 2.5872, 2.5863, 2.5862, 2.5857, 2.5851, 2.5848, 2.5847, 2.5845, 2.5837, 2.5837, 2.5824, 2.5821, 2.5809, 2.5807, 2.5805, 2.5791, 2.5784, 2.5722, 2.5598, 2.5711, 2.5548, 2.5214, 2.4891, 2.4407, 2.5486, 2.5414, 2.4257, 2.5428, 2.4068, 2.2777, 2.4161, 2.3614, 2.482, 2.2403, 2.0451, 2.263, 2.1778, 1.7437, 1.2674, 1.6153, 1.9532, 2.1997, 2.0179, 1.4779, 0.6666, 0.824, 0.2745, 3.065, 3.0649, 3.0647, 3.0644, 3.0641, 3.0639, 3.0638, 3.0638, 3.0628, 3.0628, 3.0624, 3.0623, 3.0623, 3.0605, 3.0583, 3.0583, 3.0573, 3.0561, 3.0557, 3.0545, 3.0525, 3.0482, 3.0155, 2.9663, 2.8383, 2.6432, 2.5341, 2.518, 2.4396, 2.4283, 2.1574, 2.0975, 2.3043, 1.3579, 0.656, 1.5227, 1.1134, 0.7662, 1.3066, 0.9389, 0.2132, 1.1684, 0.7666, -0.0798], \"logprob\": [30.0, 29.0, 28.0, 27.0, 26.0, 25.0, 24.0, 23.0, 22.0, 21.0, 20.0, 19.0, 18.0, 17.0, 16.0, 15.0, 14.0, 13.0, 12.0, 11.0, 10.0, 9.0, 8.0, 7.0, 6.0, 5.0, 4.0, 3.0, 2.0, 1.0, -3.7754, -4.2076, -4.5864, -4.6383, -4.7159, -4.7912, -5.047, -5.2608, -5.5974, -5.7785, -6.3854, -6.5008, -6.8767, -6.8987, -4.3351, -6.9966, -7.0214, -6.0962, -4.3842, -7.4166, -7.4546, -7.486, -6.7543, -5.3548, -7.5868, -5.9072, -7.7291, -7.7707, -7.8141, -7.0474, -3.4073, -2.8072, -5.6507, -5.0385, -6.1997, -6.3176, -3.9772, -5.5876, -5.338, -4.4842, -3.7388, -4.8117, -5.6182, -5.7017, -4.3331, -3.925, -5.658, -4.7444, -4.664, -4.8064, -4.9341, -4.7996, -4.7058, -5.0759, -5.3113, -5.3331, -4.9871, -5.029, -5.1239, -5.1678, -5.144, -5.1607, -3.5731, -3.926, -4.209, -4.711, -5.6268, -6.5287, -6.9781, -7.0042, -7.0108, -7.1235, -7.1615, -7.1771, -7.614, -7.614, -7.6387, -7.6513, -7.6513, -7.6769, -7.6899, -7.7165, -7.8615, -7.9094, -7.9426, -7.285, -7.277, -8.088, -7.1642, -8.1078, -8.1078, -8.1279, -4.0392, -6.4344, -7.4254, -7.4465, -4.3833, -4.942, -5.1999, -5.2771, -5.4782, -6.5981, -5.3126, -6.397, -7.1071, -6.0024, -6.8164, -7.0342, -5.9901, -5.9762, -5.5382, -5.3319, -6.1686, -5.223, -5.8655, -4.9046, -4.8655, -5.4219, -4.3984, -5.6695, -5.1073, -4.377, -5.1687, -4.6242, -5.2076, -5.0385, -5.0105, -5.16, -5.495, -5.4228, -5.2394, -4.8336, -5.1991, -4.8517, -5.0069, -4.9692, -5.2257, -5.1743, -5.2159, -5.2215, -4.8387, -6.1363, -6.7777, -7.3242, -7.8057, -7.8259, -7.8674, -6.794, -7.7166, -6.4871, -5.2265, -7.8319, -6.1868, -7.1961, -6.7752, -7.7392, -7.9119, -5.6587, -6.4727, -7.7638, -7.8482, -5.0518, -5.69, -7.1501, -6.2854, -6.4699, -7.6988, -5.9062, -5.5442, -5.8299, -4.9369, -5.5845, -4.3876, -4.4692, -4.9763, -5.2051, -4.6265, -6.0859, -2.3073, -4.9043, -5.33, -5.6808, -3.6594, -4.5223, -3.9219, -4.7008, -5.7772, -4.9449, -5.4808, -4.6907, -5.0488, -5.2185, -4.0862, -4.8117, -5.083, -4.7403, -5.2303, -4.5418, -4.5991, -4.6256, -5.1422, -4.6001, -4.7585, -4.9021, -4.8284, -4.7759, -4.9291, -4.9878, -2.8528, -3.4492, -3.5944, -3.7411, -3.8151, -3.843, -4.3715, -4.8262, -4.8517, -4.9211, -4.9532, -5.1138, -5.2618, -5.2672, -5.5447, -5.5589, -5.5709, -4.7926, -5.6996, -5.816, -5.8222, -5.841, -5.8473, -5.8996, -6.0437, -6.0913, -6.1498, -6.2494, -6.3032, -6.3338, -3.3187, -3.9972, -5.7422, -5.6997, -2.6749, -5.1774, -4.5243, -4.3961, -5.0186, -5.1679, -4.8674, -4.9687, -4.2396, -3.8047, -4.9093, -4.8427, -5.0441, -4.7627, -4.3089, -4.3991, -4.8463, -4.9778, -3.7602, -5.5002, -5.7808, -5.9465, -6.612, -6.7484, -6.8645, -7.2623, -6.1861, -7.2078, -6.6613, -5.2168, -5.902, -6.8277, -7.1579, -7.0757, -6.6284, -6.2502, -6.1486, -3.5378, -7.3511, -6.6294, -5.3462, -7.2431, -7.0778, -6.8828, -6.9541, -7.5348, -7.5458, -5.1707, -5.6654, -5.7702, -5.184, -4.3135, -2.1547, -4.4137, -5.7406, -4.736, -4.8786, -4.9609, -5.5466, -4.4692, -4.1543, -5.5093, -4.3094, -4.6475, -4.6845, -4.9139, -4.5004, -4.9537, -5.3637, -5.1348, -4.6399, -4.8993, -4.8489, -5.0613, -5.2197, -5.4074, -5.2741, -5.3423, -5.2727, -5.2714, -5.2983, -5.3305, -2.7066, -3.2187, -3.4981, -3.6717, -4.0084, -4.47, -4.6224, -5.2028, -5.2283, -5.2428, -5.5045, -5.625, -5.8124, -5.8545, -5.9211, -5.9211, -6.0431, -6.1312, -6.1896, -6.1971, -6.2201, -6.2596, -6.2841, -6.3007, -6.3092, -6.3524, -6.3793, -6.3884, -6.4069, -6.4163, -5.1387, -3.5018, -5.0221, -3.2347, -4.8106, -5.28, -3.7537, -4.9237, -4.7911, -5.384, -4.0309, -5.3738, -4.8614, -4.1049, -4.9709, -5.0125, -4.7336, -5.1374, -4.6784, -4.5454, -5.0178, -4.8017, -4.9237, -5.0075, -4.9907, -5.0393, -2.8011, -3.3875, -3.8149, -4.2576, -4.6734, -4.9794, -5.0838, -5.0888, -5.1891, -5.3353, -5.4878, -5.5105, -5.582, -5.7326, -5.9215, -5.9508, -6.0378, -6.1402, -6.1918, -6.207, -6.2304, -6.347, -6.347, -4.9445, -6.5309, -6.6552, -6.6673, -6.6919, -6.8111, -6.869, -5.2391, -4.2465, -5.6709, -4.6305, -3.1721, -3.9911, -3.4267, -5.5237, -5.6529, -4.2822, -5.8012, -4.7259, -4.4284, -5.1634, -4.9668, -5.498, -5.0852, -4.7677, -5.3697, -5.2966, -4.9731, -4.6455, -4.9235, -5.1546, -5.3339, -5.2976, -5.1989, -5.0776, -5.1137, -5.1301, -2.7873, -3.045, -3.397, -3.7354, -4.0393, -4.1898, -4.2207, -4.2837, -4.7693, -4.7724, -4.9119, -4.9259, -4.9402, -5.4063, -5.775, -5.7833, -5.9072, -6.0487, -6.0931, -6.2135, -6.3803, -6.6775, -2.5003, -3.3781, -2.3794, -7.0345, -7.1441, -4.4787, -5.7306, -7.2719, -3.6526, -3.3719, -6.322, -4.8043, -4.6377, -5.4767, -5.239, -5.0724, -5.4102, -5.3561, -5.2304, -5.5595, -5.6149, -5.5836]}, \"token.table\": {\"Topic\": [4, 7, 8, 7, 3, 5, 1, 2, 3, 5, 7, 5, 5, 5, 6, 1, 3, 5, 7, 1, 2, 3, 4, 5, 6, 8, 1, 2, 3, 7, 8, 2, 3, 4, 5, 6, 7, 8, 4, 1, 2, 3, 4, 5, 6, 7, 3, 6, 8, 1, 3, 5, 4, 1, 2, 3, 4, 7, 8, 1, 2, 3, 5, 7, 8, 2, 3, 8, 1, 2, 4, 8, 1, 2, 3, 4, 5, 6, 7, 8, 6, 1, 2, 3, 4, 5, 6, 7, 8, 7, 1, 2, 3, 4, 5, 6, 7, 8, 1, 2, 3, 5, 6, 7, 8, 2, 3, 5, 6, 2, 5, 7, 7, 4, 1, 2, 5, 6, 8, 6, 1, 3, 2, 2, 3, 5, 1, 4, 4, 7, 1, 5, 8, 1, 5, 7, 2, 1, 2, 3, 7, 7, 3, 5, 8, 8, 8, 8, 8, 8, 8, 8, 8, 8, 8, 8, 8, 8, 1, 2, 3, 5, 8, 3, 5, 8, 8, 8, 8, 8, 8, 2, 3, 7, 8, 1, 2, 3, 5, 6, 7, 6, 6, 1, 1, 1, 2, 3, 4, 5, 6, 3, 5, 8, 1, 2, 3, 5, 6, 8, 1, 2, 3, 5, 6, 2, 5, 2, 2, 3, 5, 3, 5, 8, 3, 5, 1, 3, 4, 5, 6, 6, 2, 3, 6, 3, 6, 2, 1, 3, 4, 5, 6, 8, 1, 2, 8, 6, 6, 3, 5, 6, 1, 3, 6, 1, 3, 4, 5, 8, 7, 7, 2, 3, 5, 2, 3, 6, 1, 2, 3, 4, 5, 7, 8, 1, 3, 5, 2, 7, 7, 7, 4, 2, 1, 2, 5, 6, 1, 4, 6, 7, 7, 3, 8, 1, 2, 7, 1, 2, 3, 4, 5, 6, 7, 1, 2, 3, 4, 7, 8, 4, 1, 2, 5, 1, 5, 7, 4, 4, 1, 2, 5, 7, 8, 2, 7, 3, 2, 3, 7, 1, 2, 3, 4, 5, 6, 7, 1, 3, 4, 5, 7, 8, 1, 3, 4, 3, 5, 4, 6, 2, 3, 1, 2, 3, 5, 6, 7, 6, 1, 2, 3, 4, 5, 6, 7, 5, 7, 5, 7, 5, 1, 2, 3, 5, 7, 8, 1, 2, 3, 4, 5, 6, 7, 8, 7, 3, 2, 5, 8, 7, 1, 2, 3, 5, 6, 7, 8, 1, 2, 3, 4, 5, 6, 7, 8, 4, 1, 2, 5, 1, 2, 3, 4, 5, 8, 1, 2, 3, 4, 5, 6, 7, 8, 4, 8, 4, 1, 2, 5, 1, 2, 3, 5, 6, 8, 2, 1, 2, 3, 8, 1, 2, 3, 5, 8, 1, 6, 1, 4, 2, 1, 2, 5, 8, 1, 2, 8, 3, 6, 6, 6, 1, 2, 3, 4, 5, 6, 7, 8, 1, 2, 3, 5, 6, 7, 8, 1, 2, 3, 4, 6, 7, 8, 2, 3, 5, 2, 6, 1, 2, 3, 5, 6, 7, 1, 2, 3, 4, 5, 6, 7, 5, 7, 8, 2, 3, 5, 7, 7, 4, 1, 2, 3, 8, 1, 2, 3, 4, 5, 6, 7, 8, 1, 3, 5, 6, 7, 1, 1, 3, 4, 5, 2, 7, 2, 7, 4, 1, 7, 2, 3, 7, 8, 2, 3, 4, 5, 7, 1, 2, 3, 5, 6, 8, 2, 8, 4, 2, 7, 2, 6, 2, 4, 1, 2, 3, 4, 5, 1, 3, 5, 1, 3, 5, 6, 7, 2, 3, 5, 1, 2, 3, 4, 5, 6, 7, 6, 3, 5, 2, 3, 5, 1, 3, 5, 1, 2, 3, 4, 5, 6, 8, 7, 2, 7, 8, 2, 7, 7, 1, 3, 1, 2, 3, 5, 6, 8, 2, 5, 6, 8, 7, 4, 8, 2, 2, 2, 1, 3, 4, 5, 8, 5, 8, 1, 2, 3, 5, 6, 7, 1, 1, 3, 1, 5, 7, 1, 2, 3, 4, 5, 6, 7, 8, 1, 2, 3, 5, 6, 7, 1, 5, 1, 2, 3, 4, 5, 6, 7, 8, 1, 2, 3, 4, 5, 6, 7, 8, 1, 2, 3, 4, 5, 6, 7, 8, 1, 2, 3, 4, 5, 6, 8, 1, 2, 3, 4, 5, 6, 7, 1, 2, 3, 4, 5, 6, 7, 8, 1, 2, 3, 4, 5, 6, 7, 1, 2, 3, 5, 6, 8, 6, 1, 2, 3, 4, 5, 7, 1, 3, 5, 2, 3, 5, 8, 1, 2, 3, 4, 5, 6, 7, 8, 4, 4, 1, 4, 1, 3, 4, 5, 1, 2, 6, 1, 2, 3, 5, 7, 8, 4, 4, 2, 3, 5, 1, 2, 3, 4, 5, 6, 1, 2, 3, 5, 6, 7, 6, 4, 4, 1, 2, 3, 5, 8, 1, 2, 3, 5, 6, 6, 1, 4, 5, 7, 1, 2, 3, 5, 6, 7, 5, 6, 7, 8, 1, 3, 4, 5, 2, 3, 5, 7, 8, 5, 5, 4, 7, 1, 1, 1, 2, 3, 5, 6, 7, 8, 3, 5, 1, 2, 3, 4, 5, 6, 8, 2, 3, 4, 5, 8, 3, 4, 8, 2, 5, 7, 3, 5, 1, 2, 3, 4, 5, 7, 8, 5, 8, 2, 1, 2, 3, 5, 8, 1, 3, 4, 6, 7, 6, 1, 2, 2, 2, 7, 4, 2, 2, 3, 5, 6, 1, 2, 3, 5, 6, 7, 1, 2, 3, 4, 5, 6, 7, 8, 2, 6, 8, 8, 8, 8, 1, 2, 3, 4, 5, 6, 7, 8, 1, 2, 3, 5, 7, 1, 2, 3, 4, 5, 6, 7, 8, 4, 1, 2, 3, 5, 6, 7, 3, 5, 7, 5, 1, 2, 3, 4, 5, 6, 7, 8, 1, 2, 3, 5, 1, 3, 4, 1, 2, 3, 4, 5, 2, 7, 2, 1, 2, 3, 5, 6, 7, 8, 1, 2, 3, 4, 5, 6, 7, 2, 3, 2, 5, 2, 3, 5, 6, 1, 2, 3, 8, 1, 3, 5, 1, 1, 2, 5, 7, 2, 5, 7, 8, 7, 7, 1, 2, 3, 4, 5, 6, 7, 8, 2, 7, 8, 6, 2, 7, 2, 7, 1, 2, 3, 4, 5, 7, 8, 6, 1, 3, 4, 5, 8, 2, 6, 7, 8, 1, 1, 1, 2, 3, 5, 8, 3, 5, 8, 1, 2, 3, 5, 7, 8, 1, 2, 8, 1, 6, 7, 6, 1, 2, 3, 4, 5, 6, 7, 8, 7, 1, 4, 8, 2, 3, 4, 2, 3, 2, 1, 2, 3, 5, 6, 8, 2, 3, 5, 8, 1, 2, 3, 5, 8, 2, 3, 1, 2, 6, 7, 8, 4, 7, 3, 5, 1, 3, 5, 6, 2, 3, 4, 7, 2, 3, 4, 5, 2, 3, 5, 6, 1, 2, 1, 2, 3, 4, 5, 6, 7, 8, 1, 2, 3, 4, 5, 6, 7, 8, 4, 2, 1, 2, 3, 4, 5, 6, 7, 7, 1, 2, 3, 5, 8, 1, 3, 5, 2, 5, 7, 8, 2, 4, 1, 2, 3, 4, 5, 6, 7, 8, 1, 2, 3, 6, 8, 2, 3, 4, 5, 3, 5, 1, 2, 3, 4, 5, 6, 7, 8, 7, 1, 2, 3, 4, 5, 7, 4, 3, 2, 6, 7, 2, 7, 2, 3, 8, 2, 2, 3, 5, 7, 1, 2, 3, 4, 5, 6, 1, 2, 3, 4, 5, 7, 8, 4, 3, 4, 5, 7, 2, 7, 8, 1, 2, 3, 4, 5, 6, 7, 8, 7, 1, 2, 3, 5, 6, 7, 8, 3, 5, 1, 2, 3, 5, 1, 3, 7, 8, 4, 1, 3, 4, 5, 1, 3, 4, 5, 7, 2, 1, 1, 1, 4, 5, 1, 2, 3, 5, 2, 3, 7, 8, 1, 2, 4, 5, 8, 2, 5, 6, 7, 8, 6, 1, 2, 3, 5, 8, 1, 2, 3, 5, 8, 2, 7, 3, 5, 3, 5, 2, 2, 4, 8, 1, 2, 5, 6, 1, 2, 3, 4, 5, 6, 7, 8, 1, 2, 3, 4, 5, 7, 8, 1, 2, 3, 5, 6, 7, 8, 4, 7], \"Freq\": [0.03376160537114536, 0.9495451510634632, 0.00844040134278634, 0.9958835735351642, 0.06774008072092597, 0.92988656262362, 0.10459347885789669, 0.07769801286586611, 0.1404541001806041, 0.6574447242496363, 0.017930310661353716, 0.9978732288860261, 0.9910480244189543, 0.9910240553394514, 0.989561516363699, 0.04077448774560824, 0.025535537780077885, 0.07331170523957845, 0.8599710142710101, 0.7374132579305326, 0.03866586371171332, 0.06904618519948807, 0.013118775187902734, 0.07595080371943688, 0.04418955852767237, 0.021404317411841303, 0.03651071906499145, 0.07073951818842093, 0.03194687918186752, 0.8397465384948033, 0.022819199415619655, 0.10184386137345108, 0.0021668906675202356, 0.6146746526865735, 0.11556750226774591, 0.1394032996104685, 0.012279047115948002, 0.014445937783468239, 0.998961789010149, 0.22655156394648793, 0.006071198469652004, 0.2847072545505229, 0.4655650615938405, 0.003834441138727581, 0.007668882277455162, 0.00543212494653074, 0.9098147757275566, 0.017496437994760704, 0.05248931398428212, 0.9753453163581912, 0.006516783850945599, 0.015205828985539729, 0.9986576891743603, 0.12774412306611163, 0.010058592367410364, 0.022128903208302804, 0.7855760638947494, 0.04979003221868131, 0.005029296183705182, 0.12555697926665027, 0.5260118382492706, 0.08462651025461451, 0.042036697904252955, 0.040377354565927184, 0.18142153832361804, 0.9901969448423291, 0.9435821214268953, 0.05353657426535576, 0.017045187955960002, 0.02597361974241524, 0.9537188499168097, 0.003246702467801905, 0.41864986079600797, 0.13734775333423851, 0.24131478687078867, 0.010779190768003528, 0.12587313090378313, 0.009040611611873927, 0.015299496573940492, 0.04172589974711043, 0.9902348490201881, 0.3824428375754651, 0.17643081180967587, 0.04965418056919022, 0.06682184938300599, 0.2509120826634612, 0.004754123671518212, 0.06867067525526308, 0.0005282359635020236, 0.9968530003196652, 0.13924984707414692, 0.2979751972355871, 0.019475503087293275, 0.04187233163768054, 0.0535576334900565, 0.022396828550387264, 0.2736308183764705, 0.1499613737721582, 0.5833601406774064, 0.09126087330663682, 0.177039644683193, 0.10544984300802206, 0.01805868871085393, 0.021283454552077846, 0.0029022892571015243, 0.012301137094681301, 0.837423563753304, 0.14761364513617561, 0.0028387239449264544, 0.2106413312489592, 0.08496457058781547, 0.7044978977906367, 0.9907136079890203, 0.9994199232699384, 0.06716625439394816, 0.06447960421819023, 0.040299752636368896, 0.7952484520243462, 0.03223980210909511, 0.9948520107736574, 0.9616161919203698, 0.038366751275810844, 0.9922074093260411, 0.9535180767201924, 0.028198234470367137, 0.017754443925786716, 0.998055998211494, 0.9997467955398537, 0.9600810662761965, 0.039858729147665854, 0.040062755428127955, 0.9314590637039749, 0.010015688857031989, 0.04723139687538146, 0.9446279375076292, 0.9898881565606543, 0.996868877520092, 0.1663597241181507, 0.029112951720676374, 0.7943676826641696, 0.010397482757384419, 0.9972161293806843, 0.962241751638403, 0.035828150326961815, 0.9988323858181678, 0.9983699558048829, 0.99883807187236, 0.9959626564178272, 0.9956663977024246, 0.9962493115166915, 0.9975660850713529, 0.9915811587694217, 0.9914474005445825, 0.9860050526475544, 0.9879087304188204, 0.9937163111333049, 0.9901738803870762, 0.9757303337816725, 0.002150828733690829, 0.05678187856943789, 0.08452756923404958, 0.05957795592323597, 0.7968820458324521, 0.03390464865047023, 0.014778949411743434, 0.9513586454657588, 0.9996170899488197, 0.9994243567597566, 0.999162276016132, 0.9993593474376207, 0.9993988149323233, 0.7074991692171962, 0.0918202473710842, 0.12758181739982227, 0.07248966897717174, 0.2220204359876185, 0.2275159913338467, 0.01428844390019327, 0.11760488440928307, 0.4165630952440961, 0.0021982221384912724, 0.9881966629456647, 0.9948520104879972, 0.9991428195532764, 0.999572376548797, 0.9036089699824583, 0.013052129566413287, 0.047690473415740856, 0.011044109633118936, 0.00953809468314817, 0.015060149499707638, 0.809958621491752, 0.18451720075403819, 0.0035944909237799645, 0.7621240899101066, 0.0071536372908228875, 0.032104128329546615, 0.11916912852761054, 0.0729322045747309, 0.006630200415884627, 0.07203442038629766, 0.041162525935027235, 0.007717973612817607, 0.030871894451270428, 0.8464044395389976, 0.9819242491579105, 0.007671283196546176, 0.9921685912334883, 0.011573120428543733, 0.9576757154619939, 0.0303794411249273, 0.9206233151385926, 0.07493445588337382, 0.0042819689076213615, 0.599517242467852, 0.4004438910434625, 0.9623706722565097, 0.0194486059201664, 0.004694491084178096, 0.004694491084178096, 0.009388982168356192, 0.9912068538623633, 0.04160943094759985, 0.9362121963209966, 0.9975974884399489, 0.9993481781782216, 0.9886755740541258, 0.9924925818583623, 0.05890209290027328, 0.041652194265193246, 0.05721917596026547, 0.016408440165076126, 0.8178976328437947, 0.007993855465037088, 0.08027201936000879, 0.8873312410336107, 0.03037319651459792, 0.9979415548072085, 0.9982696045860209, 0.0183566210675674, 0.9545442955135047, 0.9921694868937433, 0.16749298171467808, 0.21675562339546575, 0.6145514549678261, 0.024416537957541864, 0.040287287629944074, 0.9192826541014512, 0.0036624806936312797, 0.010987442080893839, 0.9958835718188218, 0.9998794940139356, 0.9531112546366548, 0.03306054267352187, 0.012901675189667072, 0.9375564441542485, 0.03625908900044055, 0.02071947942882317, 0.03344590338595314, 0.6301208197913571, 0.08160800426172565, 0.026087804641043447, 0.0735809874490969, 0.012709443286662193, 0.14181063035644131, 0.010220383309749627, 0.5660519986938255, 0.42296663235733073, 0.9926486775922576, 0.9982881770836691, 0.9928230498947339, 0.9931656906839862, 0.9976355383025229, 0.9856873914396074, 0.14750929237380123, 0.11063196928035092, 0.7006691387755558, 0.03687732309345031, 0.07516150330758878, 0.0843918633629067, 0.7067818556643436, 0.1318622865045417, 0.9992505024439695, 0.9627759180905942, 0.017505016692556257, 0.05283786593001204, 0.7358639377082165, 0.21135146372004815, 0.6034181509788256, 0.09210465495468254, 0.19823347547859657, 0.011749976558004768, 0.010991913554262525, 0.0545805362694415, 0.02880639414220524, 0.01848834802415875, 0.041085217831463884, 0.1807749584584411, 0.057519304964049445, 0.6614720070865686, 0.03903095693989069, 0.9998659056602538, 0.06220942327826374, 0.22810121868696703, 0.6946718932739451, 0.0937035423516439, 0.8433318811647951, 0.03748141694065756, 0.9998371309255939, 0.9953865304907805, 0.050132292141579535, 0.2615597850865019, 0.008718659502883397, 0.6756961114734633, 0.002179664875720849, 0.10217964170987835, 0.8957748589899336, 0.9783708780431817, 0.018845967877221755, 0.9046064581066443, 0.05653790363166527, 0.09321707247355925, 0.11877659234534162, 0.6592852625750923, 0.04059453156106612, 0.021049016364997248, 0.008269256429106062, 0.05863654558820662, 0.04241647584873876, 0.475859838428038, 0.01060411896218469, 0.29912452239162646, 0.17099141826522812, 0.0008836765801820575, 0.017520733964661212, 0.9461196340917054, 0.017520733964661212, 0.9043688758080076, 0.09542501327470584, 0.9996682098322346, 0.9875164091710015, 0.09335843761567117, 0.9055768448720103, 0.32666659614829446, 0.15239885134114992, 0.05398883074417419, 0.42370981090364557, 0.03417014604061658, 0.00888423797056031, 0.9880312607506021, 0.25089095428518177, 0.060811015044448996, 0.25526060806083084, 0.05498481001025029, 0.07501238981530835, 0.15694339810872765, 0.14601926366960508, 0.00649550179975966, 0.9916466080966415, 0.954409949587055, 0.03718480323066448, 0.9994504494476596, 0.08574453270741297, 0.13887458058133142, 0.5949513281722949, 0.08995285333108968, 0.017885362650626017, 0.07259353075842324, 0.009161960868528763, 0.14830924155930933, 0.021473345785614287, 0.690869111742497, 0.041515135185520954, 0.011166139808519429, 0.03464366453412438, 0.042946691571228574, 0.995151013428486, 0.9983261690964458, 0.034174784021737334, 0.9295541253912556, 0.02733982721738987, 0.9990985122523657, 0.3290402486156419, 0.34174550644240825, 0.022299023940855166, 0.0622298342535493, 0.13742421730992138, 0.09853057090145306, 0.008556602209863028, 0.04837683930949723, 0.5619155950564679, 0.12032188238515978, 0.06760353185557946, 0.05643964586108011, 0.04093424864649766, 0.10109518983907756, 0.0031010794429164896, 0.9994200731667245, 0.9778891634122966, 0.011312342507340192, 0.01005541556208017, 0.060902257014482195, 0.120112784667451, 0.022838346380430825, 0.7832706943807016, 0.006766917446053578, 0.005075188084540183, 0.056617832305915924, 0.2694227882143585, 0.07711739227874755, 0.014642542837736876, 0.12006885126944239, 0.41877672515927467, 0.007809356180126334, 0.0351421028105685, 0.9973168563959867, 0.0011105978356302747, 0.9944857390276234, 0.9917401190632771, 0.004942226506959853, 0.0016474088356532844, 0.042434827148182364, 0.5034834896770827, 0.2207757898925704, 0.20758658686002726, 0.02007052635387004, 0.006307879711216297, 0.9929494735282861, 0.030150851243485755, 0.944726672295887, 0.024567360272469873, 0.001116698194203176, 0.011232223809427165, 0.27864555219540466, 0.39571988497828015, 0.2821016210598438, 0.032400645604116825, 0.9985305051318186, 0.9876912047030827, 0.9905138485847573, 0.9939610225569261, 0.9918673360188709, 0.3082471790956023, 0.6238335767410998, 0.030274276518318082, 0.03761349506821337, 0.11160541817861679, 0.22321083635723357, 0.6510316060419312, 0.9912481755409088, 0.9996899477772351, 0.996035922996716, 0.9977992152766569, 0.08667282855841227, 0.17240013535073276, 0.33313883558633367, 0.15695661317123383, 0.03592982711148726, 0.18910435321835403, 0.022377348464171894, 0.0037820870643670806, 0.36475604866644296, 0.11211763790976731, 0.04634195700270382, 0.07175528826225108, 0.3191615425831376, 0.0612909753906728, 0.025413331259547256, 0.09995811845176625, 0.12105480676821943, 0.6725825156126383, 0.0095437399526812, 0.03717035560517941, 0.015571365185953536, 0.044202585043997135, 0.07926111949338102, 0.8877245383258675, 0.03170444779735241, 0.18951892409187748, 0.8089222369775257, 0.06683516805396231, 0.2944678874848104, 0.013760181658168709, 0.022802586747822432, 0.5940466995855119, 0.007862960947524977, 0.14406596237285735, 0.43171281653819205, 0.06063382254749888, 0.07179044589623867, 0.03977578759115927, 0.09313355143295829, 0.15910315036463707, 0.9510466427017228, 0.017382053521963602, 0.02731465553451423, 0.11031572408224424, 0.04262198430450346, 0.844918159448098, 0.9980837598852095, 0.9903531590593673, 0.9986861948800471, 0.03722225905849427, 0.18611129529247136, 0.18611129529247136, 0.5955561449359084, 0.11789819441585435, 0.12982264474828986, 0.6102625952389982, 0.004423586413645432, 0.030965104895518028, 0.057891283065533705, 0.04635149242124127, 0.0025002879729300273, 0.07351828621103858, 0.8642881452126974, 0.05020761009534342, 0.007172515727906202, 0.005379386795929652, 0.9996999223743, 0.04575889579454496, 0.010459176181610276, 0.937403665276821, 0.005229588090805138, 0.9847622269143403, 0.010152187906333406, 0.03054279969855267, 0.9689439904368433, 0.9978321692715517, 0.9876399561330284, 0.005143958104859523, 0.12026476483461766, 0.011453787127106445, 0.8475802474058769, 0.020998609733028483, 0.6474042361165634, 0.04617067828104018, 0.031456945642027376, 0.26332507722922915, 0.011669512093010155, 0.0033042564121675815, 0.346946923277596, 0.0615417756766212, 0.06071571157357931, 0.47333473104300605, 0.05410719874924414, 0.9848872403870288, 0.00994835596350534, 0.9996413067380856, 0.9793312620247194, 0.018408482368885704, 0.9917794824443805, 0.9977235445643226, 0.9877413273341177, 0.008664397608194015, 0.019426304270443673, 0.038852608540887346, 0.893609996440409, 0.0038852608540887344, 0.04273786939497608, 0.9291249052809584, 0.002514546428365246, 0.06789275356586164, 0.16813179907415998, 0.7877000494850553, 0.01748159378752734, 0.0071983033242759625, 0.019024087357015045, 0.013986557468663043, 0.890477492171547, 0.09324371645775362, 0.14439158930285434, 0.10808741827813668, 0.1897718030837514, 0.11798855583033241, 0.4084219240280737, 0.008250947960163105, 0.023102654288456696, 0.9898374728573052, 0.32439150227634145, 0.6739947793409996, 0.027309355655498413, 0.11834054117382646, 0.8465900253204508, 0.01151676180315209, 0.77162304081119, 0.21625919385918926, 0.07659500890806431, 0.07846317985704149, 0.6164964131624688, 0.014011282117328838, 0.049506530147895224, 0.1559922742395944, 0.008406769270397303, 0.9917460770873138, 0.9984216135285123, 0.9812250791462175, 0.017264957404332273, 0.04411035059606802, 0.9508231128485772, 0.9971783830476662, 0.99514904126631, 0.9861573111439805, 0.4935083009619448, 0.10333831989158164, 0.11221702995386551, 0.2735135960853557, 0.009371971732410746, 0.007892186722030101, 0.2014752083040383, 0.002518440103800479, 0.7530135910363432, 0.04029504166080766, 0.9972277669495379, 0.995331045002542, 0.0028601466810417872, 0.9997528717583299, 0.9916500750750791, 0.9994423059486557, 0.0894676525358271, 0.010015035731622437, 0.8913381801143968, 0.004006014292648974, 0.004006014292648974, 0.9508781979964233, 0.044341470372890206, 0.24666654170970084, 0.061422893785419576, 0.5947296064937452, 0.012918307026298563, 0.08287215828191531, 0.0014624498520337994, 0.9934832766455376, 0.9769984824216177, 0.022925475985882435, 0.2862244333171321, 0.13357140221466163, 0.5788094095968671, 0.07453118349349704, 0.7563221234056006, 0.06267394975589524, 0.041500318081606306, 0.00931639793668713, 0.03980642754766319, 0.005081671601829344, 0.011010288470630245, 0.7313559438494572, 0.11720447818100276, 0.04219361214516099, 0.037505433017920885, 0.019422456384280456, 0.05223971027496123, 0.9927866922077655, 0.0038480104349138196, 0.24582304085796924, 0.4952347392467118, 0.037232321881772716, 0.004485821913466592, 0.06280150678853229, 0.023774856141372938, 0.07222173280681214, 0.05786710268371904, 0.1599152768868277, 0.1650890064331662, 0.2803220736016156, 0.0009406780993342804, 0.09594916613209661, 0.2666822411612685, 0.01740254483768419, 0.013639832440347067, 0.11684741160663197, 0.2989212892813496, 0.24249839532061293, 0.017607144214697966, 0.07082873922730773, 0.1436582902971948, 0.008803572107348983, 0.10044075449748159, 0.08687231731862945, 0.25933941787767323, 0.3181059854755696, 0.039603556424669305, 0.028105749720733056, 0.05493396536325097, 0.2133481910619282, 0.07833649370504348, 0.5125308399116564, 0.13613354088986213, 0.032480985194774124, 0.12419200221531282, 0.0033436308288738066, 0.11272812508774548, 0.2838170561475026, 0.3002937617783061, 0.24111686127330761, 0.004873391806293994, 0.03968333327982252, 0.01137124754801932, 0.029008284561273773, 0.0898096490017036, 0.21585892710016724, 0.2373651670695566, 0.2232931828920549, 0.05124326313694007, 0.13992331436874308, 0.058943028064252306, 0.07354603051260311, 0.0547282055627663, 0.13318095343845593, 0.034508425182433924, 0.03531721639764722, 0.6847765622139231, 0.057693773351881715, 0.9949747399870454, 0.011449948116800307, 0.03912065606573438, 0.031487357321200844, 0.8148546409789551, 0.01717492217520046, 0.0858746108760023, 0.9945217224202165, 0.0036033395739862918, 0.0018016697869931459, 0.0649781119443006, 0.8733058245314, 0.04678424059989643, 0.015594746866632144, 0.13097397246673984, 0.17334790473539094, 0.046226107929437585, 0.017334790473539096, 0.019260878303932326, 0.012519570897556013, 0.4285545422624943, 0.17238486082019433, 0.9958762157155311, 0.9996591446741989, 0.9958965386911921, 0.004122372702412662, 0.9762612159279541, 0.009787079858926857, 0.007340309894195143, 0.0024467699647317143, 0.9942777756462403, 0.003993083436330282, 0.9998074093872975, 0.9922060539887649, 0.7836334056208633, 0.1222898573066266, 0.06456904465789884, 0.008804869726077115, 0.019566377169060255, 0.9962538114389036, 0.9976758529121221, 0.9504290576731057, 0.03448581486477161, 0.014713947675635889, 0.05301076601210182, 0.8778582851604061, 0.012722583842904436, 0.008481722561936291, 0.010602153202420363, 0.036047320888229234, 0.6625405039728568, 0.06608196195469533, 0.13113139325384854, 0.11770849473180106, 0.004474299507349163, 0.01789719802939665, 0.9998935260781779, 0.9967561146989149, 0.999718574354875, 0.9262800960717954, 0.049598210643497, 0.017202982970942655, 0.005808799444733883, 0.000893661453035982, 0.8100641733710053, 0.030963196709428924, 0.03235793529994374, 0.004184215771544449, 0.12245804824720087, 0.999733752270898, 0.028022402396905333, 0.44478111038492296, 0.5103654564202333, 0.016097975845030723, 0.1468486942942962, 0.014365633137485498, 0.08619379882491299, 0.6320878580493619, 0.02075035897636794, 0.09896325050267787, 0.03296411713156774, 0.875609361307268, 0.07828977818747337, 0.010301286603614918, 0.08098590539331955, 0.564741713609415, 0.011877932791020201, 0.342300426795764, 0.7980807017745185, 0.045847189250876594, 0.100184598733397, 0.005094132138986288, 0.052639365436191646, 0.9963689570554785, 0.9955432591915127, 0.9829837671345639, 0.01679243049413967, 0.9995759558624318, 0.9998071087706996, 0.29611127273034993, 0.2418026550243469, 0.09482457059778308, 0.0452571814216692, 0.012930623263334058, 0.26593981844923714, 0.04267105676900239, 0.786704174015996, 0.21283356549157967, 0.04355657994072642, 0.2076715507888206, 0.2123383272110413, 0.03344523102591493, 0.08711315988145284, 0.012833635161106891, 0.40328726248690444, 0.034399663927009244, 0.17199831963504622, 0.19110924403894025, 0.025481232538525366, 0.5784239786245258, 0.44202174134743283, 0.08450415643406804, 0.468023020250223, 0.05518634040729485, 0.8277951061094228, 0.1241692659164134, 0.05127961447137344, 0.9401262653085131, 0.0035439370921682358, 0.1565238882374304, 0.01594771691475706, 0.22267738062457082, 0.5587607481985252, 0.028942152919373923, 0.013585092186644903, 0.9482820883981234, 0.04214587059547215, 0.9929494792725703, 0.05997099731960201, 0.12708139908201377, 0.7325028958322817, 0.008567285331371716, 0.07139404442809763, 0.4869997926731204, 0.0038701970278658573, 0.1564204632095784, 0.343157469804106, 0.009675492569664643, 0.9955927437143101, 0.9948584667906761, 0.9990897485101834, 0.9996198800889159, 0.9896225393797627, 0.9971497538109309, 0.9985109478871164, 0.9849095810515646, 0.015074044738045422, 0.5041430517946303, 0.47901964389788787, 0.9894200595073233, 0.5283439766977236, 0.22067495404334117, 0.12092175536934727, 0.10526282301935985, 0.013919050977766592, 0.011019248690731885, 0.024343452416157468, 0.44952397927563503, 0.030982575802382232, 0.007745643950595558, 0.02544997298052826, 0.07828632992923368, 0.003872821975297779, 0.37981318372027506, 0.07962819851914905, 0.014598503061843994, 0.9057707581553206, 0.9990945069634752, 0.9959537616716776, 0.9864878668184072, 0.2681932106155571, 0.09107888900329207, 0.3895328379847638, 0.099089084453093, 0.012756977938571853, 0.045984455359968306, 0.08306869355349114, 0.01008691278863821, 0.9414006601769587, 0.015055325703676667, 0.004428036971669608, 0.01682654049234451, 0.02214018485834804, 0.026191425838035777, 0.35675896709688126, 0.22381763897957846, 0.009127315064770044, 0.3214402261940755, 0.009920994635619613, 0.01666727098784095, 0.03611242047365539, 0.9969438357650755, 0.05478957080677317, 0.021261624492180633, 0.7474278763789654, 0.07114466656998904, 0.08259323360424015, 0.02289713406850222, 0.1277988705304378, 0.07632432545567815, 0.7951929721893909, 0.9911000596065254, 0.20717249809531016, 0.06561056738302422, 0.030665808668152623, 0.4746068760152458, 0.15974746841084156, 0.001782895852799571, 0.058122404801266014, 0.0021394750233594854, 0.9878217221191121, 0.02251823639824384, 0.9495189681259487, 0.02251823639824384, 0.04307061155760349, 0.7791865181784632, 0.1775031264192144, 0.885794209820315, 0.012621420088113297, 0.029832447480995065, 0.05507528765722166, 0.01721102739288177, 0.03735095363319413, 0.959919508373089, 0.9882797148363945, 0.8641763553355777, 0.0072261040735015995, 0.06175034390083185, 0.0307109423123818, 0.018065260183753998, 0.01379528959486669, 0.004269970588887309, 0.2998281943057215, 0.05504204651468318, 0.28775145836157157, 0.12076735944149897, 0.18231226377226287, 0.0387849019744814, 0.015792654696196017, 0.01957861443193917, 0.9593521071650193, 0.9523077153229023, 0.045658589090824084, 0.8219830886443892, 0.0429299923408744, 0.07702145684686289, 0.056819107509980815, 0.9994059882920624, 0.3954750900395049, 0.07003204719449566, 0.5355391844284962, 0.0779911585268157, 0.90377989586957, 0.01720393202797405, 0.9932778564164995, 0.33460078948339256, 0.08258232251079477, 0.0526818264293001, 0.5282420974397389, 0.589202509089423, 0.02095658719059507, 0.37641254684645764, 0.012896361348058506, 0.992573309804679, 0.992718194522602, 0.6349414221298191, 0.17897677670773426, 0.07244298104836863, 0.011870908659186455, 0.04352666508368367, 0.004261351826374625, 0.012175290932498929, 0.04170037144380883, 0.07753858380228223, 0.903096446638346, 0.01976473704764057, 0.9995663246135656, 0.9920002375478296, 0.9964881700541247, 0.035389416180349825, 0.9647462584817106, 0.04269940418502381, 0.44283414340274696, 0.05302990519752957, 0.05096380499502842, 0.07644570749254263, 0.23484672301763096, 0.10055020985505607, 0.9985092982267624, 0.01653573364071232, 0.004409528970856618, 0.9193867904236049, 0.05291434765027942, 0.007716675698999083, 0.3614745429993068, 0.019024975947331938, 0.07609990378932775, 0.5326993265252943, 0.9994115459499451, 0.992700755323528, 0.24025313441170962, 0.2882422368038053, 0.3713002986362785, 0.09874680684527375, 0.0012304898049255294, 0.2898176795601886, 0.6698616178513793, 0.03827780673436453, 0.07733422558346974, 0.03583781185575427, 0.7922042620745681, 0.0037724012479741337, 0.01886200623987067, 0.07167562371150854, 0.008548340589082718, 0.9659624865663471, 0.025645021767248154, 0.9518157745466993, 0.021841183232351794, 0.025289791111144183, 0.9933625875588964, 0.13600536700563146, 0.14618263936659706, 0.03885867628732327, 0.04533512233521048, 0.03423264339597527, 0.23500247088047885, 0.3284483352857086, 0.03608305655251447, 0.9996816973780256, 0.9997797209261753, 0.9842917897353474, 0.014498569734235887, 0.01992371349869256, 0.033717053613172024, 0.9456100945148699, 0.9792469280591822, 0.008589885333852475, 0.9924926257674224, 0.15711610013443442, 0.08165088668403679, 0.17938452377553538, 0.016082750407461793, 0.5529991870873401, 0.011134211820550471, 0.9235965129900668, 0.02716460332323726, 0.03056017873864192, 0.019241594020626394, 0.030541191491628702, 0.6574393326355863, 0.010716207540922352, 0.2673693781460127, 0.033756053753905405, 0.9853060832690796, 0.9775394912540488, 0.986960260998328, 0.9444744414600519, 0.008189084752543803, 0.02729694917514601, 0.020472711881359507, 0.9977938164221436, 0.9963816683638718, 0.49269630577826373, 0.5074036581895552, 0.17492598564938422, 0.6465911020703311, 0.17781255306934104, 0.9913202139425332, 0.035032896992468227, 0.06714638590223077, 0.06568668186087792, 0.8320313035711203, 0.07703486752189337, 0.031150711456940487, 0.026520200294422307, 0.8650636762704419, 0.06513054442552603, 0.032565272212763015, 0.8304144414254568, 0.08141318053190753, 0.9930638542861802, 0.006645742810710575, 0.19265456478746365, 0.5524573153623605, 0.027405790202160323, 0.013838567329803727, 0.06485132532986453, 0.03771687958515134, 0.07082090339370142, 0.04043032415962265, 0.17854803648796222, 0.2669496701888426, 0.18727188191897015, 0.027334715683824836, 0.24194131328661983, 0.07851460887907134, 0.01512133208041374, 0.004652717563204228, 0.997293563998096, 0.9893801888967785, 0.014559345567304953, 0.06967686807210227, 0.03431845740864738, 0.8309226505911897, 0.03327850415383989, 0.008319626038459973, 0.008319626038459973, 0.9922726805725098, 0.21372231649583626, 0.047583459144355994, 0.6379409522573829, 0.05000295706695037, 0.05000295706695037, 0.27667037005566625, 0.01844469133704442, 0.6824535794706434, 0.19975446995648297, 0.07220041082764445, 0.719597427915523, 0.009626721443685926, 0.005471491033753683, 0.9930756226262936, 0.07920926858700901, 0.23119456567274205, 0.41635125696369457, 0.001407271269312343, 0.111375469028434, 0.1377115456398507, 0.010454015143463119, 0.012263363918293274, 0.23998490968313352, 0.0693289739084608, 0.5820586380886159, 0.10132696186621193, 0.006856711705232386, 0.8601553912474206, 0.05949201553296281, 0.02478833980540117, 0.05205551359134245, 0.6675892542657632, 0.33129241853368463, 0.1792568720423376, 0.5229372985246314, 0.06762987178034896, 0.0037711824412833997, 0.030923696018523874, 0.11791230433079429, 0.04274006766787853, 0.034694878459807274, 0.9979607649941068, 0.904065366193927, 0.042361092448814364, 0.03113721325297466, 0.005068848669088898, 0.010137697338177796, 0.0068791517651920755, 0.9968426617033594, 0.9787620724877302, 0.020643066041179305, 0.9753848704457222, 0.997033785121369, 0.01770445936797416, 0.9781713800805724, 0.8640001305536679, 0.030857147519773854, 0.10285715839924618, 0.9895760673309053, 0.04341312707263985, 0.9164993493112857, 0.02411840392924436, 0.014471042357546616, 0.038089962745356414, 0.07255230999115507, 0.8397929881476199, 0.007255230999115507, 0.01088284649867326, 0.030834731746240907, 0.03239532174828318, 0.0819411079515398, 0.09051634017902653, 0.018103268035805305, 0.02191448235913274, 0.7308003464980353, 0.023820089520796457, 0.9936497440772646, 0.3172255120794109, 0.10866288259073743, 0.008763135692801407, 0.5643459386164106, 0.9618426846846256, 0.0070723726815046005, 0.028289490726018402, 0.37771452147704976, 0.33188555891877175, 0.0320503202204951, 0.10573610315733431, 0.039538712795377136, 0.02905496319054229, 0.0673955331739383, 0.016474463664740473, 0.9941110000432246, 0.3756589821076672, 0.026950644397182564, 0.5511131772648353, 0.024750591793330928, 0.00990023671733237, 0.008250197264443643, 0.003300078905777457, 0.9632078568220281, 0.027919068313681975, 0.9860230466974005, 0.013217757511632509, 0.019826636267448763, 0.958287419593357, 0.020583145314601838, 0.9468246844716846, 0.010291572657300919, 0.010291572657300919, 0.9987971488664816, 0.1158769252974319, 0.12553333573888456, 0.048282052207263296, 0.6952615517845915, 0.045381892508659046, 0.8471286601616356, 0.02117821650404089, 0.07563648751443175, 0.00907637850173181, 0.9853061077750402, 0.9931132944496903, 0.9962526862440246, 0.14334345807558674, 0.856385275169531, 0.9910362863696397, 0.9975610650438028, 0.9777765535090956, 0.016095087300561244, 0.006035657737710467, 0.9260426037963001, 0.006710453650697827, 0.0033552268253489136, 0.06374930968162935, 0.1301251127668151, 0.6329386553026638, 0.019581934445491594, 0.09727799692276469, 0.1193866325870294, 0.1814485685798047, 0.015778136398243887, 0.7399945970776384, 0.036289713715960945, 0.02524501823719022, 0.9908563580148328, 0.02970351579527468, 0.06480767082605385, 0.2538300440687109, 0.6129725532297593, 0.03510415503077917, 0.6237071039801406, 0.2188841862737831, 0.07897883009878771, 0.053254296866611144, 0.024821918031047566, 0.06749237778533913, 0.9324331577113008, 0.8637220127564657, 0.13361445501204994, 0.8008819005697256, 0.19786494014075573, 0.9888233049130432, 0.006943776590370608, 0.9870082439169651, 0.005455824463862621, 0.9367867849991366, 0.01983234787669405, 0.011666086986290618, 0.030331826164355605, 0.17958127951506456, 0.20271160532022495, 0.3167569617206685, 0.09766137562178824, 0.10344395707307834, 0.05204323306161084, 0.03630176133309892, 0.011565162902580186, 0.39414573058054536, 0.0870891477592549, 0.37110152309785593, 0.03381812266940139, 0.1056442239141477, 0.006883334702621521, 0.0011971016874124385, 0.20178499486344575, 0.46691515267136563, 0.127712022065472, 0.10268046574063948, 0.008173569412190208, 0.019412227353951744, 0.07305127662144999, 0.9993009978173393, 0.9970555704366213], \"Term\": [\"abandon\", \"abandon\", \"abandon\", \"acid\", \"active\", \"active\", \"activity\", \"activity\", \"activity\", \"activity\", \"activity\", \"addict\", \"addicted\", \"addiction\", \"admiration\", \"affect\", \"affect\", \"affect\", \"affect\", \"age\", \"age\", \"age\", \"age\", \"age\", \"age\", \"age\", \"ahead\", \"ahead\", \"ahead\", \"ahead\", \"ahead\", \"air\", \"air\", \"air\", \"air\", \"air\", \"air\", \"air\", \"airship\", \"allow\", \"allow\", \"allow\", \"allow\", \"allow\", \"allow\", \"allow\", \"application\", \"application\", \"application\", \"appropriate\", \"appropriate\", \"appropriate\", \"architect\", \"area\", \"area\", \"area\", \"area\", \"area\", \"area\", \"ask\", \"ask\", \"ask\", \"ask\", \"ask\", \"ask\", \"asleep\", \"assignment\", \"assignment\", \"attempt\", \"attempt\", \"attempt\", \"attempt\", \"away\", \"away\", \"away\", \"away\", \"away\", \"away\", \"away\", \"away\", \"backdrop\", \"bad\", \"bad\", \"bad\", \"bad\", \"bad\", \"bad\", \"bad\", \"bad\", \"battery\", \"begin\", \"begin\", \"begin\", \"begin\", \"begin\", \"begin\", \"begin\", \"begin\", \"believe\", \"believe\", \"believe\", \"believe\", \"believe\", \"believe\", \"believe\", \"benefit\", \"benefit\", \"benefit\", \"benefit\", \"bike\", \"bike\", \"bike\", \"biker\", \"blimp\", \"blood\", \"blood\", \"blood\", \"blood\", \"blood\", \"blueprints\", \"book\", \"book\", \"boyfriend\", \"brother\", \"brother\", \"brother\", \"bud\", \"builder\", \"building\", \"building\", \"bully\", \"bully\", \"bully\", \"bullying\", \"bullying\", \"bumpy\", \"bus\", \"business\", \"business\", \"business\", \"business\", \"california\", \"cam\", \"cam\", \"caps10\", \"caps11\", \"caps12\", \"caps13\", \"caps14\", \"caps15\", \"caps16\", \"caps17\", \"caps18\", \"caps19\", \"caps20\", \"caps21\", \"caps22\", \"caps24\", \"caps3\", \"caps3\", \"caps3\", \"caps3\", \"caps3\", \"caps4\", \"caps4\", \"caps4\", \"caps5\", \"caps6\", \"caps7\", \"caps8\", \"caps9\", \"car\", \"car\", \"car\", \"car\", \"care\", \"care\", \"care\", \"care\", \"care\", \"care\", \"caring\", \"celebration\", \"censor\", \"censorship\", \"certain\", \"certain\", \"certain\", \"certain\", \"certain\", \"certain\", \"chat\", \"chat\", \"chat\", \"child\", \"child\", \"child\", \"child\", \"child\", \"child\", \"childhood\", \"childhood\", \"childhood\", \"childhood\", \"childhood\", \"clock\", \"clock\", \"coaster\", \"communicate\", \"communicate\", \"communicate\", \"communication\", \"communication\", \"communication\", \"computer\", \"computer\", \"conclude\", \"conclude\", \"conclude\", \"conclude\", \"conclude\", \"congregation\", \"convenient\", \"convenient\", \"cooking\", \"coordination\", \"courageous\", \"cream\", \"create\", \"create\", \"create\", \"create\", \"create\", \"create\", \"cry\", \"cry\", \"cry\", \"cuba\", \"cuban\", \"cuber\", \"cuber\", \"culinary\", \"culture\", \"culture\", \"culture\", \"current\", \"current\", \"current\", \"current\", \"current\", \"cycle\", \"cyclist\", \"dad\", \"dad\", \"dad\", \"dance\", \"dance\", \"dance\", \"date1\", \"date1\", \"date1\", \"date1\", \"date1\", \"date1\", \"date1\", \"dear\", \"dear\", \"dear\", \"deer\", \"dehydrate\", \"dehydrated\", \"dehydration\", \"densely\", \"dentist\", \"depression\", \"depression\", \"depression\", \"depression\", \"describe\", \"describe\", \"describe\", \"describe\", \"desert\", \"dictionary\", \"dictionary\", \"didn\", \"didn\", \"didn\", \"different\", \"different\", \"different\", \"different\", \"different\", \"different\", \"different\", \"direction\", \"direction\", \"direction\", \"direction\", \"direction\", \"direction\", \"dirigible\", \"distract\", \"distract\", \"distract\", \"distraction\", \"distraction\", \"distraction\", \"dock\", \"docking\", \"drink\", \"drink\", \"drink\", \"drink\", \"drink\", \"dry\", \"dry\", \"earthquake\", \"easier\", \"easier\", \"easier\", \"easy\", \"easy\", \"easy\", \"easy\", \"easy\", \"easy\", \"easy\", \"effect\", \"effect\", \"effect\", \"effect\", \"effect\", \"effect\", \"efficient\", \"efficient\", \"efficient\", \"email\", \"email\", \"empire\", \"encompass\", \"engine\", \"engine\", \"enjoy\", \"enjoy\", \"enjoy\", \"enjoy\", \"enjoy\", \"enjoy\", \"eternally\", \"example\", \"example\", \"example\", \"example\", \"example\", \"example\", \"example\", \"exceed\", \"exceed\", \"excessive\", \"excessive\", \"exercise\", \"eye\", \"eye\", \"eye\", \"eye\", \"eye\", \"eye\", \"face\", \"face\", \"face\", \"face\", \"face\", \"face\", \"face\", \"face\", \"factory\", \"faraway\", \"fat\", \"fat\", \"fat\", \"feature\", \"feel\", \"feel\", \"feel\", \"feel\", \"feel\", \"feel\", \"feel\", \"finally\", \"finally\", \"finally\", \"finally\", \"finally\", \"finally\", \"finally\", \"finally\", \"flammable\", \"flower\", \"flower\", \"flower\", \"fly\", \"fly\", \"fly\", \"fly\", \"fly\", \"fly\", \"forget\", \"forget\", \"forget\", \"forget\", \"forget\", \"forget\", \"forget\", \"forget\", \"frame\", \"frame\", \"framework\", \"freedom\", \"freedom\", \"freedom\", \"fun\", \"fun\", \"fun\", \"fun\", \"fun\", \"fun\", \"funniest\", \"funny\", \"funny\", \"funny\", \"funny\", \"game\", \"game\", \"game\", \"game\", \"game\", \"geese\", \"generosity\", \"genre\", \"german\", \"giggle\", \"girl\", \"girl\", \"girl\", \"girl\", \"glance\", \"glance\", \"glance\", \"google\", \"grateful\", \"gratefulness\", \"gratitude\", \"great\", \"great\", \"great\", \"great\", \"great\", \"great\", \"great\", \"great\", \"grow\", \"grow\", \"grow\", \"grow\", \"grow\", \"grow\", \"grow\", \"hand\", \"hand\", \"hand\", \"hand\", \"hand\", \"hand\", \"hand\", \"handy\", \"handy\", \"handy\", \"happiness\", \"happiness\", \"happy\", \"happy\", \"happy\", \"happy\", \"happy\", \"happy\", \"hard\", \"hard\", \"hard\", \"hard\", \"hard\", \"hard\", \"hard\", \"health\", \"health\", \"health\", \"healthy\", \"healthy\", \"healthy\", \"heat\", \"heatstroke\", \"helium\", \"hello\", \"hello\", \"hello\", \"hello\", \"help\", \"help\", \"help\", \"help\", \"help\", \"help\", \"help\", \"help\", \"helpful\", \"helpful\", \"helpful\", \"helpful\", \"helpful\", \"hibiscus\", \"highly\", \"highly\", \"highly\", \"highly\", \"hilarious\", \"hilarious\", \"hill\", \"hill\", \"hindenburg\", \"ho\", \"ho\", \"hot\", \"hot\", \"hot\", \"hot\", \"hour\", \"hour\", \"hour\", \"hour\", \"hour\", \"house\", \"house\", \"house\", \"house\", \"house\", \"house\", \"hug\", \"hug\", \"hydrogen\", \"ibm\", \"ibm\", \"ice\", \"immigrant\", \"impatient\", \"impatient\", \"improve\", \"improve\", \"improve\", \"improve\", \"improve\", \"inappropriate\", \"inappropriate\", \"inappropriate\", \"information\", \"information\", \"information\", \"information\", \"information\", \"instant\", \"instant\", \"instant\", \"instead\", \"instead\", \"instead\", \"instead\", \"instead\", \"instead\", \"instead\", \"instill\", \"interact\", \"interact\", \"interaction\", \"interaction\", \"interaction\", \"internet\", \"internet\", \"internet\", \"job\", \"job\", \"job\", \"job\", \"job\", \"job\", \"job\", \"joe\", \"joke\", \"journey\", \"journey\", \"juice\", \"juice\", \"june\", \"katherine\", \"keyboard\", \"kid\", \"kid\", \"kid\", \"kid\", \"kid\", \"kid\", \"kitchen\", \"kitchen\", \"kitchen\", \"kitchen\", \"kurmaskie\", \"landing\", \"landing\", \"laugh\", \"laughing\", \"laughter\", \"law\", \"law\", \"law\", \"law\", \"law\", \"lazy\", \"lazy\", \"learn\", \"learn\", \"learn\", \"learn\", \"learn\", \"learn\", \"librarian\", \"library\", \"library\", \"limit\", \"limit\", \"limit\", \"line\", \"line\", \"line\", \"line\", \"line\", \"line\", \"line\", \"line\", \"listen\", \"listen\", \"listen\", \"listen\", \"listen\", \"listen\", \"literature\", \"literature\", \"little\", \"little\", \"little\", \"little\", \"little\", \"little\", \"little\", \"little\", \"live\", \"live\", \"live\", \"live\", \"live\", \"live\", \"live\", \"live\", \"location1\", \"location1\", \"location1\", \"location1\", \"location1\", \"location1\", \"location1\", \"location1\", \"location2\", \"location2\", \"location2\", \"location2\", \"location2\", \"location2\", \"location2\", \"long\", \"long\", \"long\", \"long\", \"long\", \"long\", \"long\", \"look\", \"look\", \"look\", \"look\", \"look\", \"look\", \"look\", \"look\", \"lot\", \"lot\", \"lot\", \"lot\", \"lot\", \"lot\", \"lot\", \"love\", \"love\", \"love\", \"love\", \"love\", \"love\", \"loving\", \"low\", \"low\", \"low\", \"low\", \"low\", \"low\", \"magazine\", \"magazine\", \"magazine\", \"mail\", \"mail\", \"mail\", \"mail\", \"man\", \"man\", \"man\", \"man\", \"man\", \"man\", \"man\", \"man\", \"marcia\", \"mast\", \"material\", \"material\", \"medium\", \"medium\", \"medium\", \"medium\", \"melt\", \"melt\", \"memoir\", \"mining\", \"minute\", \"minute\", \"minute\", \"minute\", \"minute\", \"modification\", \"modify\", \"mom\", \"mom\", \"mom\", \"moment\", \"moment\", \"moment\", \"moment\", \"moment\", \"moment\", \"month1\", \"month1\", \"month1\", \"month1\", \"month1\", \"month1\", \"mood\", \"moor\", \"mooring\", \"movie\", \"movie\", \"movie\", \"movie\", \"movie\", \"music\", \"music\", \"music\", \"music\", \"music\", \"narcs\", \"nature\", \"nature\", \"nature\", \"nature\", \"negative\", \"negative\", \"negative\", \"negative\", \"negative\", \"negative\", \"neighborhood\", \"neighborhood\", \"neighborhood\", \"neighborhood\", \"newspaper\", \"newspaper\", \"newspaper\", \"newspaper\", \"night\", \"night\", \"night\", \"night\", \"night\", \"obese\", \"obesity\", \"obstacle\", \"obstacle\", \"offend\", \"offensive\", \"old\", \"old\", \"old\", \"old\", \"old\", \"old\", \"old\", \"online\", \"online\", \"organization1\", \"organization1\", \"organization1\", \"organization1\", \"organization1\", \"organization1\", \"organization1\", \"organization2\", \"organization2\", \"organization2\", \"organization2\", \"organization2\", \"organization3\", \"organization3\", \"organization3\", \"outdoor\", \"outdoor\", \"outdoor\", \"outdoors\", \"outdoors\", \"outside\", \"outside\", \"outside\", \"outside\", \"outside\", \"outside\", \"outside\", \"overweight\", \"overweight\", \"pant\", \"paper\", \"paper\", \"paper\", \"paper\", \"paper\", \"paragraph\", \"paragraph\", \"paragraph\", \"paragraph\", \"paragraph\", \"passionate\", \"paterson\", \"patience\", \"patient\", \"patiently\", \"pedal\", \"pedestrian\", \"pee\", \"percent1\", \"percent1\", \"percent1\", \"perseverance\", \"person\", \"person\", \"person\", \"person\", \"person\", \"person\", \"person1\", \"person1\", \"person1\", \"person1\", \"person1\", \"person1\", \"person1\", \"person1\", \"person2\", \"person2\", \"person2\", \"person3\", \"person4\", \"person5\", \"place\", \"place\", \"place\", \"place\", \"place\", \"place\", \"place\", \"place\", \"plant\", \"plant\", \"plant\", \"plant\", \"plant\", \"play\", \"play\", \"play\", \"play\", \"play\", \"play\", \"play\", \"play\", \"populated\", \"positive\", \"positive\", \"positive\", \"positive\", \"positive\", \"positive\", \"post\", \"post\", \"post\", \"predator\", \"problem\", \"problem\", \"problem\", \"problem\", \"problem\", \"problem\", \"problem\", \"problem\", \"profanity\", \"program\", \"program\", \"program\", \"project\", \"project\", \"project\", \"public\", \"public\", \"public\", \"public\", \"public\", \"pump\", \"pump\", \"puppy\", \"read\", \"read\", \"read\", \"read\", \"read\", \"read\", \"read\", \"reason\", \"reason\", \"reason\", \"reason\", \"reason\", \"reason\", \"reason\", \"reconnect\", \"reconnect\", \"red\", \"red\", \"relationship\", \"relationship\", \"relationship\", \"relationship\", \"remove\", \"reply\", \"reply\", \"reply\", \"research\", \"research\", \"research\", \"retake\", \"rid\", \"rid\", \"rid\", \"rid\", \"ride\", \"ride\", \"ride\", \"ride\", \"rider\", \"ridiculously\", \"right\", \"right\", \"right\", \"right\", \"right\", \"right\", \"right\", \"right\", \"road\", \"road\", \"road\", \"rodriguez\", \"roller\", \"rolling\", \"rough\", \"rough\", \"run\", \"run\", \"run\", \"run\", \"run\", \"run\", \"run\", \"sacrifice\", \"safety\", \"safety\", \"safety\", \"safety\", \"safety\", \"said\", \"said\", \"said\", \"said\", \"sang\", \"sangs\", \"school\", \"school\", \"school\", \"school\", \"school\", \"screen\", \"screen\", \"screen\", \"search\", \"search\", \"search\", \"search\", \"search\", \"search\", \"seat\", \"seat\", \"seat\", \"section\", \"section\", \"section\", \"selflessly\", \"set\", \"set\", \"set\", \"set\", \"set\", \"set\", \"set\", \"set\", \"setting\", \"shelf\", \"shift\", \"shift\", \"ship\", \"ship\", \"ship\", \"shot\", \"shot\", \"shower\", \"simple\", \"simple\", \"simple\", \"simple\", \"simple\", \"simple\", \"sister\", \"sister\", \"sister\", \"sister\", \"sit\", \"sit\", \"sit\", \"sit\", \"sit\", \"skate\", \"skype\", \"slavery\", \"smile\", \"smile\", \"smile\", \"smile\", \"smith\", \"snake\", \"social\", \"social\", \"society\", \"society\", \"society\", \"solidarity\", \"speed\", \"speed\", \"speed\", \"speed\", \"spend\", \"spend\", \"spend\", \"spend\", \"spending\", \"spending\", \"spending\", \"spending\", \"spring\", \"spring\", \"start\", \"start\", \"start\", \"start\", \"start\", \"start\", \"start\", \"start\", \"stay\", \"stay\", \"stay\", \"stay\", \"stay\", \"stay\", \"stay\", \"stay\", \"steel\", \"stomach\", \"stress\", \"stress\", \"stress\", \"stress\", \"stress\", \"stress\", \"stress\", \"stroke\", \"student\", \"student\", \"student\", \"student\", \"student\", \"suicide\", \"suicide\", \"suicide\", \"sun\", \"sun\", \"sun\", \"sun\", \"swivel\", \"swivel\", \"talk\", \"talk\", \"talk\", \"talk\", \"talk\", \"talk\", \"talk\", \"talk\", \"teach\", \"teach\", \"teach\", \"teach\", \"teach\", \"team\", \"team\", \"team\", \"team\", \"technology\", \"technology\", \"tell\", \"tell\", \"tell\", \"tell\", \"tell\", \"tell\", \"tell\", \"tell\", \"terrain\", \"test\", \"test\", \"test\", \"test\", \"test\", \"test\", \"tether\", \"textbook\", \"thankful\", \"thankful\", \"thirst\", \"thirsty\", \"thirsty\", \"time1\", \"time1\", \"time1\", \"tolerant\", \"tool\", \"tool\", \"tool\", \"tool\", \"touch\", \"touch\", \"touch\", \"touch\", \"touch\", \"touch\", \"town\", \"town\", \"town\", \"town\", \"town\", \"town\", \"town\", \"transmit\", \"travel\", \"travel\", \"travel\", \"travel\", \"truck\", \"truck\", \"truck\", \"try\", \"try\", \"try\", \"try\", \"try\", \"try\", \"try\", \"try\", \"tumbleweed\", \"type\", \"type\", \"type\", \"type\", \"type\", \"type\", \"type\", \"typing\", \"typing\", \"uncensored\", \"unhealthy\", \"unhealthy\", \"unhealthy\", \"update\", \"update\", \"update\", \"update\", \"urban\", \"usage\", \"usage\", \"usage\", \"usage\", \"useful\", \"useful\", \"useful\", \"useful\", \"useful\", \"van\", \"vietnam\", \"violence\", \"violent\", \"violent\", \"virus\", \"vow\", \"wait\", \"wait\", \"wait\", \"wake\", \"wake\", \"wake\", \"wake\", \"walk\", \"walk\", \"walk\", \"walk\", \"walk\", \"warm\", \"warm\", \"warm\", \"warm\", \"warm\", \"warmth\", \"waste\", \"waste\", \"waste\", \"waste\", \"waste\", \"watch\", \"watch\", \"watch\", \"watch\", \"watch\", \"water\", \"water\", \"web\", \"web\", \"website\", \"website\", \"wet\", \"wind\", \"wind\", \"wind\", \"winter\", \"winter\", \"winter\", \"winter\", \"work\", \"work\", \"work\", \"work\", \"work\", \"work\", \"work\", \"work\", \"world\", \"world\", \"world\", \"world\", \"world\", \"world\", \"world\", \"year\", \"year\", \"year\", \"year\", \"year\", \"year\", \"year\", \"york\", \"yosemite\"]}, \"R\": 30, \"lambda.step\": 0.01, \"plot.opts\": {\"xlab\": \"PC1\", \"ylab\": \"PC2\"}, \"topic.order\": [1, 4, 7, 3, 5, 6, 8, 2]};\n",
       "\n",
       "function LDAvis_load_lib(url, callback){\n",
       "  var s = document.createElement('script');\n",
       "  s.src = url;\n",
       "  s.async = true;\n",
       "  s.onreadystatechange = s.onload = callback;\n",
       "  s.onerror = function(){console.warn(\"failed to load library \" + url);};\n",
       "  document.getElementsByTagName(\"head\")[0].appendChild(s);\n",
       "}\n",
       "\n",
       "if(typeof(LDAvis) !== \"undefined\"){\n",
       "   // already loaded: just create the visualization\n",
       "   !function(LDAvis){\n",
       "       new LDAvis(\"#\" + \"ldavis_el1146022842250645362787206531\", ldavis_el1146022842250645362787206531_data);\n",
       "   }(LDAvis);\n",
       "}else if(typeof define === \"function\" && define.amd){\n",
       "   // require.js is available: use it to load d3/LDAvis\n",
       "   require.config({paths: {d3: \"https://cdnjs.cloudflare.com/ajax/libs/d3/3.5.5/d3.min\"}});\n",
       "   require([\"d3\"], function(d3){\n",
       "      window.d3 = d3;\n",
       "      LDAvis_load_lib(\"https://cdn.rawgit.com/bmabey/pyLDAvis/files/ldavis.v1.0.0.js\", function(){\n",
       "        new LDAvis(\"#\" + \"ldavis_el1146022842250645362787206531\", ldavis_el1146022842250645362787206531_data);\n",
       "      });\n",
       "    });\n",
       "}else{\n",
       "    // require.js not available: dynamically load d3 & LDAvis\n",
       "    LDAvis_load_lib(\"https://cdnjs.cloudflare.com/ajax/libs/d3/3.5.5/d3.min.js\", function(){\n",
       "         LDAvis_load_lib(\"https://cdn.rawgit.com/bmabey/pyLDAvis/files/ldavis.v1.0.0.js\", function(){\n",
       "                 new LDAvis(\"#\" + \"ldavis_el1146022842250645362787206531\", ldavis_el1146022842250645362787206531_data);\n",
       "            })\n",
       "         });\n",
       "}\n",
       "</script>"
      ],
      "text/plain": [
       "PreparedData(topic_coordinates=              x         y  topics  cluster       Freq\n",
       "topic                                                \n",
       "0      0.071756 -0.123076       1        1  25.791481\n",
       "3      0.080689  0.073752       2        1  19.300420\n",
       "6      0.107037 -0.126833       3        1  14.366069\n",
       "2     -0.375785 -0.015805       4        1  12.629813\n",
       "4      0.074849 -0.098745       5        1   8.237609\n",
       "5      0.056780 -0.088600       6        1   7.519359\n",
       "7     -0.103776  0.055201       7        1   7.491409\n",
       "1      0.088450  0.324106       8        1   4.663839, topic_info=     Category          Freq           Term         Total  loglift  logprob\n",
       "term                                                                      \n",
       "360   Default  20459.000000       computer  20459.000000  30.0000  30.0000\n",
       "202   Default  13892.000000           book  13892.000000  29.0000  29.0000\n",
       "229   Default   7777.000000       building   7777.000000  28.0000  28.0000\n",
       "520   Default   6250.000000      dirigible   6250.000000  27.0000  27.0000\n",
       "268   Default   4649.000000          caps3   4649.000000  26.0000  26.0000\n",
       "1160  Default   4307.000000           mood   4307.000000  25.0000  25.0000\n",
       "269   Default   3450.000000          caps4   3450.000000  24.0000  24.0000\n",
       "446   Default   3904.000000        cyclist   3904.000000  23.0000  23.0000\n",
       "1039  Default   7502.000000        library   7502.000000  22.0000  22.0000\n",
       "1228  Default   3989.000000       obstacle   3989.000000  21.0000  21.0000\n",
       "1017  Default   4648.000000          laugh   4648.000000  20.0000  20.0000\n",
       "270   Default   2464.000000          caps5   2464.000000  19.0000  19.0000\n",
       "601   Default   3443.000000         empire   3443.000000  18.0000  18.0000\n",
       "1942  Default   2889.000000          water   2889.000000  17.0000  17.0000\n",
       "1236  Default   5073.000000      offensive   5073.000000  16.0000  16.0000\n",
       "1128  Default   2581.000000         memoir   2581.000000  15.0000  15.0000\n",
       "1078  Default   3709.000000           love   3709.000000  14.0000  14.0000\n",
       "1111  Default   2978.000000           mast   2978.000000  13.0000  13.0000\n",
       "1308  Default   3614.000000        person1   3614.000000  12.0000  12.0000\n",
       "271   Default   1905.000000          caps6   1905.000000  11.0000  11.0000\n",
       "1584  Default   2172.000000        setting   2172.000000  10.0000  10.0000\n",
       "1287  Default   3266.000000        patient   3266.000000   9.0000   9.0000\n",
       "228   Default   2571.000000        builder   2571.000000   8.0000   8.0000\n",
       "47    Default   2427.000000         affect   2427.000000   7.0000   7.0000\n",
       "1178  Default   1952.000000          narcs   1952.000000   6.0000   6.0000\n",
       "1689  Default   2375.000000          spend   2375.000000   5.0000   5.0000\n",
       "541   Default   2388.000000           dock   2388.000000   4.0000   4.0000\n",
       "421   Default   2376.000000         create   2376.000000   3.0000   3.0000\n",
       "1162  Default   2322.000000        mooring   2322.000000   2.0000   2.0000\n",
       "1595  Default   3293.000000          shelf   3293.000000   1.0000   1.0000\n",
       "...       ...           ...            ...           ...      ...      ...\n",
       "262    Topic8    124.196788         caps18    125.069671   3.0583  -5.7750\n",
       "261    Topic8    123.171418         caps17    124.044309   3.0583  -5.7833\n",
       "265    Topic8    108.816368         caps21    109.689253   3.0573  -5.9072\n",
       "263    Topic8     94.461324         caps19     95.334197   3.0561  -6.0487\n",
       "1312   Topic8     90.359737        person5     91.232749   3.0557  -6.0931\n",
       "264    Topic8     80.106266         caps20     80.979141   3.0545  -6.2135\n",
       "266    Topic8     67.801938         caps22     68.674807   3.0525  -6.3803\n",
       "267    Topic8     50.370793         caps24     51.243667   3.0482  -6.6775\n",
       "269    Topic8   3283.128967          caps4   3450.854224   3.0155  -2.5003\n",
       "1309   Topic8   1364.864900        person2   1507.003828   2.9663  -3.3781\n",
       "268    Topic8   3705.180065          caps3   4649.370656   2.8383  -2.3794\n",
       "787    Topic8     35.247244         glance     53.760831   2.6432  -7.0345\n",
       "860    Topic8     31.588467          hello     53.731290   2.5341  -7.1441\n",
       "1252   Topic8    454.040469  organization2    784.891389   2.5180  -4.4787\n",
       "1481   Topic8    129.840546          reply    242.746010   2.4396  -5.7306\n",
       "1539   Topic8     27.797402           said     52.562484   2.4283  -7.2719\n",
       "1251   Topic8   1037.218586  organization1   2571.368095   2.1574  -3.6526\n",
       "1308   Topic8   1373.286565        person1   3614.935076   2.0975  -3.3719\n",
       "1253   Topic8     71.871211  organization3    153.838587   2.3043  -6.3220\n",
       "112    Topic8    327.842006            ask   1807.944101   1.3579  -4.8043\n",
       "1072   Topic8    387.279820           look   4309.113824   0.6560  -4.6377\n",
       "1064   Topic8    167.369961      location2    782.757984   1.5227  -5.4767\n",
       "456    Topic8    212.283040          date1   1494.951397   1.1134  -5.2390\n",
       "1063   Topic8    250.757531      location1   2498.985609   0.7662  -5.0724\n",
       "1099   Topic8    178.872608            man   1038.374247   1.3066  -5.4102\n",
       "1931   Topic8    188.808638           walk   1583.091808   0.9389  -5.3561\n",
       "1078   Topic8    214.099151           love   3709.239101   0.2132  -5.2304\n",
       "164    Topic8    154.070380          begin   1026.931110   1.1684  -5.5595\n",
       "1530   Topic8    145.755463            run   1452.010893   0.7666  -5.6149\n",
       "671    Topic8    150.400432           face   3492.702104  -0.0798  -5.5836\n",
       "\n",
       "[514 rows x 6 columns], token_table=      Topic      Freq        Term\n",
       "term                             \n",
       "3         4  0.033762     abandon\n",
       "3         7  0.949545     abandon\n",
       "3         8  0.008440     abandon\n",
       "18        7  0.995884        acid\n",
       "21        3  0.067740      active\n",
       "21        5  0.929887      active\n",
       "22        1  0.104593    activity\n",
       "22        2  0.077698    activity\n",
       "22        3  0.140454    activity\n",
       "22        5  0.657445    activity\n",
       "22        7  0.017930    activity\n",
       "29        5  0.997873      addict\n",
       "30        5  0.991048    addicted\n",
       "31        5  0.991024   addiction\n",
       "35        6  0.989562  admiration\n",
       "47        1  0.040774      affect\n",
       "47        3  0.025536      affect\n",
       "47        5  0.073312      affect\n",
       "47        7  0.859971      affect\n",
       "51        1  0.737413         age\n",
       "51        2  0.038666         age\n",
       "51        3  0.069046         age\n",
       "51        4  0.013119         age\n",
       "51        5  0.075951         age\n",
       "51        6  0.044190         age\n",
       "51        8  0.021404         age\n",
       "54        1  0.036511       ahead\n",
       "54        2  0.070740       ahead\n",
       "54        3  0.031947       ahead\n",
       "54        7  0.839747       ahead\n",
       "...     ...       ...         ...\n",
       "1964      4  0.987008        wind\n",
       "1964      8  0.005456        wind\n",
       "1966      1  0.936787      winter\n",
       "1966      2  0.019832      winter\n",
       "1966      5  0.011666      winter\n",
       "1966      6  0.030332      winter\n",
       "1976      1  0.179581        work\n",
       "1976      2  0.202712        work\n",
       "1976      3  0.316757        work\n",
       "1976      4  0.097661        work\n",
       "1976      5  0.103444        work\n",
       "1976      6  0.052043        work\n",
       "1976      7  0.036302        work\n",
       "1976      8  0.011565        work\n",
       "1978      1  0.394146       world\n",
       "1978      2  0.087089       world\n",
       "1978      3  0.371102       world\n",
       "1978      4  0.033818       world\n",
       "1978      5  0.105644       world\n",
       "1978      7  0.006883       world\n",
       "1978      8  0.001197       world\n",
       "1991      1  0.201785        year\n",
       "1991      2  0.466915        year\n",
       "1991      3  0.127712        year\n",
       "1991      5  0.102680        year\n",
       "1991      6  0.008174        year\n",
       "1991      7  0.019412        year\n",
       "1991      8  0.073051        year\n",
       "1994      4  0.999301        york\n",
       "1995      7  0.997056    yosemite\n",
       "\n",
       "[1325 rows x 3 columns], R=30, lambda_step=0.01, plot_opts={'xlab': 'PC1', 'ylab': 'PC2'}, topic_order=[1, 4, 7, 3, 5, 6, 8, 2])"
      ]
     },
     "execution_count": 31,
     "metadata": {},
     "output_type": "execute_result"
    }
   ],
   "source": [
    "prepare(lda_base, doc_term_matrix, vectorizer)"
   ]
  },
  {
   "cell_type": "markdown",
   "metadata": {},
   "source": [
    "### \"Score Allocation\"\n",
    "\n",
    "Can we take this to the next level and assign target scores based on word probabilities? To keep it simple, we'll limit the essays to topic number 4, \"hibiscus\". This topic has only four target scores and a reasonably balanced distribution."
   ]
  },
  {
   "cell_type": "code",
   "execution_count": 34,
   "metadata": {},
   "outputs": [],
   "source": [
    "hibiscus = training_set[training_set.topic == 'hibiscus']\n",
    "\n",
    "# Split essays into training and test sets\n",
    "train_essays, test_essays = train_test_split(hibiscus, \n",
    "                                         stratify=hibiscus.target_score, \n",
    "                                         test_size=0.2, \n",
    "                                         random_state=42)"
   ]
  },
  {
   "cell_type": "code",
   "execution_count": 35,
   "metadata": {},
   "outputs": [],
   "source": [
    "vectorizer = CountVectorizer(max_df=.2, \n",
    "                             min_df=3, \n",
    "                             stop_words=STOP_WORDS, \n",
    "                             max_features=400) # limit to account for smaller set of essays\n",
    "\n",
    "# Train and test doc-term matrices\n",
    "train_dtm = vectorizer.fit_transform(train_essays.l_essay)\n",
    "test_dtm = vectorizer.fit_transform(test_essays.l_essay)"
   ]
  },
  {
   "cell_type": "code",
   "execution_count": 36,
   "metadata": {},
   "outputs": [
    {
     "name": "stdout",
     "output_type": "stream",
     "text": [
      "iteration: 1 of max_iter: 500\n",
      "iteration: 2 of max_iter: 500\n",
      "iteration: 3 of max_iter: 500\n",
      "iteration: 4 of max_iter: 500\n",
      "iteration: 5 of max_iter: 500, perplexity: 289.0970\n",
      "iteration: 6 of max_iter: 500\n",
      "iteration: 7 of max_iter: 500\n",
      "iteration: 8 of max_iter: 500\n",
      "iteration: 9 of max_iter: 500\n",
      "iteration: 10 of max_iter: 500, perplexity: 279.5138\n",
      "iteration: 11 of max_iter: 500\n",
      "iteration: 12 of max_iter: 500\n",
      "iteration: 13 of max_iter: 500\n",
      "iteration: 14 of max_iter: 500\n",
      "iteration: 15 of max_iter: 500, perplexity: 273.1729\n",
      "iteration: 16 of max_iter: 500\n",
      "iteration: 17 of max_iter: 500\n",
      "iteration: 18 of max_iter: 500\n",
      "iteration: 19 of max_iter: 500\n",
      "iteration: 20 of max_iter: 500, perplexity: 270.1631\n",
      "iteration: 21 of max_iter: 500\n",
      "iteration: 22 of max_iter: 500\n",
      "iteration: 23 of max_iter: 500\n",
      "iteration: 24 of max_iter: 500\n",
      "iteration: 25 of max_iter: 500, perplexity: 268.8611\n",
      "iteration: 26 of max_iter: 500\n",
      "iteration: 27 of max_iter: 500\n",
      "iteration: 28 of max_iter: 500\n",
      "iteration: 29 of max_iter: 500\n",
      "iteration: 30 of max_iter: 500, perplexity: 268.0383\n",
      "iteration: 31 of max_iter: 500\n",
      "iteration: 32 of max_iter: 500\n",
      "iteration: 33 of max_iter: 500\n",
      "iteration: 34 of max_iter: 500\n",
      "iteration: 35 of max_iter: 500, perplexity: 267.3695\n",
      "iteration: 36 of max_iter: 500\n",
      "iteration: 37 of max_iter: 500\n",
      "iteration: 38 of max_iter: 500\n",
      "iteration: 39 of max_iter: 500\n",
      "iteration: 40 of max_iter: 500, perplexity: 266.9789\n",
      "iteration: 41 of max_iter: 500\n",
      "iteration: 42 of max_iter: 500\n",
      "iteration: 43 of max_iter: 500\n",
      "iteration: 44 of max_iter: 500\n",
      "iteration: 45 of max_iter: 500, perplexity: 266.7623\n",
      "iteration: 46 of max_iter: 500\n",
      "iteration: 47 of max_iter: 500\n",
      "iteration: 48 of max_iter: 500\n",
      "iteration: 49 of max_iter: 500\n",
      "iteration: 50 of max_iter: 500, perplexity: 266.5564\n",
      "iteration: 51 of max_iter: 500\n",
      "iteration: 52 of max_iter: 500\n",
      "iteration: 53 of max_iter: 500\n",
      "iteration: 54 of max_iter: 500\n",
      "iteration: 55 of max_iter: 500, perplexity: 266.4294\n",
      "iteration: 56 of max_iter: 500\n",
      "iteration: 57 of max_iter: 500\n",
      "iteration: 58 of max_iter: 500\n",
      "iteration: 59 of max_iter: 500\n",
      "iteration: 60 of max_iter: 500, perplexity: 266.3415\n"
     ]
    },
    {
     "data": {
      "text/plain": [
       "['lda_score.pkl']"
      ]
     },
     "execution_count": 36,
     "metadata": {},
     "output_type": "execute_result"
    }
   ],
   "source": [
    "lda_score = LatentDirichletAllocation(n_components=4,\n",
    "                                     n_jobs=-1,\n",
    "                                     learning_method='batch',\n",
    "                                     evaluate_every=5,\n",
    "                                     verbose=1, \n",
    "                                     max_iter=500)\n",
    "lda_score.fit(train_dtm)\n",
    "\n",
    "# save training model\n",
    "joblib.dump(lda_score, 'lda_score.pkl')"
   ]
  },
  {
   "cell_type": "code",
   "execution_count": 39,
   "metadata": {},
   "outputs": [
    {
     "data": {
      "text/html": [
       "<div>\n",
       "<style scoped>\n",
       "    .dataframe tbody tr th:only-of-type {\n",
       "        vertical-align: middle;\n",
       "    }\n",
       "\n",
       "    .dataframe tbody tr th {\n",
       "        vertical-align: top;\n",
       "    }\n",
       "\n",
       "    .dataframe thead th {\n",
       "        text-align: right;\n",
       "    }\n",
       "</style>\n",
       "<table border=\"1\" class=\"dataframe\">\n",
       "  <thead>\n",
       "    <tr style=\"text-align: right;\">\n",
       "      <th></th>\n",
       "      <th>Score A</th>\n",
       "      <th>Score B</th>\n",
       "      <th>Score C</th>\n",
       "      <th>Score D</th>\n",
       "    </tr>\n",
       "    <tr>\n",
       "      <th>target_score</th>\n",
       "      <th></th>\n",
       "      <th></th>\n",
       "      <th></th>\n",
       "      <th></th>\n",
       "    </tr>\n",
       "  </thead>\n",
       "  <tbody>\n",
       "    <tr>\n",
       "      <th>1</th>\n",
       "      <td>0.660247</td>\n",
       "      <td>0.025972</td>\n",
       "      <td>0.026131</td>\n",
       "      <td>0.287649</td>\n",
       "    </tr>\n",
       "    <tr>\n",
       "      <th>2</th>\n",
       "      <td>0.014167</td>\n",
       "      <td>0.122066</td>\n",
       "      <td>0.566254</td>\n",
       "      <td>0.297513</td>\n",
       "    </tr>\n",
       "    <tr>\n",
       "      <th>0</th>\n",
       "      <td>0.042368</td>\n",
       "      <td>0.043872</td>\n",
       "      <td>0.559395</td>\n",
       "      <td>0.354365</td>\n",
       "    </tr>\n",
       "    <tr>\n",
       "      <th>1</th>\n",
       "      <td>0.015324</td>\n",
       "      <td>0.535914</td>\n",
       "      <td>0.016749</td>\n",
       "      <td>0.432014</td>\n",
       "    </tr>\n",
       "    <tr>\n",
       "      <th>2</th>\n",
       "      <td>0.723890</td>\n",
       "      <td>0.014013</td>\n",
       "      <td>0.013799</td>\n",
       "      <td>0.248298</td>\n",
       "    </tr>\n",
       "  </tbody>\n",
       "</table>\n",
       "</div>"
      ],
      "text/plain": [
       "               Score A   Score B   Score C   Score D\n",
       "target_score                                        \n",
       "1             0.660247  0.025972  0.026131  0.287649\n",
       "2             0.014167  0.122066  0.566254  0.297513\n",
       "0             0.042368  0.043872  0.559395  0.354365\n",
       "1             0.015324  0.535914  0.016749  0.432014\n",
       "2             0.723890  0.014013  0.013799  0.248298"
      ]
     },
     "execution_count": 39,
     "metadata": {},
     "output_type": "execute_result"
    }
   ],
   "source": [
    "topic_labels = ['Score A', 'Score B', 'Score C', 'Score D'] #.format(i) for i in range(1, 5)]\n",
    "\n",
    "train_preds = lda_score.transform(train_dtm)\n",
    "train_eval = pd.DataFrame(train_preds, columns=topic_labels, index=train_essays.target_score)\n",
    "train_eval.sample(5)"
   ]
  },
  {
   "cell_type": "code",
   "execution_count": 40,
   "metadata": {
    "scrolled": false
   },
   "outputs": [
    {
     "data": {
      "image/png": "[encoded data removed]",
      "text/plain": [
       "<Figure size 576x360 with 1 Axes>"
      ]
     },
     "metadata": {},
     "output_type": "display_data"
    }
   ],
   "source": [
    "train_eval.groupby(level='target_score')\\\n",
    "            .mean()\\\n",
    "            .plot\\\n",
    "            .bar(title='Avg. Topic Probabilities', rot=0, colormap='tab10', figsize=(8,5));"
   ]
  },
  {
   "cell_type": "code",
   "execution_count": 41,
   "metadata": {
    "scrolled": false
   },
   "outputs": [
    {
     "data": {
      "text/html": [
       "<div>\n",
       "<style scoped>\n",
       "    .dataframe tbody tr th:only-of-type {\n",
       "        vertical-align: middle;\n",
       "    }\n",
       "\n",
       "    .dataframe tbody tr th {\n",
       "        vertical-align: top;\n",
       "    }\n",
       "\n",
       "    .dataframe thead th {\n",
       "        text-align: right;\n",
       "    }\n",
       "</style>\n",
       "<table border=\"1\" class=\"dataframe\">\n",
       "  <thead>\n",
       "    <tr style=\"text-align: right;\">\n",
       "      <th></th>\n",
       "      <th>target_score</th>\n",
       "      <th>assignment</th>\n",
       "    </tr>\n",
       "  </thead>\n",
       "  <tbody>\n",
       "    <tr>\n",
       "      <th>0</th>\n",
       "      <td>0</td>\n",
       "      <td>Score A</td>\n",
       "    </tr>\n",
       "    <tr>\n",
       "      <th>1</th>\n",
       "      <td>1</td>\n",
       "      <td>Score D</td>\n",
       "    </tr>\n",
       "    <tr>\n",
       "      <th>2</th>\n",
       "      <td>2</td>\n",
       "      <td>Score C</td>\n",
       "    </tr>\n",
       "    <tr>\n",
       "      <th>3</th>\n",
       "      <td>3</td>\n",
       "      <td>Score C</td>\n",
       "    </tr>\n",
       "  </tbody>\n",
       "</table>\n",
       "</div>"
      ],
      "text/plain": [
       "   target_score assignment\n",
       "0             0    Score A\n",
       "1             1    Score D\n",
       "2             2    Score C\n",
       "3             3    Score C"
      ]
     },
     "execution_count": 41,
     "metadata": {},
     "output_type": "execute_result"
    },
    {
     "data": {
      "image/png": "[encoded data removed]",
      "text/plain": [
       "<Figure size 432x288 with 2 Axes>"
      ]
     },
     "metadata": {},
     "output_type": "display_data"
    }
   ],
   "source": [
    "df = train_eval.groupby(level='target_score').agg('median')\n",
    "sns.heatmap(df, annot=True, fmt='.1%', cmap='Blues', square=True)\n",
    "plt.title('Train Data: Score Assignments');\n",
    "\n",
    "df = train_eval\\\n",
    "            .idxmax(axis=1)\\\n",
    "            .reset_index()\\\n",
    "            .groupby('target_score', as_index=False)\\\n",
    "            .agg(lambda x:x.value_counts().index[0])\\\n",
    "            .rename(columns={0:'assignment'})\n",
    "df"
   ]
  },
  {
   "cell_type": "code",
   "execution_count": 42,
   "metadata": {},
   "outputs": [
    {
     "data": {
      "text/html": [
       "<div>\n",
       "<style scoped>\n",
       "    .dataframe tbody tr th:only-of-type {\n",
       "        vertical-align: middle;\n",
       "    }\n",
       "\n",
       "    .dataframe tbody tr th {\n",
       "        vertical-align: top;\n",
       "    }\n",
       "\n",
       "    .dataframe thead th {\n",
       "        text-align: right;\n",
       "    }\n",
       "</style>\n",
       "<table border=\"1\" class=\"dataframe\">\n",
       "  <thead>\n",
       "    <tr style=\"text-align: right;\">\n",
       "      <th></th>\n",
       "      <th>Score A</th>\n",
       "      <th>Score B</th>\n",
       "      <th>Score C</th>\n",
       "      <th>Score D</th>\n",
       "    </tr>\n",
       "    <tr>\n",
       "      <th>target_score</th>\n",
       "      <th></th>\n",
       "      <th></th>\n",
       "      <th></th>\n",
       "      <th></th>\n",
       "    </tr>\n",
       "  </thead>\n",
       "  <tbody>\n",
       "    <tr>\n",
       "      <th>2</th>\n",
       "      <td>0.011977</td>\n",
       "      <td>0.254760</td>\n",
       "      <td>0.347584</td>\n",
       "      <td>0.385679</td>\n",
       "    </tr>\n",
       "    <tr>\n",
       "      <th>3</th>\n",
       "      <td>0.286519</td>\n",
       "      <td>0.353608</td>\n",
       "      <td>0.170209</td>\n",
       "      <td>0.189664</td>\n",
       "    </tr>\n",
       "    <tr>\n",
       "      <th>0</th>\n",
       "      <td>0.607361</td>\n",
       "      <td>0.133645</td>\n",
       "      <td>0.133992</td>\n",
       "      <td>0.125002</td>\n",
       "    </tr>\n",
       "    <tr>\n",
       "      <th>1</th>\n",
       "      <td>0.202250</td>\n",
       "      <td>0.137793</td>\n",
       "      <td>0.318266</td>\n",
       "      <td>0.341692</td>\n",
       "    </tr>\n",
       "    <tr>\n",
       "      <th>1</th>\n",
       "      <td>0.620999</td>\n",
       "      <td>0.032699</td>\n",
       "      <td>0.313826</td>\n",
       "      <td>0.032476</td>\n",
       "    </tr>\n",
       "  </tbody>\n",
       "</table>\n",
       "</div>"
      ],
      "text/plain": [
       "               Score A   Score B   Score C   Score D\n",
       "target_score                                        \n",
       "2             0.011977  0.254760  0.347584  0.385679\n",
       "3             0.286519  0.353608  0.170209  0.189664\n",
       "0             0.607361  0.133645  0.133992  0.125002\n",
       "1             0.202250  0.137793  0.318266  0.341692\n",
       "1             0.620999  0.032699  0.313826  0.032476"
      ]
     },
     "execution_count": 42,
     "metadata": {},
     "output_type": "execute_result"
    }
   ],
   "source": [
    "test_preds = lda_score.transform(test_dtm)\n",
    "test_eval = pd.DataFrame(test_preds, columns=topic_labels, index=test_essays.target_score)\n",
    "test_eval.head()"
   ]
  },
  {
   "cell_type": "code",
   "execution_count": 43,
   "metadata": {},
   "outputs": [
    {
     "data": {
      "image/png": "[encoded data removed]",
      "text/plain": [
       "<Figure size 432x288 with 1 Axes>"
      ]
     },
     "metadata": {},
     "output_type": "display_data"
    }
   ],
   "source": [
    "test_eval.groupby(level='target_score')\\\n",
    "            .mean()\\\n",
    "            .plot\\\n",
    "            .bar(title='Avg. Topic Probabilities', rot=0);"
   ]
  },
  {
   "cell_type": "code",
   "execution_count": 44,
   "metadata": {},
   "outputs": [
    {
     "data": {
      "image/png": "[encoded data removed]",
      "text/plain": [
       "<Figure size 432x288 with 2 Axes>"
      ]
     },
     "metadata": {},
     "output_type": "display_data"
    }
   ],
   "source": [
    "df = test_eval.groupby(level='target_score').agg('median')\n",
    "sns.heatmap(df, annot=True, fmt='.1%', cmap='Blues', square=True)\n",
    "plt.title('Topic Assignments')\n",
    "plt.show()"
   ]
  },
  {
   "cell_type": "code",
   "execution_count": 45,
   "metadata": {},
   "outputs": [
    {
     "data": {
      "image/png": "[encoded data removed]",
      "text/plain": [
       "<Figure size 576x432 with 2 Axes>"
      ]
     },
     "metadata": {},
     "output_type": "display_data"
    }
   ],
   "source": [
    "fig, axes = plt.subplots(ncols=2, figsize=(8,6), sharey=True)\n",
    "source = ['Train', 'Test']\n",
    "for i, df in enumerate([train_eval, test_eval]):\n",
    "    df = df.groupby(level='target_score').agg('median')\n",
    "    sns.heatmap(df, annot=True, fmt='.1%', cmap='Blues', square=True, ax=axes[i], cbar=False)\n",
    "    axes[i].set_title('{} Data: Topic Assignments'.format(source[i]))\n",
    "plt.tight_layout()\n",
    "plt.show()"
   ]
  },
  {
   "cell_type": "markdown",
   "metadata": {},
   "source": [
    "While the charts above are very similar to a confusion matrix, the ordering of the LDA derived topics (A,B,C,D) doesn't necessarily match the human-labeled topic ordering (0,1,2,3). Thus, the high percentages, shown here as deep blues, are not expected to be found along the diagonal. Instead the goal is to find topic distinction, indicated by a single dark square in each column, and model accuracy, indicated by identical color patterns between train and test data sets.\n",
    "\n",
    "As seen above, there is some agreement between train and test data that essays with highest and lowest scores are distinct and assigned \"Score A\" and \"Score B\" respectively.  Overall, both topic distinction and model accuracy are rather poor. It is highly improbable this approach could be extended to any of the other topics due to the larger range of scores and class imbalance. \n",
    "\n",
    "Furthermore, repeated LDA runs show a lack of reproducability, which is a sign of poor distinction of topics. In summary, topic modelling, or more specifically using word frequencies and probabilities is not a useful tool to grade student essays. In the next notebook we'll continue with machine learning algorithms."
   ]
  }
 ],
 "metadata": {
  "kernelspec": {
   "display_name": "Python 3",
   "language": "python",
   "name": "python3"
  },
  "language_info": {
   "codemirror_mode": {
    "name": "ipython",
    "version": 3
   },
   "file_extension": ".py",
   "mimetype": "text/x-python",
   "name": "python",
   "nbconvert_exporter": "python",
   "pygments_lexer": "ipython3",
   "version": "3.7.1"
  }
 },
 "nbformat": 4,
 "nbformat_minor": 2
}
