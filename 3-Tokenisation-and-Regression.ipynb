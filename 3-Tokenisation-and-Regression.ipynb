{
 "cells": [
  {
   "cell_type": "markdown",
   "metadata": {},
   "source": [
    "# Tokenisation and Regression\n",
    "\n",
    "## Features:\n",
    "\n",
    "1. Bag of Words (BOW) counts (10000 words with maximum frequency)\n",
    "2. Number of characters in an essay\n",
    "3. Number of words in an essay\n",
    "4. Number of sentences in an essay\n",
    "5. Average word length of an essay\n",
    "6. Number of lemmas in an essay\n",
    "7. Number of spellng errors in an essay\n",
    "8. Number of nouns in an essay\n",
    "9. Number of adjectives in an essay\n",
    "10. Number of verbs in an essay\n",
    "11. Number of adverbs in an essay\n",
    "\n",
    "## Models:\n",
    "\n",
    "1. Using only BOW features:\n",
    "    - Linear Regression\n",
    "    - Lasso Regression\n",
    "2. Using only numerical/POS/Orthographic features:\n",
    "    - Linear Regression\n",
    "    - Ridge Regression\n",
    "    - Lasso Regression\n",
    "    - Gradient Boosting Regression\n",
    "3. Using all features:\n",
    "    - Linear Regression\n",
    "    - Ridge Regression\n",
    "    - Lasso Regression\n",
    "    - Support Vector Regression\n",
    "    - Gradient Boosting Regression\n",
    "\n",
    "## Model Evaluation Metrics:\n",
    "\n",
    "1. Error: mean_squared_error - a risk metric corresponding to the expected value of the squared (quadratic) error or loss\n",
    "2. Variance: estimator score() function or r2_score - R², the coefficient of determination; provides a measure of how well future samples are likely to be predicted by the model\n",
    "3. Score Agreement: cohen_kappa_score - measures of agreement between observed accuracy and expected accuracy"
   ]
  },
  {
   "cell_type": "code",
   "execution_count": 2,
   "metadata": {},
   "outputs": [],
   "source": [
    "# importing required packages\n",
    "\n",
    "import nltk\n",
    "import pandas as pd\n",
    "import numpy as np\n",
    "import matplotlib.pyplot as plt\n",
    "from nltk.stem import WordNetLemmatizer\n",
    "from nltk.corpus import wordnet\n",
    "import re, collections\n",
    "from collections import defaultdict\n",
    "from sklearn.feature_extraction.text import CountVectorizer\n",
    "from sklearn.metrics import mean_squared_error, r2_score\n",
    "from sklearn.model_selection import train_test_split\n",
    "from sklearn.linear_model import LinearRegression, Ridge, Lasso\n",
    "from sklearn.svm import SVR\n",
    "from sklearn import ensemble\n",
    "from sklearn.model_selection import GridSearchCV\n",
    "from sklearn.metrics import cohen_kappa_score"
   ]
  },
  {
   "cell_type": "code",
   "execution_count": 3,
   "metadata": {},
   "outputs": [],
   "source": [
    "# getting data in a pandas dataframe\n",
    "\n",
    "dataframe = training_set  = pd.read_csv('kaggle-dataset/training_set_rel3.tsv', sep='\\t', encoding = \"ISO-8859-1\", header=0)"
   ]
  },
  {
   "cell_type": "code",
   "execution_count": 4,
   "metadata": {},
   "outputs": [],
   "source": [
    "# getting relevant columns\n",
    "\n",
    "data = dataframe[['essay_set','essay','domain1_score']].copy()"
   ]
  },
  {
   "cell_type": "markdown",
   "metadata": {},
   "source": [
    "# Tokenisation and Feature Extraction"
   ]
  },
  {
   "cell_type": "code",
   "execution_count": 5,
   "metadata": {},
   "outputs": [],
   "source": [
    "# Tokenize a sentence into words\n",
    "\n",
    "def sentence_to_wordlist(raw_sentence):\n",
    "    \n",
    "    clean_sentence = re.sub(\"[^a-zA-Z0-9]\",\" \", raw_sentence)\n",
    "    tokens = nltk.word_tokenize(clean_sentence)\n",
    "    \n",
    "    return tokens"
   ]
  },
  {
   "cell_type": "code",
   "execution_count": 6,
   "metadata": {},
   "outputs": [],
   "source": [
    "# tokenizing an essay into a list of word lists\n",
    "\n",
    "def tokenize(essay):\n",
    "    stripped_essay = essay.strip()\n",
    "    \n",
    "    tokenizer = nltk.data.load('tokenizers/punkt/english.pickle')\n",
    "    raw_sentences = tokenizer.tokenize(stripped_essay)\n",
    "    \n",
    "    tokenized_sentences = []\n",
    "    for raw_sentence in raw_sentences:\n",
    "        if len(raw_sentence) > 0:\n",
    "            tokenized_sentences.append(sentence_to_wordlist(raw_sentence))\n",
    "    \n",
    "    return tokenized_sentences"
   ]
  },
  {
   "cell_type": "code",
   "execution_count": 7,
   "metadata": {},
   "outputs": [],
   "source": [
    "# calculating average word length in an essay\n",
    "\n",
    "def avg_word_len(essay):\n",
    "    \n",
    "    clean_essay = re.sub(r'\\W', ' ', essay)\n",
    "    words = nltk.word_tokenize(clean_essay)\n",
    "    \n",
    "    return sum(len(word) for word in words) / len(words)"
   ]
  },
  {
   "cell_type": "code",
   "execution_count": 8,
   "metadata": {},
   "outputs": [],
   "source": [
    "# calculating number of words in an essay\n",
    "\n",
    "def word_count(essay):\n",
    "    \n",
    "    clean_essay = re.sub(r'\\W', ' ', essay)\n",
    "    words = nltk.word_tokenize(clean_essay)\n",
    "    \n",
    "    return len(words)"
   ]
  },
  {
   "cell_type": "code",
   "execution_count": 9,
   "metadata": {},
   "outputs": [],
   "source": [
    "# calculating number of characters in an essay\n",
    "\n",
    "def char_count(essay):\n",
    "    \n",
    "    clean_essay = re.sub(r'\\s', '', str(essay).lower())\n",
    "    \n",
    "    return len(clean_essay)"
   ]
  },
  {
   "cell_type": "code",
   "execution_count": 10,
   "metadata": {},
   "outputs": [],
   "source": [
    "# calculating number of sentences in an essay\n",
    "\n",
    "def sent_count(essay):\n",
    "    \n",
    "    sentences = nltk.sent_tokenize(essay)\n",
    "    \n",
    "    return len(sentences)"
   ]
  },
  {
   "cell_type": "code",
   "execution_count": 11,
   "metadata": {},
   "outputs": [],
   "source": [
    "# calculating number of lemmas per essay\n",
    "\n",
    "def count_lemmas(essay):\n",
    "    \n",
    "    tokenized_sentences = tokenize(essay)      \n",
    "    \n",
    "    lemmas = []\n",
    "    wordnet_lemmatizer = WordNetLemmatizer()\n",
    "    \n",
    "    for sentence in tokenized_sentences:\n",
    "        tagged_tokens = nltk.pos_tag(sentence) \n",
    "        \n",
    "        for token_tuple in tagged_tokens:\n",
    "        \n",
    "            pos_tag = token_tuple[1]\n",
    "        \n",
    "            if pos_tag.startswith('N'): \n",
    "                pos = wordnet.NOUN\n",
    "                lemmas.append(wordnet_lemmatizer.lemmatize(token_tuple[0], pos))\n",
    "            elif pos_tag.startswith('J'):\n",
    "                pos = wordnet.ADJ\n",
    "                lemmas.append(wordnet_lemmatizer.lemmatize(token_tuple[0], pos))\n",
    "            elif pos_tag.startswith('V'):\n",
    "                pos = wordnet.VERB\n",
    "                lemmas.append(wordnet_lemmatizer.lemmatize(token_tuple[0], pos))\n",
    "            elif pos_tag.startswith('R'):\n",
    "                pos = wordnet.ADV\n",
    "                lemmas.append(wordnet_lemmatizer.lemmatize(token_tuple[0], pos))\n",
    "            else:\n",
    "                pos = wordnet.NOUN\n",
    "                lemmas.append(wordnet_lemmatizer.lemmatize(token_tuple[0], pos))\n",
    "    \n",
    "    lemma_count = len(set(lemmas))\n",
    "    \n",
    "    return lemma_count"
   ]
  },
  {
   "cell_type": "code",
   "execution_count": 12,
   "metadata": {},
   "outputs": [],
   "source": [
    "# checking number of misspelled words\n",
    "\n",
    "def count_spell_error(essay):\n",
    "    \n",
    "    clean_essay = re.sub(r'\\W', ' ', str(essay).lower())\n",
    "    clean_essay = re.sub(r'[0-9]', '', clean_essay)\n",
    "    \n",
    "    #big.txt: It is a concatenation of public domain book excerpts from Project Gutenberg \n",
    "    #         and lists of most frequent words from Wiktionary and the British National Corpus.\n",
    "    #         It contains about a million words.\n",
    "    data = open('big.txt').read()\n",
    "    \n",
    "    words_ = re.findall('[a-z]+', data.lower())\n",
    "    \n",
    "    word_dict = collections.defaultdict(lambda: 0)\n",
    "                       \n",
    "    for word in words_:\n",
    "        word_dict[word] += 1\n",
    "                       \n",
    "    clean_essay = re.sub(r'\\W', ' ', str(essay).lower())\n",
    "    clean_essay = re.sub(r'[0-9]', '', clean_essay)\n",
    "                        \n",
    "    mispell_count = 0\n",
    "    \n",
    "    words = clean_essay.split()\n",
    "                        \n",
    "    for word in words:\n",
    "        if not word in word_dict:\n",
    "            mispell_count += 1\n",
    "    \n",
    "    return mispell_count"
   ]
  },
  {
   "cell_type": "code",
   "execution_count": 13,
   "metadata": {},
   "outputs": [],
   "source": [
    "# calculating number of nouns, adjectives, verbs and adverbs in an essay\n",
    "\n",
    "def count_pos(essay):\n",
    "    \n",
    "    tokenized_sentences = tokenize(essay)\n",
    "    \n",
    "    noun_count = 0\n",
    "    adj_count = 0\n",
    "    verb_count = 0\n",
    "    adv_count = 0\n",
    "    \n",
    "    for sentence in tokenized_sentences:\n",
    "        tagged_tokens = nltk.pos_tag(sentence)\n",
    "        \n",
    "        for token_tuple in tagged_tokens:\n",
    "            pos_tag = token_tuple[1]\n",
    "        \n",
    "            if pos_tag.startswith('N'): \n",
    "                noun_count += 1\n",
    "            elif pos_tag.startswith('J'):\n",
    "                adj_count += 1\n",
    "            elif pos_tag.startswith('V'):\n",
    "                verb_count += 1\n",
    "            elif pos_tag.startswith('R'):\n",
    "                adv_count += 1\n",
    "            \n",
    "    return noun_count, adj_count, verb_count, adv_count\n",
    "    "
   ]
  },
  {
   "cell_type": "code",
   "execution_count": 14,
   "metadata": {},
   "outputs": [],
   "source": [
    "# getiing Bag of Words (BOW) counts\n",
    "\n",
    "def get_count_vectors(essays):\n",
    "    \n",
    "    vectorizer = CountVectorizer(max_features = 10000, ngram_range=(1, 3), stop_words='english')\n",
    "    \n",
    "    count_vectors = vectorizer.fit_transform(essays)\n",
    "    \n",
    "    feature_names = vectorizer.get_feature_names()\n",
    "    \n",
    "    return feature_names, count_vectors"
   ]
  },
  {
   "cell_type": "markdown",
   "metadata": {},
   "source": [
    "## BOW"
   ]
  },
  {
   "cell_type": "code",
   "execution_count": 15,
   "metadata": {},
   "outputs": [
    {
     "name": "stderr",
     "output_type": "stream",
     "text": [
      "/Users/Eesha/anaconda3/lib/python3.7/site-packages/ipykernel_launcher.py:7: FutureWarning: Method .as_matrix will be removed in a future version. Use .values instead.\n",
      "  import sys\n"
     ]
    }
   ],
   "source": [
    "# splitting data into train data and test data (70/30)\n",
    "\n",
    "feature_names_cv, count_vectors = get_count_vectors(data[data['essay_set'] == 1]['essay'])\n",
    "\n",
    "X_cv = count_vectors.toarray()\n",
    "\n",
    "y_cv = data[data['essay_set'] == 1]['domain1_score'].as_matrix()\n",
    "\n",
    "X_train, X_test, y_train, y_test = train_test_split(X_cv, y_cv, test_size = 0.3)"
   ]
  },
  {
   "cell_type": "code",
   "execution_count": 16,
   "metadata": {},
   "outputs": [
    {
     "name": "stdout",
     "output_type": "stream",
     "text": [
      "Coefficients: \n",
      " [ 0.05516585  0.12307622 -0.02449061 ... -0.10331034  0.03255461\n",
      " -0.01230697]\n",
      "Mean squared error: 1.91\n",
      "Variance score: 0.15\n",
      "Cohen's kappa score: 0.13\n"
     ]
    }
   ],
   "source": [
    "# Training a Linear Regression model using only Bag of Words (BOW)\n",
    "\n",
    "linear_regressor = LinearRegression()\n",
    "\n",
    "linear_regressor.fit(X_train, y_train)\n",
    "\n",
    "y_pred = linear_regressor.predict(X_test)\n",
    "\n",
    "# The coefficients\n",
    "print('Coefficients: \\n', linear_regressor.coef_)\n",
    "\n",
    "# The mean squared error\n",
    "print(\"Mean squared error: %.2f\" % mean_squared_error(y_test, y_pred))\n",
    "\n",
    "# Explained variance score: 1 is perfect prediction\n",
    "print('Variance score: %.2f' % linear_regressor.score(X_test, y_test))\n",
    "\n",
    "# Cohen’s kappa score: 1 is complete agreement\n",
    "print('Cohen\\'s kappa score: %.2f' % cohen_kappa_score(np.rint(y_pred), y_test))"
   ]
  },
  {
   "cell_type": "code",
   "execution_count": 17,
   "metadata": {},
   "outputs": [
    {
     "name": "stderr",
     "output_type": "stream",
     "text": [
      "/Users/Eesha/anaconda3/lib/python3.7/site-packages/sklearn/model_selection/_split.py:2053: FutureWarning: You should specify a value for 'cv' instead of relying on the default value. The default value will change from 3 to 5 in version 0.22.\n",
      "  warnings.warn(CV_WARNING, FutureWarning)\n"
     ]
    },
    {
     "name": "stdout",
     "output_type": "stream",
     "text": [
      "0.5313398532914625\n",
      "0.01\n",
      "Mean squared error: 0.98\n",
      "Variance score: 0.56\n",
      "Cohen's kappa score: 0.28\n"
     ]
    }
   ],
   "source": [
    "# Training a Lasso Regression model (l1 regularization) using only Bag of Words (BOW)\n",
    "\n",
    "alphas = np.array([3, 1, 0.3, 0.1, 0.03, 0.01])\n",
    "\n",
    "lasso_regressor = Lasso()\n",
    "\n",
    "grid = GridSearchCV(estimator = lasso_regressor, param_grid = dict(alpha=alphas))\n",
    "grid.fit(X_train, y_train)\n",
    "\n",
    "y_pred = grid.predict(X_test)\n",
    "\n",
    "# summarize the results of the grid search\n",
    "print(grid.best_score_)\n",
    "print(grid.best_estimator_.alpha)\n",
    "\n",
    "# The mean squared error\n",
    "print(\"Mean squared error: %.2f\" % mean_squared_error(y_test, y_pred))\n",
    "\n",
    "# Explained variance score: 1 is perfect prediction\n",
    "print('Variance score: %.2f' % grid.score(X_test, y_test))\n",
    "\n",
    "# Cohen’s kappa score: 1 is complete agreement\n",
    "print('Cohen\\'s kappa score: %.2f' % cohen_kappa_score(np.rint(y_pred), y_test))"
   ]
  },
  {
   "cell_type": "markdown",
   "metadata": {},
   "source": [
    "## EDA based on extracted features"
   ]
  },
  {
   "cell_type": "code",
   "execution_count": 18,
   "metadata": {},
   "outputs": [],
   "source": [
    "# extracting essay features\n",
    "\n",
    "def extract_features(data):\n",
    "    \n",
    "    features = data.copy()\n",
    "    \n",
    "    features['char_count'] = features['essay'].apply(char_count)\n",
    "    \n",
    "    features['word_count'] = features['essay'].apply(word_count)\n",
    "    \n",
    "    features['sent_count'] = features['essay'].apply(sent_count)\n",
    "    \n",
    "    features['avg_word_len'] = features['essay'].apply(avg_word_len)\n",
    "    \n",
    "    features['lemma_count'] = features['essay'].apply(count_lemmas)\n",
    "    \n",
    "    features['spell_err_count'] = features['essay'].apply(count_spell_error)\n",
    "    \n",
    "    features['noun_count'], features['adj_count'], features['verb_count'], features['adv_count'] = zip(*features['essay'].map(count_pos))\n",
    "    \n",
    "    return features"
   ]
  },
  {
   "cell_type": "code",
   "execution_count": null,
   "metadata": {},
   "outputs": [],
   "source": [
    "# extracting features from essay set 1\n",
    "\n",
    "features_set1 = extract_features(data[data['essay_set'] == 1])\n",
    "\n",
    "print(features_set1)"
   ]
  },
  {
   "cell_type": "code",
   "execution_count": 22,
   "metadata": {
    "scrolled": false
   },
   "outputs": [
    {
     "data": {
      "text/plain": [
       "<matplotlib.axes._subplots.AxesSubplot at 0x1a3f477b38>"
      ]
     },
     "execution_count": 22,
     "metadata": {},
     "output_type": "execute_result"
    },
    {
     "data": {
      "image/png": "[encoded data removed]",
      "text/plain": [
       "<Figure size 432x288 with 1 Axes>"
      ]
     },
     "metadata": {
      "needs_background": "light"
     },
     "output_type": "display_data"
    },
    {
     "data": {
      "image/png": "[encoded data removed]",
      "text/plain": [
       "<Figure size 432x288 with 1 Axes>"
      ]
     },
     "metadata": {
      "needs_background": "light"
     },
     "output_type": "display_data"
    },
    {
     "data": {
      "image/png": "[encoded data removed]",
      "text/plain": [
       "<Figure size 432x288 with 1 Axes>"
      ]
     },
     "metadata": {
      "needs_background": "light"
     },
     "output_type": "display_data"
    },
    {
     "data": {
      "image/png": "[encoded data removed]",
      "text/plain": [
       "<Figure size 432x288 with 1 Axes>"
      ]
     },
     "metadata": {
      "needs_background": "light"
     },
     "output_type": "display_data"
    },
    {
     "data": {
      "image/png": "[encoded data removed]",
      "text/plain": [
       "<Figure size 432x288 with 1 Axes>"
      ]
     },
     "metadata": {
      "needs_background": "light"
     },
     "output_type": "display_data"
    },
    {
     "data": {
      "image/png": "[encoded data removed]",
      "text/plain": [
       "<Figure size 432x288 with 1 Axes>"
      ]
     },
     "metadata": {
      "needs_background": "light"
     },
     "output_type": "display_data"
    },
    {
     "data": {
      "image/png": "[encoded data removed]",
      "text/plain": [
       "<Figure size 432x288 with 1 Axes>"
      ]
     },
     "metadata": {
      "needs_background": "light"
     },
     "output_type": "display_data"
    },
    {
     "data": {
      "image/png": "[encoded data removed]",
      "text/plain": [
       "<Figure size 432x288 with 1 Axes>"
      ]
     },
     "metadata": {
      "needs_background": "light"
     },
     "output_type": "display_data"
    },
    {
     "data": {
      "image/png": "[encoded data removed]",
      "text/plain": [
       "<Figure size 432x288 with 1 Axes>"
      ]
     },
     "metadata": {
      "needs_background": "light"
     },
     "output_type": "display_data"
    },
    {
     "data": {
      "image/png": "[encoded data removed]",
      "text/plain": [
       "<Figure size 432x288 with 1 Axes>"
      ]
     },
     "metadata": {
      "needs_background": "light"
     },
     "output_type": "display_data"
    }
   ],
   "source": [
    "# Exploratory Data Analysis (EDA) on the essay set 1 \n",
    "\n",
    "%matplotlib inline\n",
    "features_set1.plot.scatter(x = 'char_count', y = 'domain1_score', s=10)\n",
    "features_set1.plot.scatter(x = 'word_count', y = 'domain1_score', s=10)\n",
    "features_set1.plot.scatter(x = 'sent_count', y = 'domain1_score', s=10)\n",
    "features_set1.plot.scatter(x = 'avg_word_len', y = 'domain1_score', s=10)\n",
    "features_set1.plot.scatter(x = 'lemma_count', y = 'domain1_score', s=10)\n",
    "features_set1.plot.scatter(x = 'spell_err_count', y = 'domain1_score', s=10)\n",
    "features_set1.plot.scatter(x = 'noun_count', y = 'domain1_score', s=10)\n",
    "features_set1.plot.scatter(x = 'adj_count', y = 'domain1_score', s=10)\n",
    "features_set1.plot.scatter(x = 'verb_count', y = 'domain1_score', s=10)\n",
    "features_set1.plot.scatter(x = 'adv_count', y = 'domain1_score', s=10)\n",
    "\n",
    "# Essay Set 1 Trends:\n",
    "\n",
    "# By plotting the below scatter plots, we can examine how different features above affect the grade the student receives.\n",
    "\n",
    "# 1. I observed that there is a strong correlation between character count of an essay and the final essay score. \n",
    "#    I observed similar correlations for word count, sentence count and lemma count of an essay.\n",
    "#    These features indicate language fluency and dexterity.\n",
    "# 2. Various parts-of-speech such as nouns, adjectives adverbs and verbs are good proxies to test vocabulary. \n",
    "#    This feature can also be taken as a rudimentary proxy for diction.\n",
    "#    I observed a strong correlation between noun_count and the final essay score. Sililar trends were observed for verb count,\n",
    "#    adjective count and adverb count of an essay.\n",
    "# 3. I did not observe any significant correlation between average word length of an essay and its score.\n",
    "# 4. There is a weaker correlation between the number of spelling errors and the final score of an essay."
   ]
  },
  {
   "cell_type": "code",
   "execution_count": null,
   "metadata": {},
   "outputs": [],
   "source": [
    "# extracting features from essay set 2\n",
    "\n",
    "features_set2 = extract_features(data[data['essay_set'] == 2])\n",
    "\n",
    "print(features_set2)"
   ]
  },
  {
   "cell_type": "code",
   "execution_count": null,
   "metadata": {},
   "outputs": [],
   "source": [
    "# Exploratory Data Analysis (EDA) on the essay set 2\n",
    "\n",
    "%matplotlib inline\n",
    "features_set2.plot.scatter(x = 'char_count', y = 'domain1_score', s=10)\n",
    "features_set2.plot.scatter(x = 'word_count', y = 'domain1_score', s=10)\n",
    "features_set2.plot.scatter(x = 'sent_count', y = 'domain1_score', s=10)\n",
    "features_set2.plot.scatter(x = 'avg_word_len', y = 'domain1_score', s=10)\n",
    "features_set2.plot.scatter(x = 'lemma_count', y = 'domain1_score', s=10)\n",
    "features_set2.plot.scatter(x = 'spell_err_count', y = 'domain1_score', s=10)\n",
    "features_set2.plot.scatter(x = 'noun_count', y = 'domain1_score', s=10)\n",
    "features_set2.plot.scatter(x = 'adj_count', y = 'domain1_score', s=10)\n",
    "features_set2.plot.scatter(x = 'verb_count', y = 'domain1_score', s=10)\n",
    "features_set2.plot.scatter(x = 'adv_count', y = 'domain1_score', s=10)\n",
    "\n"
   ]
  },
  {
   "cell_type": "markdown",
   "metadata": {},
   "source": [
    "## BOW + extracted features "
   ]
  },
  {
   "cell_type": "code",
   "execution_count": 23,
   "metadata": {
    "scrolled": true
   },
   "outputs": [
    {
     "name": "stderr",
     "output_type": "stream",
     "text": [
      "/Users/Eesha/anaconda3/lib/python3.7/site-packages/ipykernel_launcher.py:3: FutureWarning: Method .as_matrix will be removed in a future version. Use .values instead.\n",
      "  This is separate from the ipykernel package so we can avoid doing imports until\n",
      "/Users/Eesha/anaconda3/lib/python3.7/site-packages/ipykernel_launcher.py:5: FutureWarning: Method .as_matrix will be removed in a future version. Use .values instead.\n",
      "  \"\"\"\n"
     ]
    }
   ],
   "source": [
    "# splitting data (BOW + other features) into train data and test data (70/30)\n",
    "    \n",
    "X = np.concatenate((features_set1.iloc[:, 3:].as_matrix(), X_cv), axis = 1)\n",
    "\n",
    "y = features_set1['domain1_score'].as_matrix()\n",
    "\n",
    "X_train, X_test, y_train, y_test = train_test_split(X, y, test_size = 0.3)"
   ]
  },
  {
   "cell_type": "code",
   "execution_count": 24,
   "metadata": {},
   "outputs": [
    {
     "name": "stdout",
     "output_type": "stream",
     "text": [
      "Coefficients: \n",
      " [ 1.73197323e-03  4.62009347e-05 -7.65306322e-03 ... -1.14179931e-01\n",
      "  3.75175253e-02 -5.48676828e-03]\n",
      "Mean squared error: 1.24\n",
      "Variance score: 0.52\n",
      "Cohen's kappa score: 0.23\n"
     ]
    }
   ],
   "source": [
    "# Training a Linear Regression model using all the features (BOW + other features)\n",
    "\n",
    "linear_regressor = LinearRegression()\n",
    "\n",
    "linear_regressor.fit(X_train, y_train)\n",
    "\n",
    "y_pred = linear_regressor.predict(X_test)\n",
    "\n",
    "# The coefficients\n",
    "print('Coefficients: \\n', linear_regressor.coef_)\n",
    "\n",
    "# The mean squared error\n",
    "print(\"Mean squared error: %.2f\" % mean_squared_error(y_test, y_pred))\n",
    "\n",
    "# Explained variance score: 1 is perfect prediction\n",
    "print('Variance score: %.2f' % linear_regressor.score(X_test, y_test))\n",
    "\n",
    "# Cohen’s kappa score: 1 is complete agreement\n",
    "print('Cohen\\'s kappa score: %.2f' % cohen_kappa_score(np.rint(y_pred), y_test))"
   ]
  },
  {
   "cell_type": "code",
   "execution_count": 25,
   "metadata": {
    "scrolled": false
   },
   "outputs": [
    {
     "name": "stderr",
     "output_type": "stream",
     "text": [
      "/Users/Eesha/anaconda3/lib/python3.7/site-packages/sklearn/model_selection/_split.py:2053: FutureWarning: You should specify a value for 'cv' instead of relying on the default value. The default value will change from 3 to 5 in version 0.22.\n",
      "  warnings.warn(CV_WARNING, FutureWarning)\n"
     ]
    },
    {
     "name": "stdout",
     "output_type": "stream",
     "text": [
      "0.502366257885493\n",
      "3.0\n",
      "Mean squared error: 1.16\n",
      "Variance score: 0.55\n",
      "Cohen's kappa score: 0.24\n"
     ]
    }
   ],
   "source": [
    "# Training a Ridge Regression model (l2 regularization) using all the features (BOW + other features)\n",
    "\n",
    "alphas = np.array([3, 1, 0.3, 0.1])\n",
    "\n",
    "ridge_regressor = Ridge()\n",
    "\n",
    "grid = GridSearchCV(estimator = ridge_regressor, param_grid = dict(alpha=alphas))\n",
    "grid.fit(X_train, y_train)\n",
    "\n",
    "y_pred = grid.predict(X_test)\n",
    "\n",
    "# summarize the results of the grid search\n",
    "print(grid.best_score_)\n",
    "print(grid.best_estimator_.alpha)\n",
    "\n",
    "# The mean squared error\n",
    "print(\"Mean squared error: %.2f\" % mean_squared_error(y_test, y_pred))\n",
    "\n",
    "# Explained variance score: 1 is perfect prediction\n",
    "print('Variance score: %.2f' % grid.score(X_test, y_test))\n",
    "\n",
    "# Cohen’s kappa score: 1 is complete agreement\n",
    "print('Cohen\\'s kappa score: %.2f' % cohen_kappa_score(np.rint(y_pred), y_test))"
   ]
  },
  {
   "cell_type": "code",
   "execution_count": 26,
   "metadata": {},
   "outputs": [
    {
     "name": "stderr",
     "output_type": "stream",
     "text": [
      "/Users/Eesha/anaconda3/lib/python3.7/site-packages/sklearn/model_selection/_split.py:2053: FutureWarning: You should specify a value for 'cv' instead of relying on the default value. The default value will change from 3 to 5 in version 0.22.\n",
      "  warnings.warn(CV_WARNING, FutureWarning)\n"
     ]
    },
    {
     "name": "stdout",
     "output_type": "stream",
     "text": [
      "0.7085900589482376\n",
      "0.1\n",
      "Mean squared error: 0.75\n",
      "Variance score: 0.71\n",
      "Cohen's kappa score: 0.31\n"
     ]
    }
   ],
   "source": [
    "# Training a Lasso Regression model (l1 regularization) using all the features (BOW + other features)\n",
    "\n",
    "alphas = np.array([3, 1, 0.3, 0.1])\n",
    "\n",
    "lasso_regressor = Lasso()\n",
    "\n",
    "grid = GridSearchCV(estimator = lasso_regressor, param_grid = dict(alpha=alphas))\n",
    "grid.fit(X_train, y_train)\n",
    "\n",
    "y_pred = grid.predict(X_test)\n",
    "\n",
    "# summarize the results of the grid search\n",
    "print(grid.best_score_)\n",
    "print(grid.best_estimator_.alpha)\n",
    "\n",
    "# The mean squared error\n",
    "print(\"Mean squared error: %.2f\" % mean_squared_error(y_test, y_pred))\n",
    "\n",
    "# Explained variance score: 1 is perfect prediction\n",
    "print('Variance score: %.2f' % grid.score(X_test, y_test))\n",
    "\n",
    "# Cohen’s kappa score: 1 is complete agreement\n",
    "print('Cohen\\'s kappa score: %.2f' % cohen_kappa_score(np.rint(y_pred), y_test))"
   ]
  },
  {
   "cell_type": "code",
   "execution_count": 27,
   "metadata": {},
   "outputs": [
    {
     "name": "stderr",
     "output_type": "stream",
     "text": [
      "/Users/Eesha/anaconda3/lib/python3.7/site-packages/sklearn/model_selection/_split.py:2053: FutureWarning: You should specify a value for 'cv' instead of relying on the default value. The default value will change from 3 to 5 in version 0.22.\n",
      "  warnings.warn(CV_WARNING, FutureWarning)\n",
      "/Users/Eesha/anaconda3/lib/python3.7/site-packages/numpy/core/fromnumeric.py:83: RuntimeWarning: overflow encountered in reduce\n",
      "  return ufunc.reduce(obj, axis, dtype, out, **passkwargs)\n",
      "/Users/Eesha/anaconda3/lib/python3.7/site-packages/sklearn/ensemble/gradient_boosting.py:456: RuntimeWarning: overflow encountered in square\n",
      "  np.sum(sample_weight * ((y - pred.ravel()) ** 2.0)))\n",
      "/Users/Eesha/anaconda3/lib/python3.7/site-packages/sklearn/metrics/regression.py:543: RuntimeWarning: overflow encountered in square\n",
      "  numerator = (weight * (y_true - y_pred) ** 2).sum(axis=0,\n",
      "/Users/Eesha/anaconda3/lib/python3.7/site-packages/sklearn/metrics/regression.py:543: RuntimeWarning: overflow encountered in square\n",
      "  numerator = (weight * (y_true - y_pred) ** 2).sum(axis=0,\n",
      "/Users/Eesha/anaconda3/lib/python3.7/site-packages/numpy/core/fromnumeric.py:83: RuntimeWarning: overflow encountered in reduce\n",
      "  return ufunc.reduce(obj, axis, dtype, out, **passkwargs)\n",
      "/Users/Eesha/anaconda3/lib/python3.7/site-packages/sklearn/ensemble/gradient_boosting.py:456: RuntimeWarning: overflow encountered in square\n",
      "  np.sum(sample_weight * ((y - pred.ravel()) ** 2.0)))\n",
      "/Users/Eesha/anaconda3/lib/python3.7/site-packages/sklearn/metrics/regression.py:543: RuntimeWarning: overflow encountered in square\n",
      "  numerator = (weight * (y_true - y_pred) ** 2).sum(axis=0,\n",
      "/Users/Eesha/anaconda3/lib/python3.7/site-packages/sklearn/metrics/regression.py:543: RuntimeWarning: overflow encountered in square\n",
      "  numerator = (weight * (y_true - y_pred) ** 2).sum(axis=0,\n",
      "/Users/Eesha/anaconda3/lib/python3.7/site-packages/numpy/core/fromnumeric.py:83: RuntimeWarning: overflow encountered in reduce\n",
      "  return ufunc.reduce(obj, axis, dtype, out, **passkwargs)\n",
      "/Users/Eesha/anaconda3/lib/python3.7/site-packages/sklearn/ensemble/gradient_boosting.py:456: RuntimeWarning: overflow encountered in square\n",
      "  np.sum(sample_weight * ((y - pred.ravel()) ** 2.0)))\n",
      "/Users/Eesha/anaconda3/lib/python3.7/site-packages/sklearn/metrics/regression.py:543: RuntimeWarning: overflow encountered in square\n",
      "  numerator = (weight * (y_true - y_pred) ** 2).sum(axis=0,\n",
      "/Users/Eesha/anaconda3/lib/python3.7/site-packages/sklearn/metrics/regression.py:543: RuntimeWarning: overflow encountered in square\n",
      "  numerator = (weight * (y_true - y_pred) ** 2).sum(axis=0,\n",
      "/Users/Eesha/anaconda3/lib/python3.7/site-packages/sklearn/model_selection/_search.py:791: RuntimeWarning: invalid value encountered in subtract\n",
      "  array_means[:, np.newaxis]) ** 2,\n"
     ]
    },
    {
     "name": "stdout",
     "output_type": "stream",
     "text": [
      "0.732584506728042\n",
      "GradientBoostingRegressor(alpha=0.9, criterion='friedman_mse', init=None,\n",
      "             learning_rate=0.1, loss='ls', max_depth=2, max_features=None,\n",
      "             max_leaf_nodes=None, min_impurity_decrease=0.0,\n",
      "             min_impurity_split=None, min_samples_leaf=1,\n",
      "             min_samples_split=2, min_weight_fraction_leaf=0.0,\n",
      "             n_estimators=100, n_iter_no_change=None, presort='auto',\n",
      "             random_state=None, subsample=1.0, tol=0.0001,\n",
      "             validation_fraction=0.1, verbose=0, warm_start=False)\n",
      "MSE: 0.6161\n",
      "Variance score: 0.76\n",
      "Cohen's kappa score: 0.37\n"
     ]
    },
    {
     "data": {
      "image/png": "[encoded data removed]",
      "text/plain": [
       "<Figure size 432x288 with 1 Axes>"
      ]
     },
     "metadata": {
      "needs_background": "light"
     },
     "output_type": "display_data"
    }
   ],
   "source": [
    "# Training a Gradient Boosting Regression model using all the features (BOW + other features)\n",
    "\n",
    "params = {'n_estimators':[100, 1000], 'max_depth':[2], 'min_samples_split': [2],\n",
    "          'learning_rate':[3, 1, 0.1, 0.3], 'loss': ['ls']}\n",
    "\n",
    "gbr = ensemble.GradientBoostingRegressor()\n",
    "\n",
    "grid = GridSearchCV(gbr, params)\n",
    "grid.fit(X_train, y_train)\n",
    "\n",
    "y_pred = grid.predict(X_test)\n",
    "\n",
    "# summarize the results of the grid search\n",
    "print(grid.best_score_)\n",
    "print(grid.best_estimator_)\n",
    "\n",
    "mse = mean_squared_error(y_test, y_pred)\n",
    "print(\"MSE: %.4f\" % mse)\n",
    "\n",
    "# Explained variance score: 1 is perfect prediction\n",
    "print('Variance score: %.2f' % grid.score(X_test, y_test))\n",
    "\n",
    "# Cohen’s kappa score: 1 is complete agreement\n",
    "print('Cohen\\'s kappa score: %.2f' % cohen_kappa_score(np.rint(y_pred), y_test))\n",
    "\n",
    "# Plot feature importance - to find the main factors affecting the final grade\n",
    "feature_importance = grid.best_estimator_.feature_importances_\n",
    "\n",
    "# make importances relative to max importance\n",
    "feature_importance = 100.0 * (feature_importance / feature_importance.max())\n",
    "feature_names = list(features_set1.iloc[:, 3:].columns.values)\n",
    "feature_names = np.asarray(feature_names + feature_names_cv)\n",
    "sorted_idx = np.argsort(feature_importance)\n",
    "# get top 100\n",
    "sorted_idx = sorted_idx[9910:]\n",
    "pos = np.arange(sorted_idx.shape[0]) + .5\n",
    "plt.subplot(1, 2, 2)\n",
    "plt.barh(pos, feature_importance[sorted_idx], align='center')\n",
    "plt.yticks(pos, feature_names[sorted_idx])\n",
    "plt.xlabel('Relative Importance')\n",
    "plt.title('Variable Importance')\n",
    "plt.show()"
   ]
  },
  {
   "cell_type": "markdown",
   "metadata": {},
   "source": [
    "## Only extracted features"
   ]
  },
  {
   "cell_type": "code",
   "execution_count": 28,
   "metadata": {},
   "outputs": [
    {
     "name": "stderr",
     "output_type": "stream",
     "text": [
      "/Users/Eesha/anaconda3/lib/python3.7/site-packages/ipykernel_launcher.py:3: FutureWarning: Method .as_matrix will be removed in a future version. Use .values instead.\n",
      "  This is separate from the ipykernel package so we can avoid doing imports until\n",
      "/Users/Eesha/anaconda3/lib/python3.7/site-packages/ipykernel_launcher.py:5: FutureWarning: Method .as_matrix will be removed in a future version. Use .values instead.\n",
      "  \"\"\"\n"
     ]
    }
   ],
   "source": [
    "# splitting data (only 10 numerical/POS/orthographic features) into train data and test data (70/30)\n",
    "    \n",
    "X = features_set1.iloc[:, 3:].as_matrix()\n",
    "\n",
    "y = features_set1['domain1_score'].as_matrix()\n",
    "\n",
    "X_train, X_test, y_train, y_test = train_test_split(X, y, test_size = 0.3)"
   ]
  },
  {
   "cell_type": "code",
   "execution_count": 29,
   "metadata": {},
   "outputs": [
    {
     "name": "stdout",
     "output_type": "stream",
     "text": [
      "Coefficients: \n",
      " [ 6.13812414e-05  4.22972440e-03  6.16598327e-03  6.36726563e-01\n",
      "  1.83080766e-02 -1.04485514e-02  2.49456608e-04 -1.22187633e-04\n",
      " -3.40883631e-03 -4.93140478e-03]\n",
      "Mean squared error: 0.72\n",
      "Variance score: 0.65\n",
      "Cohen's kappa score: 0.30\n"
     ]
    }
   ],
   "source": [
    "# Training a Linear Regression model using only 10 numerical/POS/orthographic features\n",
    "\n",
    "linear_regressor = LinearRegression()\n",
    "\n",
    "linear_regressor.fit(X_train, y_train)\n",
    "\n",
    "y_pred = linear_regressor.predict(X_test)\n",
    "\n",
    "# The coefficients\n",
    "print('Coefficients: \\n', linear_regressor.coef_)\n",
    "\n",
    "# The mean squared error\n",
    "print(\"Mean squared error: %.2f\" % mean_squared_error(y_test, y_pred))\n",
    "\n",
    "# Explained variance score: 1 is perfect prediction\n",
    "print('Variance score: %.2f' % linear_regressor.score(X_test, y_test))\n",
    "\n",
    "# Cohen’s kappa score: 1 is complete agreement\n",
    "print('Cohen\\'s kappa score: %.2f' % cohen_kappa_score(np.rint(y_pred), y_test))"
   ]
  },
  {
   "cell_type": "code",
   "execution_count": 30,
   "metadata": {},
   "outputs": [
    {
     "name": "stderr",
     "output_type": "stream",
     "text": [
      "/Users/Eesha/anaconda3/lib/python3.7/site-packages/sklearn/model_selection/_split.py:2053: FutureWarning: You should specify a value for 'cv' instead of relying on the default value. The default value will change from 3 to 5 in version 0.22.\n",
      "  warnings.warn(CV_WARNING, FutureWarning)\n"
     ]
    },
    {
     "name": "stdout",
     "output_type": "stream",
     "text": [
      "0.7295967604332814\n",
      "0.3\n",
      "Mean squared error: 0.72\n",
      "Variance score: 0.65\n",
      "Cohen's kappa score: 0.30\n"
     ]
    }
   ],
   "source": [
    "# Training a Ridge Regression model (l2 regularization) using only 10 numerical/POS/orthographic features\n",
    "\n",
    "alphas = np.array([3, 1, 0, 0.3, 0.1, 0.03, 0.01, 0.003, 0.001])\n",
    "\n",
    "ridge_regressor = Ridge()\n",
    "\n",
    "grid = GridSearchCV(estimator = ridge_regressor, param_grid = dict(alpha=alphas))\n",
    "grid.fit(X_train, y_train)\n",
    "\n",
    "y_pred = grid.predict(X_test)\n",
    "\n",
    "# summarize the results of the grid search\n",
    "print(grid.best_score_)\n",
    "print(grid.best_estimator_.alpha)\n",
    "\n",
    "# The mean squared error\n",
    "print(\"Mean squared error: %.2f\" % mean_squared_error(y_test, y_pred))\n",
    "\n",
    "# Explained variance score: 1 is perfect prediction\n",
    "print('Variance score: %.2f' % grid.score(X_test, y_test))\n",
    "\n",
    "# Cohen’s kappa score: 1 is complete agreement\n",
    "print('Cohen\\'s kappa score: %.2f' % cohen_kappa_score(np.rint(y_pred), y_test))"
   ]
  },
  {
   "cell_type": "code",
   "execution_count": 31,
   "metadata": {},
   "outputs": [
    {
     "name": "stderr",
     "output_type": "stream",
     "text": [
      "/Users/Eesha/anaconda3/lib/python3.7/site-packages/sklearn/model_selection/_split.py:2053: FutureWarning: You should specify a value for 'cv' instead of relying on the default value. The default value will change from 3 to 5 in version 0.22.\n",
      "  warnings.warn(CV_WARNING, FutureWarning)\n"
     ]
    },
    {
     "name": "stdout",
     "output_type": "stream",
     "text": [
      "0.7279989849240703\n",
      "0.1\n",
      "Mean squared error: 0.72\n",
      "Variance score: 0.65\n",
      "Cohen's kappa score: 0.29\n"
     ]
    }
   ],
   "source": [
    "# Training a Lasso Regression model (l1 regularization) using only 10 numerical/POS/orthographic features\n",
    "\n",
    "alphas = np.array([3, 1, 0.3, 0.1, 0.3])\n",
    "\n",
    "lasso_regressor = Lasso()\n",
    "\n",
    "grid = GridSearchCV(estimator = lasso_regressor, param_grid = dict(alpha=alphas))\n",
    "grid.fit(X_train, y_train)\n",
    "\n",
    "y_pred = grid.predict(X_test)\n",
    "\n",
    "# summarize the results of the grid search\n",
    "print(grid.best_score_)\n",
    "print(grid.best_estimator_.alpha)\n",
    "\n",
    "# The mean squared error\n",
    "print(\"Mean squared error: %.2f\" % mean_squared_error(y_test, y_pred))\n",
    "\n",
    "# Explained variance score: 1 is perfect prediction\n",
    "print('Variance score: %.2f' % grid.score(X_test, y_test))\n",
    "\n",
    "# Cohen’s kappa score: 1 is complete agreement\n",
    "print('Cohen\\'s kappa score: %.2f' % cohen_kappa_score(np.rint(y_pred), y_test))"
   ]
  },
  {
   "cell_type": "code",
   "execution_count": 2,
   "metadata": {},
   "outputs": [
    {
     "ename": "NameError",
     "evalue": "name 'ensemble' is not defined",
     "output_type": "error",
     "traceback": [
      "\u001b[0;31m---------------------------------------------------------------------------\u001b[0m",
      "\u001b[0;31mNameError\u001b[0m                                 Traceback (most recent call last)",
      "\u001b[0;32m<ipython-input-2-9932d26fe09b>\u001b[0m in \u001b[0;36m<module>\u001b[0;34m\u001b[0m\n\u001b[1;32m      4\u001b[0m           'learning_rate':[1, 0.1, 0.3, 0.01], 'loss': ['ls']}\n\u001b[1;32m      5\u001b[0m \u001b[0;34m\u001b[0m\u001b[0m\n\u001b[0;32m----> 6\u001b[0;31m \u001b[0mgbr\u001b[0m \u001b[0;34m=\u001b[0m \u001b[0mensemble\u001b[0m\u001b[0;34m.\u001b[0m\u001b[0mGradientBoostingRegressor\u001b[0m\u001b[0;34m(\u001b[0m\u001b[0;34m)\u001b[0m\u001b[0;34m\u001b[0m\u001b[0;34m\u001b[0m\u001b[0m\n\u001b[0m\u001b[1;32m      7\u001b[0m \u001b[0;34m\u001b[0m\u001b[0m\n\u001b[1;32m      8\u001b[0m \u001b[0mgrid\u001b[0m \u001b[0;34m=\u001b[0m \u001b[0mGridSearchCV\u001b[0m\u001b[0;34m(\u001b[0m\u001b[0mgbr\u001b[0m\u001b[0;34m,\u001b[0m \u001b[0mparams\u001b[0m\u001b[0;34m)\u001b[0m\u001b[0;34m\u001b[0m\u001b[0;34m\u001b[0m\u001b[0m\n",
      "\u001b[0;31mNameError\u001b[0m: name 'ensemble' is not defined"
     ]
    }
   ],
   "source": [
    "# Training a Gradient Boosting Regression model using only 10 numerical/POS/orthographic features\n",
    "\n",
    "params = {'n_estimators':[50, 100, 500, 1000], 'max_depth':[2], 'min_samples_split': [2],\n",
    "          'learning_rate':[1, 0.1, 0.3, 0.01], 'loss': ['ls']}\n",
    "\n",
    "gbr = ensemble.GradientBoostingRegressor()\n",
    "\n",
    "grid = GridSearchCV(gbr, params)\n",
    "grid.fit(X_train, y_train)\n",
    "\n",
    "y_pred = grid.predict(X_test)\n",
    "\n",
    "# summarize the results of the grid search\n",
    "print(grid.best_score_)\n",
    "print(grid.best_estimator_)\n",
    "\n",
    "mse = mean_squared_error(y_test, y_pred)\n",
    "print(\"MSE: %.4f\" % mse)\n",
    "\n",
    "# Explained variance score: 1 is perfect prediction\n",
    "print('Variance score: %.2f' % grid.score(X_test, y_test))\n",
    "print()\n",
    "\n",
    "# Cohen’s kappa score: 1 is complete agreement\n",
    "print('Cohen\\'s kappa score: %.2f' % cohen_kappa_score(np.rint(y_pred), y_test))\n",
    "\n",
    "# Plot feature importance - to find the main factors affecting the final grade\n",
    "feature_importance = grid.best_estimator_.feature_importances_\n",
    "\n",
    "# make importances relative to max importance\n",
    "feature_importance = 100.0 * (feature_importance / feature_importance.max())\n",
    "feature_names = list(features_set1.iloc[:, 3:].columns.values)\n",
    "feature_names = np.asarray(feature_names)\n",
    "sorted_idx = np.argsort(feature_importance)\n",
    "pos = np.arange(sorted_idx.shape[0]) + .5\n",
    "plt.subplot(1, 2, 2)\n",
    "plt.barh(pos, feature_importance[sorted_idx], align='center', log=True)\n",
    "plt.yticks(pos, feature_names[sorted_idx])\n",
    "plt.xlabel('Relative Importance')\n",
    "plt.title('Variable Importance')\n",
    "plt.show()"
   ]
  },
  {
   "cell_type": "code",
   "execution_count": 33,
   "metadata": {},
   "outputs": [
    {
     "name": "stderr",
     "output_type": "stream",
     "text": [
      "/Users/Eesha/anaconda3/lib/python3.7/site-packages/sklearn/model_selection/_split.py:2053: FutureWarning: You should specify a value for 'cv' instead of relying on the default value. The default value will change from 3 to 5 in version 0.22.\n",
      "  warnings.warn(CV_WARNING, FutureWarning)\n"
     ]
    },
    {
     "name": "stdout",
     "output_type": "stream",
     "text": [
      "0.5336250638891381\n",
      "SVR(C=100, cache_size=200, coef0=0.0, degree=3, epsilon=0.1, gamma=0.001,\n",
      "  kernel='rbf', max_iter=-1, shrinking=True, tol=0.001, verbose=False)\n",
      "Variance score: 0.49\n",
      "Cohen's kappa score: 0.21\n"
     ]
    }
   ],
   "source": [
    "# Training a Support Vector Regression model using only 10 numerical/POS/orthographic features\n",
    "\n",
    "svr = SVR()\n",
    "\n",
    "parameters = {'kernel':['linear', 'rbf'], 'C':[1, 100], 'gamma':[0.1, 0.001]}\n",
    "\n",
    "grid = GridSearchCV(svr, parameters)\n",
    "grid.fit(X_train, y_train)\n",
    "\n",
    "y_pred = grid.predict(X_test)\n",
    "\n",
    "# summarize the results of the grid search\n",
    "print(grid.best_score_)\n",
    "print(grid.best_estimator_)\n",
    "\n",
    "# Explained variance score: 1 is perfect prediction\n",
    "print('Variance score: %.2f' % grid.score(X_test, y_test))\n",
    "\n",
    "# Cohen’s kappa score: 1 is complete agreement\n",
    "print('Cohen\\'s kappa score: %.2f' % cohen_kappa_score(np.rint(y_pred), y_test))"
   ]
  },
  {
   "cell_type": "code",
   "execution_count": 34,
   "metadata": {},
   "outputs": [],
   "source": [
    "# Observations:\n",
    "    \n",
    "# 1. Using only BOW features:\n",
    "#     Lasso Regression performs better than linear regression.\n",
    "\n",
    "# 2. Using all features:\n",
    "#     Lasso Regression performs much better than Linear Regression and Ridge Regression.\n",
    "#     Gradient Boosting Regression performs better i.e. has a higher variance score and kappa score than all of the above.\n",
    "\n",
    "# 3. Using only numerical/POS/orthographic features:\n",
    "#     Support Vector Regression performs the worst among all other models.\n",
    "#     Linear, Ridge and Lasso Regression have a similar performance.\n",
    "#     Gradient Boosting Regression has the highest variance and kappa scores.\n",
    "\n",
    "# Hence, we can observe that models trained with all the features (BOW + numerical/POS/orthographic features) and \n",
    "# models trained only with 10 numerical/POS/orthographic features produce similar scores.\n",
    "\n",
    "# More features such as tf-idf scores, punctuation counts, essay sentiment, essay prompt etc can be added to improve \n",
    "# accuracy of prediction."
   ]
  },
  {
   "cell_type": "code",
   "execution_count": 42,
   "metadata": {},
   "outputs": [
    {
     "data": {
      "image/png": "[encoded data removed]",
      "text/plain": [
       "<Figure size 432x288 with 1 Axes>"
      ]
     },
     "metadata": {
      "needs_background": "light"
     },
     "output_type": "display_data"
    }
   ],
   "source": [
    "import numpy as np\n",
    "import matplotlib.pyplot as plt\n",
    " \n",
    "# data to plot\n",
    "n_groups = 4\n",
    "MSE = (1.24,1.16,0.75,0.61)\n",
    "Variance = (0.52,0.55,0.71,0.76)\n",
    "KohenCappa = (0.23,0.24,0.31,0.37)\n",
    "\n",
    "\n",
    "# create plot\n",
    "fig, ax = plt.subplots()\n",
    "index = np.arange(n_groups)\n",
    "bar_width = 0.20\n",
    "opacity = 0.8\n",
    " \n",
    "rects1 = plt.bar(index, MSE, bar_width,\n",
    "alpha=opacity,\n",
    "color='b',\n",
    "label='MSE')\n",
    " \n",
    "rects2 = plt.bar(index + bar_width, Variance, bar_width,\n",
    "alpha=opacity,\n",
    "color='g',\n",
    "label='Variance Ratio ie R^2')\n",
    "\n",
    "rects3 = plt.bar(index + 2*bar_width, KohenCappa, bar_width,\n",
    "alpha=opacity,\n",
    "color='r',\n",
    "label='Cohen Kappa Score')\n",
    " \n",
    "plt.xlabel('Regression Techniques')\n",
    "plt.ylabel('Metric Evaluation')\n",
    "plt.title('Regression Technique Comparison for BOW + Extracted Features')\n",
    "plt.xticks(index + bar_width, ('Linear','Ridge','Lasso','Gradient Boosting'))\n",
    "plt.legend()\n",
    " \n",
    "plt.tight_layout()\n",
    "plt.show()\n",
    "\n"
   ]
  }
 ],
 "metadata": {
  "kernelspec": {
   "display_name": "Python 3",
   "language": "python",
   "name": "python3"
  },
  "language_info": {
   "codemirror_mode": {
    "name": "ipython",
    "version": 3
   },
   "file_extension": ".py",
   "mimetype": "text/x-python",
   "name": "python",
   "nbconvert_exporter": "python",
   "pygments_lexer": "ipython3",
   "version": "3.7.1"
  }
 },
 "nbformat": 4,
 "nbformat_minor": 2
}
