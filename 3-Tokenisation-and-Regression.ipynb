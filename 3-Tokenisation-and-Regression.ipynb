{
 "cells": [
  {
   "cell_type": "markdown",
   "metadata": {},
   "source": [
    "# This notebook consists of :\n",
    "    * tokenisation\n",
    "    * feature extraction\n",
    "    * EDA based on extracted features\n",
    "    * regression modelling"
   ]
  },
  {
   "cell_type": "code",
   "execution_count": 1,
   "metadata": {},
   "outputs": [],
   "source": [
    "# importing required packages\n",
    "\n",
    "import nltk\n",
    "import pandas as pd\n",
    "import numpy as np\n",
    "import matplotlib.pyplot as plt\n",
    "from nltk.stem import WordNetLemmatizer\n",
    "from nltk.corpus import wordnet\n",
    "import re, collections\n",
    "from collections import defaultdict\n",
    "from sklearn.feature_extraction.text import CountVectorizer\n",
    "from sklearn.metrics import mean_squared_error, r2_score\n",
    "from sklearn.model_selection import train_test_split\n",
    "from sklearn.linear_model import LinearRegression, Ridge, Lasso\n",
    "from sklearn.svm import SVR\n",
    "from sklearn import ensemble\n",
    "from sklearn.model_selection import GridSearchCV\n",
    "from sklearn.metrics import cohen_kappa_score"
   ]
  },
  {
   "cell_type": "code",
   "execution_count": 2,
   "metadata": {},
   "outputs": [],
   "source": [
    "# hide warnings \n",
    "\n",
    "import warnings\n",
    "warnings.simplefilter(\"ignore\")\n",
    "\n",
    "\n",
    "# from IPython.display import HTML\n",
    "# HTML('''<script>\n",
    "# code_show_err=false; \n",
    "# function code_toggle_err() {\n",
    "#  if (code_show_err){\n",
    "#  $('div.output_stderr').hide();\n",
    "#  } else {\n",
    "#  $('div.output_stderr').show();\n",
    "#  }\n",
    "#  code_show_err = !code_show_err\n",
    "# } \n",
    "# $( document ).ready(code_toggle_err);\n",
    "# </script>\n",
    "# To toggle on/off output_stderr, click <a href=\"javascript:code_toggle_err()\">here</a>.''')\n"
   ]
  },
  {
   "cell_type": "code",
   "execution_count": 3,
   "metadata": {},
   "outputs": [],
   "source": [
    "# getting data in a pandas dataframe\n",
    "\n",
    "dataframe = training_set  = pd.read_csv('kaggle-dataset/training_set_rel3.tsv', sep='\\t', encoding = \"ISO-8859-1\", header=0)"
   ]
  },
  {
   "cell_type": "code",
   "execution_count": 4,
   "metadata": {},
   "outputs": [],
   "source": [
    "# getting relevant columns\n",
    "\n",
    "data = dataframe[['essay_set','essay','domain1_score']].copy()"
   ]
  },
  {
   "cell_type": "markdown",
   "metadata": {},
   "source": [
    "# Tokenisation and Feature Extraction"
   ]
  },
  {
   "cell_type": "code",
   "execution_count": 5,
   "metadata": {},
   "outputs": [],
   "source": [
    "# Tokenize a sentence into words\n",
    "\n",
    "def sentence_to_wordlist(raw_sentence):\n",
    "    \n",
    "    clean_sentence = re.sub(\"[^a-zA-Z0-9]\",\" \", raw_sentence)\n",
    "    tokens = nltk.word_tokenize(clean_sentence)\n",
    "    \n",
    "    return tokens"
   ]
  },
  {
   "cell_type": "code",
   "execution_count": 6,
   "metadata": {},
   "outputs": [],
   "source": [
    "# tokenizing an essay into a list of word lists\n",
    "\n",
    "def tokenize(essay):\n",
    "    stripped_essay = essay.strip()\n",
    "    \n",
    "    tokenizer = nltk.data.load('tokenizers/punkt/english.pickle')\n",
    "    raw_sentences = tokenizer.tokenize(stripped_essay)\n",
    "    \n",
    "    tokenized_sentences = []\n",
    "    for raw_sentence in raw_sentences:\n",
    "        if len(raw_sentence) > 0:\n",
    "            tokenized_sentences.append(sentence_to_wordlist(raw_sentence))\n",
    "    \n",
    "    return tokenized_sentences"
   ]
  },
  {
   "cell_type": "code",
   "execution_count": 7,
   "metadata": {},
   "outputs": [],
   "source": [
    "# calculating average word length in an essay\n",
    "\n",
    "def avg_word_len(essay):\n",
    "    \n",
    "    clean_essay = re.sub(r'\\W', ' ', essay)\n",
    "    words = nltk.word_tokenize(clean_essay)\n",
    "    \n",
    "    return sum(len(word) for word in words) / len(words)"
   ]
  },
  {
   "cell_type": "code",
   "execution_count": 8,
   "metadata": {},
   "outputs": [],
   "source": [
    "# calculating number of words in an essay\n",
    "\n",
    "def word_count(essay):\n",
    "    \n",
    "    clean_essay = re.sub(r'\\W', ' ', essay)\n",
    "    words = nltk.word_tokenize(clean_essay)\n",
    "    \n",
    "    return len(words)"
   ]
  },
  {
   "cell_type": "code",
   "execution_count": 9,
   "metadata": {},
   "outputs": [],
   "source": [
    "# calculating number of characters in an essay\n",
    "\n",
    "def char_count(essay):\n",
    "    \n",
    "    clean_essay = re.sub(r'\\s', '', str(essay).lower())\n",
    "    \n",
    "    return len(clean_essay)"
   ]
  },
  {
   "cell_type": "code",
   "execution_count": 10,
   "metadata": {},
   "outputs": [],
   "source": [
    "# calculating number of sentences in an essay\n",
    "\n",
    "def sent_count(essay):\n",
    "    \n",
    "    sentences = nltk.sent_tokenize(essay)\n",
    "    \n",
    "    return len(sentences)"
   ]
  },
  {
   "cell_type": "code",
   "execution_count": 11,
   "metadata": {},
   "outputs": [],
   "source": [
    "# calculating number of lemmas per essay\n",
    "\n",
    "def count_lemmas(essay):\n",
    "    \n",
    "    tokenized_sentences = tokenize(essay)      \n",
    "    \n",
    "    lemmas = []\n",
    "    wordnet_lemmatizer = WordNetLemmatizer()\n",
    "    \n",
    "    for sentence in tokenized_sentences:\n",
    "        tagged_tokens = nltk.pos_tag(sentence) \n",
    "        \n",
    "        for token_tuple in tagged_tokens:\n",
    "        \n",
    "            pos_tag = token_tuple[1]\n",
    "        \n",
    "            if pos_tag.startswith('N'): \n",
    "                pos = wordnet.NOUN\n",
    "                lemmas.append(wordnet_lemmatizer.lemmatize(token_tuple[0], pos))\n",
    "            elif pos_tag.startswith('J'):\n",
    "                pos = wordnet.ADJ\n",
    "                lemmas.append(wordnet_lemmatizer.lemmatize(token_tuple[0], pos))\n",
    "            elif pos_tag.startswith('V'):\n",
    "                pos = wordnet.VERB\n",
    "                lemmas.append(wordnet_lemmatizer.lemmatize(token_tuple[0], pos))\n",
    "            elif pos_tag.startswith('R'):\n",
    "                pos = wordnet.ADV\n",
    "                lemmas.append(wordnet_lemmatizer.lemmatize(token_tuple[0], pos))\n",
    "            else:\n",
    "                pos = wordnet.NOUN\n",
    "                lemmas.append(wordnet_lemmatizer.lemmatize(token_tuple[0], pos))\n",
    "    \n",
    "    lemma_count = len(set(lemmas))\n",
    "    \n",
    "    return lemma_count"
   ]
  },
  {
   "cell_type": "code",
   "execution_count": 12,
   "metadata": {},
   "outputs": [],
   "source": [
    "# checking number of misspelled words\n",
    "\n",
    "def count_spell_error(essay):\n",
    "    \n",
    "    clean_essay = re.sub(r'\\W', ' ', str(essay).lower())\n",
    "    clean_essay = re.sub(r'[0-9]', '', clean_essay)\n",
    "    \n",
    "    #big.txt: It is a concatenation of public domain book excerpts from Project Gutenberg \n",
    "    #         and lists of most frequent words from Wiktionary and the British National Corpus.\n",
    "    #         It contains about a million words.\n",
    "    data = open('big.txt').read()\n",
    "    \n",
    "    words_ = re.findall('[a-z]+', data.lower())\n",
    "    \n",
    "    word_dict = collections.defaultdict(lambda: 0)\n",
    "                       \n",
    "    for word in words_:\n",
    "        word_dict[word] += 1\n",
    "                       \n",
    "    clean_essay = re.sub(r'\\W', ' ', str(essay).lower())\n",
    "    clean_essay = re.sub(r'[0-9]', '', clean_essay)\n",
    "                        \n",
    "    mispell_count = 0\n",
    "    \n",
    "    words = clean_essay.split()\n",
    "                        \n",
    "    for word in words:\n",
    "        if not word in word_dict:\n",
    "            mispell_count += 1\n",
    "    \n",
    "    return mispell_count"
   ]
  },
  {
   "cell_type": "code",
   "execution_count": 13,
   "metadata": {},
   "outputs": [],
   "source": [
    "# calculating number of nouns, adjectives, verbs and adverbs in an essay\n",
    "\n",
    "def count_pos(essay):\n",
    "    \n",
    "    tokenized_sentences = tokenize(essay)\n",
    "    \n",
    "    noun_count = 0\n",
    "    adj_count = 0\n",
    "    verb_count = 0\n",
    "    adv_count = 0\n",
    "    \n",
    "    for sentence in tokenized_sentences:\n",
    "        tagged_tokens = nltk.pos_tag(sentence)\n",
    "        \n",
    "        for token_tuple in tagged_tokens:\n",
    "            pos_tag = token_tuple[1]\n",
    "        \n",
    "            if pos_tag.startswith('N'): \n",
    "                noun_count += 1\n",
    "            elif pos_tag.startswith('J'):\n",
    "                adj_count += 1\n",
    "            elif pos_tag.startswith('V'):\n",
    "                verb_count += 1\n",
    "            elif pos_tag.startswith('R'):\n",
    "                adv_count += 1\n",
    "            \n",
    "    return noun_count, adj_count, verb_count, adv_count\n",
    "    "
   ]
  },
  {
   "cell_type": "code",
   "execution_count": 14,
   "metadata": {},
   "outputs": [],
   "source": [
    "# getiing Bag of Words (BOW) counts\n",
    "\n",
    "def get_count_vectors(essays):\n",
    "    \n",
    "    vectorizer = CountVectorizer(max_features = 10000, ngram_range=(1, 3), stop_words='english')\n",
    "    \n",
    "    count_vectors = vectorizer.fit_transform(essays)\n",
    "    \n",
    "    feature_names = vectorizer.get_feature_names()\n",
    "    \n",
    "    return feature_names, count_vectors"
   ]
  },
  {
   "cell_type": "markdown",
   "metadata": {},
   "source": [
    "# Regression\n",
    "\n",
    "\n",
    "## Models:\n",
    "\n",
    "1. Using only BOW features:\n",
    "    - Linear Regression\n",
    "    - Lasso Regression\n",
    "2. Using only numerical/POS/Orthographic features:\n",
    "    - Linear Regression\n",
    "    - Ridge Regression\n",
    "    - Lasso Regression\n",
    "    - Gradient Boosting Regression\n",
    "3. Using all features:\n",
    "    - Linear Regression\n",
    "    - Ridge Regression\n",
    "    - Lasso Regression\n",
    "    - Support Vector Regression\n",
    "    - Gradient Boosting Regression\n",
    "\n",
    "## Model Evaluation Metrics:\n",
    "\n",
    "1. mean_squared_error - a risk metric corresponding to the expected value of the squared (quadratic) error or loss\n",
    "2. Variance: R², the coefficient of determination; provides a measure of how well future samples are likely to be predicted by the model\n",
    "3. cohen_kappa_score - measures of agreement between observed accuracy and expected accuracy"
   ]
  },
  {
   "cell_type": "markdown",
   "metadata": {},
   "source": [
    "## Bag of Words"
   ]
  },
  {
   "cell_type": "code",
   "execution_count": 15,
   "metadata": {},
   "outputs": [],
   "source": [
    "# splitting data into train data and test data (70/30)\n",
    "\n",
    "feature_names_cv, count_vectors = get_count_vectors(data[data['essay_set'] == 1]['essay'])\n",
    "\n",
    "X_cv = count_vectors.toarray()\n",
    "\n",
    "y_cv = data[data['essay_set'] == 1]['domain1_score'].as_matrix()\n",
    "\n",
    "X_train, X_test, y_train, y_test = train_test_split(X_cv, y_cv, test_size = 0.3)"
   ]
  },
  {
   "cell_type": "code",
   "execution_count": 16,
   "metadata": {},
   "outputs": [
    {
     "name": "stdout",
     "output_type": "stream",
     "text": [
      "Coefficients: \n",
      " [ 0.03908115  0.13606947 -0.03906688 ... -0.04712833  0.0365866\n",
      " -0.01887071]\n",
      "Mean squared error: 1.81\n",
      "Variance score: 0.26\n",
      "Cohen's kappa score: 0.17\n"
     ]
    }
   ],
   "source": [
    "# Training a Linear Regression model using only Bag of Words (BOW)\n",
    "\n",
    "linear_regressor = LinearRegression()\n",
    "\n",
    "linear_regressor.fit(X_train, y_train)\n",
    "\n",
    "y_pred = linear_regressor.predict(X_test)\n",
    "\n",
    "# The coefficients\n",
    "print('Coefficients: \\n', linear_regressor.coef_)\n",
    "\n",
    "# The mean squared error\n",
    "print(\"Mean squared error: %.2f\" % mean_squared_error(y_test, y_pred))\n",
    "\n",
    "# Explained variance score: 1 is perfect prediction\n",
    "print('Variance score: %.2f' % linear_regressor.score(X_test, y_test))\n",
    "\n",
    "# Cohen’s kappa score: 1 is complete agreement\n",
    "print('Cohen\\'s kappa score: %.2f' % cohen_kappa_score(np.rint(y_pred), y_test))"
   ]
  },
  {
   "cell_type": "code",
   "execution_count": 17,
   "metadata": {},
   "outputs": [
    {
     "name": "stdout",
     "output_type": "stream",
     "text": [
      "0.5068299679857345\n",
      "0.01\n",
      "Mean squared error: 1.04\n",
      "Variance score: 0.57\n",
      "Cohen's kappa score: 0.26\n"
     ]
    }
   ],
   "source": [
    "# Training a Lasso Regression model (l1 regularization) using only Bag of Words (BOW)\n",
    "\n",
    "alphas = np.array([3, 1, 0.3, 0.1, 0.03, 0.01])\n",
    "\n",
    "lasso_regressor = Lasso()\n",
    "\n",
    "grid = GridSearchCV(estimator = lasso_regressor, param_grid = dict(alpha=alphas))\n",
    "grid.fit(X_train, y_train)\n",
    "\n",
    "y_pred = grid.predict(X_test)\n",
    "\n",
    "# summarize the results of the grid search\n",
    "print(grid.best_score_)\n",
    "print(grid.best_estimator_.alpha)\n",
    "\n",
    "# The mean squared error\n",
    "print(\"Mean squared error: %.2f\" % mean_squared_error(y_test, y_pred))\n",
    "\n",
    "# Explained variance score: 1 is perfect prediction\n",
    "print('Variance score: %.2f' % grid.score(X_test, y_test))\n",
    "\n",
    "# Cohen’s kappa score: 1 is complete agreement\n",
    "print('Cohen\\'s kappa score: %.2f' % cohen_kappa_score(np.rint(y_pred), y_test))"
   ]
  },
  {
   "cell_type": "markdown",
   "metadata": {},
   "source": [
    "## EDA based on extracted features"
   ]
  },
  {
   "cell_type": "code",
   "execution_count": 18,
   "metadata": {},
   "outputs": [],
   "source": [
    "# extracting essay features\n",
    "\n",
    "def extract_features(data):\n",
    "    \n",
    "    features = data.copy()\n",
    "    \n",
    "    features['char_count'] = features['essay'].apply(char_count)\n",
    "    \n",
    "    features['word_count'] = features['essay'].apply(word_count)\n",
    "    \n",
    "    features['sent_count'] = features['essay'].apply(sent_count)\n",
    "    \n",
    "    features['avg_word_len'] = features['essay'].apply(avg_word_len)\n",
    "    \n",
    "    features['lemma_count'] = features['essay'].apply(count_lemmas)\n",
    "    \n",
    "    features['spell_err_count'] = features['essay'].apply(count_spell_error)\n",
    "    \n",
    "    features['noun_count'], features['adj_count'], features['verb_count'], features['adv_count'] = zip(*features['essay'].map(count_pos))\n",
    "    \n",
    "    return features"
   ]
  },
  {
   "cell_type": "code",
   "execution_count": 19,
   "metadata": {},
   "outputs": [
    {
     "name": "stdout",
     "output_type": "stream",
     "text": [
      "      essay_set                                              essay  \\\n",
      "0             1  Dear local newspaper, I think effects computer...   \n",
      "1             1  Dear @CAPS1 @CAPS2, I believe that using compu...   \n",
      "2             1  Dear, @CAPS1 @CAPS2 @CAPS3 More and more peopl...   \n",
      "3             1  Dear Local Newspaper, @CAPS1 I have found that...   \n",
      "4             1  Dear @LOCATION1, I know having computers has a...   \n",
      "5             1  Dear @LOCATION1, I think that computers have a...   \n",
      "6             1  Did you know that more and more people these d...   \n",
      "7             1  @PERCENT1 of people agree that computers make ...   \n",
      "8             1  Dear reader, @ORGANIZATION1 has had a dramatic...   \n",
      "9             1  In the @LOCATION1 we have the technology of a ...   \n",
      "10            1  Dear @LOCATION1, @CAPS1 people acknowledge the...   \n",
      "11            1  Dear @CAPS1 @CAPS2 I feel that computers do ta...   \n",
      "12            1  Dear local newspaper I raed ur argument on the...   \n",
      "13            1  My three detaileds for this news paper article...   \n",
      "14            1  Dear, In this world today we should have every...   \n",
      "15            1  Dear @ORGANIZATION1, The computer blinked to l...   \n",
      "16            1  Dear Local Newspaper, I belive that computers ...   \n",
      "17            1  Dear Local Newspaper, I must admit that the ex...   \n",
      "18            1  I aegre waf the evansmant ov tnachnolage. The ...   \n",
      "19            1  Well computers can be a good or a bad thing. I...   \n",
      "20            1  Dear @CAPS1 of the @CAPS2 @CAPS3 daily, I am w...   \n",
      "21            1  Dear local Newspaper @CAPS1 a take all your co...   \n",
      "22            1  Dear local newspaper, @CAPS1 you ever see a ch...   \n",
      "23            1  Dear local newspaper, I've heard that not many...   \n",
      "24            1  Dear @CAPS1, @CAPS2 off, I beileve that comput...   \n",
      "25            1  Do you think that computers are useless? Or do...   \n",
      "26            1  Computers a good because you can get infermati...   \n",
      "27            1  Dear Newspaper, Computers are high tec and hav...   \n",
      "28            1  Dear local newspaper, @CAPS1 people throughout...   \n",
      "29            1  Dear Newspaper People, I think that computers ...   \n",
      "...         ...                                                ...   \n",
      "1753          1  Dear local newspaper, @CAPS1 on a beautiful su...   \n",
      "1754          1  Dear @CAPS1, I believe that computers have a n...   \n",
      "1755          1  I think we can all agree that computer usage i...   \n",
      "1756          1  Dear @PERSON1, Computers are very helpful in d...   \n",
      "1757          1  Dear Newspaper, @CAPS1 are worried that people...   \n",
      "1758          1  Dear Local Newspaper: @CAPS1 you know that ove...   \n",
      "1759          1  Dear @PERSON1, The advansing technology is sho...   \n",
      "1760          1  Dear local Newspaper I ting that computers are...   \n",
      "1761          1  Man has always been interested in technology. ...   \n",
      "1762          1  Guaranteed, @NUM1 years from now we will still...   \n",
      "1763          1  I think the effects of the computer are bad, t...   \n",
      "1764          1  Dear editor, I think people are using computer...   \n",
      "1765          1  Dear @CAPS1 @CAPS2, @CAPS3, experts have been ...   \n",
      "1766          1  Computers, a @LOCATION1 topic if you ask me. S...   \n",
      "1767          1  Dear Newspaper Readers, @CAPS1 many hours a da...   \n",
      "1768          1  Dear @CAPS1 newspaper, I have resently read th...   \n",
      "1769          1  Dear @ORGANIZATION2 (our local newspaper), @CA...   \n",
      "1770          1  Dear newspaper, In my opinion computers do ben...   \n",
      "1771          1  Technology, such as computers are very big. I ...   \n",
      "1772          1  Dear Newspaper, Computers have advance a lot s...   \n",
      "1773          1  Dear Newspaper, I think that computers have a ...   \n",
      "1774          1  Dear @LOCATION1, *@CAPS1*. Now I hear my favor...   \n",
      "1775          1  Dear Newspaper I think that computers were one...   \n",
      "1776          1  Mom!!! Did you know that the human body has on...   \n",
      "1777          1  Dear @ORGANIZATION1, I believe that computers ...   \n",
      "1778          1  Dear @CAPS1, @CAPS2 several reasons on way I t...   \n",
      "1779          1  Do a adults and kids spend to much time on the...   \n",
      "1780          1  My opinion is that people should have computer...   \n",
      "1781          1  Dear readers, I think that its good and bad to...   \n",
      "1782          1  Dear - Local Newspaper I agree thats computers...   \n",
      "\n",
      "      domain1_score  char_count  word_count  sent_count  avg_word_len  \\\n",
      "0                 8        1538         350          16      4.237143   \n",
      "1                 9        1870         423          20      4.312057   \n",
      "2                 7        1263         283          14      4.342756   \n",
      "3                10        2642         530          27      4.813208   \n",
      "4                 8        2105         473          30      4.334038   \n",
      "5                 8        1031         247          15      4.052632   \n",
      "6                10        2310         508          30      4.385827   \n",
      "7                10        2243         508          39      4.242126   \n",
      "8                 9        1960         451          35      4.190687   \n",
      "9                 9        2131         519          26      3.982659   \n",
      "10                8        1639         330          22      4.812121   \n",
      "11                8        1791         401          25      4.361596   \n",
      "12                7         804         204           6      3.906863   \n",
      "13                6        1311         307          25      4.188925   \n",
      "14                6         816         177          13      4.485876   \n",
      "15               12        2641         534          35      4.799625   \n",
      "16                8        1470         347          18      4.092219   \n",
      "17                8        1594         375          15      4.112000   \n",
      "18                4         297          66           7      4.409091   \n",
      "19                6         713         160          11      4.300000   \n",
      "20                8        1683         368          20      4.467391   \n",
      "21                3         262          56           2      4.625000   \n",
      "22               10        2358         530          30      4.313208   \n",
      "23               11        2658         576          39      4.397569   \n",
      "24                8        1381         296          16      4.550676   \n",
      "25                9        1645         363          22      4.338843   \n",
      "26                4         531         122           7      4.188525   \n",
      "27                9        1687         363          28      4.515152   \n",
      "28                9        1692         378          23      4.306878   \n",
      "29                8        1165         264          15      4.299242   \n",
      "...             ...         ...         ...         ...           ...   \n",
      "1753             10        2460         524          38      4.503817   \n",
      "1754             10        1563         330          23      4.612121   \n",
      "1755             12        2508         566          45      4.247350   \n",
      "1756              8        1575         358          21      4.229050   \n",
      "1757              8        1449         343          17      4.110787   \n",
      "1758             12        2524         476          33      5.025210   \n",
      "1759              8        1818         408          24      4.299020   \n",
      "1760              5         443         100           6      4.320000   \n",
      "1761              8        1678         370          30      4.381081   \n",
      "1762              9        1912         419          25      4.427208   \n",
      "1763              8        2079         475          12      4.273684   \n",
      "1764              9        1371         286          20      4.650350   \n",
      "1765             10        1719         350          22      4.697143   \n",
      "1766              8        1640         374          26      4.219251   \n",
      "1767             10        2598         509          33      4.856582   \n",
      "1768              8        1399         327          18      4.122324   \n",
      "1769             10        2040         411          23      4.771290   \n",
      "1770              9        1663         369          18      4.387534   \n",
      "1771              9        1713         397          19      4.206549   \n",
      "1772             11        2625         616          30      4.121753   \n",
      "1773              5         517         116           4      4.396552   \n",
      "1774             10        1982         448          31      4.169643   \n",
      "1775              9        2315         466          27      4.766094   \n",
      "1776             10        1946         474          24      3.951477   \n",
      "1777              8        1521         333          23      4.432432   \n",
      "1778              8        2094         509          21      4.015717   \n",
      "1779              7         892         214          18      4.004673   \n",
      "1780              8        1352         296          18      4.489865   \n",
      "1781              2          57          15           1      3.733333   \n",
      "1782              7         905         217          18      4.069124   \n",
      "\n",
      "      lemma_count  spell_err_count  noun_count  adj_count  verb_count  \\\n",
      "0             162               11          83         18          74   \n",
      "1             185               25         107         19          85   \n",
      "2             145                5          82         20          52   \n",
      "3             236               34         178         42          97   \n",
      "4             190               19         114         32          90   \n",
      "5             127               15          53         12          49   \n",
      "6             213               10         136         31          80   \n",
      "7             202               14         133         32         112   \n",
      "8             214               11         110         32          86   \n",
      "9             204               24         109         40         112   \n",
      "10            203               14          88         31          70   \n",
      "11            154               35         102         39          84   \n",
      "12            112               24          43         17          43   \n",
      "13            127               40          81         35          57   \n",
      "14             97               16          57         15          30   \n",
      "15            246               35         168         39         103   \n",
      "16            138               11          71         19          74   \n",
      "17            166                9          79         24          77   \n",
      "18             50               33          25          5          14   \n",
      "19             92                8          52         14          27   \n",
      "20            180               16          83         27          75   \n",
      "21             38                2          20          2           8   \n",
      "22            214               27         130         33          96   \n",
      "23            239               19         157         48         104   \n",
      "24            121               10          79         19          59   \n",
      "25            159               15         101         19          75   \n",
      "26             67               13          32         10          24   \n",
      "27            180               30          95         33          74   \n",
      "28            157               20          94         24          75   \n",
      "29            117               11          63         21          70   \n",
      "...           ...              ...         ...        ...         ...   \n",
      "1753          248               31         152         32         117   \n",
      "1754          172               18          91         29          62   \n",
      "1755          244               32         147         45         116   \n",
      "1756          162               22          88         19          77   \n",
      "1757          154               11          83         27          57   \n",
      "1758          238               20         176         35          87   \n",
      "1759          166               11         105         30          79   \n",
      "1760           58                9          26         15          20   \n",
      "1761          184               19         113         24          85   \n",
      "1762          168               12          90         16          95   \n",
      "1763          125                3         120         31          83   \n",
      "1764          140               17          79         20          64   \n",
      "1765          190                6          99         28          71   \n",
      "1766          186               30          95         24          75   \n",
      "1767          233               17         163         34          95   \n",
      "1768          170               16          74         20          63   \n",
      "1769          184               12         133         34          73   \n",
      "1770          162               17          98         21          72   \n",
      "1771          167               23          92         23          85   \n",
      "1772          215               11         128         28         129   \n",
      "1773           70                8          35          3          19   \n",
      "1774          221               26         130         30          80   \n",
      "1775          220               19         139         30          94   \n",
      "1776          190               10         112         32          97   \n",
      "1777          168               18          97         19          63   \n",
      "1778          206               31         114         35         108   \n",
      "1779          109               12          53         13          46   \n",
      "1780          100                6          82         15          56   \n",
      "1781           14                0           2          3           2   \n",
      "1782          120               13          52         18          41   \n",
      "\n",
      "      adv_count  \n",
      "0            24  \n",
      "1            19  \n",
      "2            16  \n",
      "3            29  \n",
      "4            36  \n",
      "5            17  \n",
      "6            38  \n",
      "7            29  \n",
      "8            30  \n",
      "9            37  \n",
      "10           20  \n",
      "11           29  \n",
      "12            7  \n",
      "13           12  \n",
      "14           10  \n",
      "15           23  \n",
      "16           23  \n",
      "17           38  \n",
      "18            1  \n",
      "19            9  \n",
      "20           39  \n",
      "21            1  \n",
      "22           24  \n",
      "23           34  \n",
      "24           12  \n",
      "25           15  \n",
      "26            8  \n",
      "27           20  \n",
      "28           22  \n",
      "29           12  \n",
      "...         ...  \n",
      "1753         35  \n",
      "1754         22  \n",
      "1755         47  \n",
      "1756         26  \n",
      "1757         21  \n",
      "1758         16  \n",
      "1759         24  \n",
      "1760          1  \n",
      "1761         21  \n",
      "1762         37  \n",
      "1763         31  \n",
      "1764         29  \n",
      "1765         22  \n",
      "1766         28  \n",
      "1767         49  \n",
      "1768         24  \n",
      "1769         20  \n",
      "1770         22  \n",
      "1771         31  \n",
      "1772         39  \n",
      "1773         12  \n",
      "1774         35  \n",
      "1775         29  \n",
      "1776         35  \n",
      "1777         23  \n",
      "1778         39  \n",
      "1779         10  \n",
      "1780          8  \n",
      "1781          0  \n",
      "1782         19  \n",
      "\n",
      "[1783 rows x 13 columns]\n"
     ]
    }
   ],
   "source": [
    "# extracting features from essay set 1\n",
    "\n",
    "features_set1 = extract_features(data[data['essay_set'] == 1])\n",
    "\n",
    "print(features_set1)"
   ]
  },
  {
   "cell_type": "code",
   "execution_count": 20,
   "metadata": {
    "scrolled": false
   },
   "outputs": [
    {
     "data": {
      "text/plain": [
       "<matplotlib.axes._subplots.AxesSubplot at 0x1a3ef4cd30>"
      ]
     },
     "execution_count": 20,
     "metadata": {},
     "output_type": "execute_result"
    },
    {
     "data": {
      "image/png": "[encoded data removed]",
      "text/plain": [
       "<Figure size 432x288 with 1 Axes>"
      ]
     },
     "metadata": {
      "needs_background": "light"
     },
     "output_type": "display_data"
    },
    {
     "data": {
      "image/png": "[encoded data removed]",
      "text/plain": [
       "<Figure size 432x288 with 1 Axes>"
      ]
     },
     "metadata": {
      "needs_background": "light"
     },
     "output_type": "display_data"
    },
    {
     "data": {
      "image/png": "[encoded data removed]",
      "text/plain": [
       "<Figure size 432x288 with 1 Axes>"
      ]
     },
     "metadata": {
      "needs_background": "light"
     },
     "output_type": "display_data"
    },
    {
     "data": {
      "image/png": "[encoded data removed]",
      "text/plain": [
       "<Figure size 432x288 with 1 Axes>"
      ]
     },
     "metadata": {
      "needs_background": "light"
     },
     "output_type": "display_data"
    },
    {
     "data": {
      "image/png": "[encoded data removed]",
      "text/plain": [
       "<Figure size 432x288 with 1 Axes>"
      ]
     },
     "metadata": {
      "needs_background": "light"
     },
     "output_type": "display_data"
    },
    {
     "data": {
      "image/png": "[encoded data removed]",
      "text/plain": [
       "<Figure size 432x288 with 1 Axes>"
      ]
     },
     "metadata": {
      "needs_background": "light"
     },
     "output_type": "display_data"
    },
    {
     "data": {
      "image/png": "[encoded data removed]",
      "text/plain": [
       "<Figure size 432x288 with 1 Axes>"
      ]
     },
     "metadata": {
      "needs_background": "light"
     },
     "output_type": "display_data"
    },
    {
     "data": {
      "image/png": "[encoded data removed]",
      "text/plain": [
       "<Figure size 432x288 with 1 Axes>"
      ]
     },
     "metadata": {
      "needs_background": "light"
     },
     "output_type": "display_data"
    },
    {
     "data": {
      "image/png": "[encoded data removed]",
      "text/plain": [
       "<Figure size 432x288 with 1 Axes>"
      ]
     },
     "metadata": {
      "needs_background": "light"
     },
     "output_type": "display_data"
    },
    {
     "data": {
      "image/png": "[encoded data removed]",
      "text/plain": [
       "<Figure size 432x288 with 1 Axes>"
      ]
     },
     "metadata": {
      "needs_background": "light"
     },
     "output_type": "display_data"
    }
   ],
   "source": [
    "# Exploratory Data Analysis (EDA) on the essay set 1 \n",
    "\n",
    "%matplotlib inline\n",
    "features_set1.plot.scatter(x = 'char_count', y = 'domain1_score', s=10,color='orange')\n",
    "features_set1.plot.scatter(x = 'word_count', y = 'domain1_score', s=10)\n",
    "features_set1.plot.scatter(x = 'sent_count', y = 'domain1_score', s=10, color='green')\n",
    "features_set1.plot.scatter(x = 'avg_word_len', y = 'domain1_score', s=10, color='red',edgecolors='r')\n",
    "features_set1.plot.scatter(x = 'lemma_count', y = 'domain1_score', s=10,color='gray')\n",
    "features_set1.plot.scatter(x = 'spell_err_count', y = 'domain1_score', s=10, color='yellow')\n",
    "features_set1.plot.scatter(x = 'noun_count', y = 'domain1_score', s=10, color='black')\n",
    "features_set1.plot.scatter(x = 'adj_count', y = 'domain1_score', s=10,color='pink')\n",
    "features_set1.plot.scatter(x = 'verb_count', y = 'domain1_score', s=10,color='purple')\n",
    "features_set1.plot.scatter(x = 'adv_count', y = 'domain1_score', s=10,color='cyan')\n"
   ]
  },
  {
   "cell_type": "markdown",
   "metadata": {},
   "source": [
    "### Essay Set 1 Trends:\n",
    "\n",
    "1. Strong correlation between character count of an essay and the final essay score. \n",
    "   Similar correlations for word count, sentence count and lemma count of an essay.\n",
    "   These features indicate language fluency .\n",
    "2. Various parts-of-speech such as nouns, adjectives adverbs and verbs are good proxies to test vocabulary. \n",
    "   strong correlation between noun_count and the final essay score. Sililar trends were observed for verb count,\n",
    "   adjective count and adverb count of an essay.\n",
    "3. No significant correlation between average word length of an essay and its score.\n",
    "4. Weak correlation between the number of spelling errors and the final score of an essay."
   ]
  },
  {
   "cell_type": "code",
   "execution_count": 21,
   "metadata": {},
   "outputs": [
    {
     "name": "stdout",
     "output_type": "stream",
     "text": [
      "      essay_set                                              essay  \\\n",
      "1783          2  Certain materials being removed from libraries...   \n",
      "1784          2  Write a persuasive essay to a newspaper reflec...   \n",
      "1785          2  Do you think that libraries should remove cert...   \n",
      "1786          2  In @DATE1's world, there are many things found...   \n",
      "1787          2  In life you have the 'offensive things'. The l...   \n",
      "1788          2  A lot of @CAPS3 today are censored because of ...   \n",
      "1789          2  How @CAPS4 you feel if your favorite book was ...   \n",
      "1790          2  Do you think that you should be able to take c...   \n",
      "1791          2  The idea of the removal of 'offensive' materia...   \n",
      "1792          2  All authors write for a purpose, whether it be...   \n",
      "1793          2  Have you seen a magazine, book, movies, etc., ...   \n",
      "1794          2  Personally I don't think libraries, movie stor...   \n",
      "1795          2  A library is a place you can go to read, write...   \n",
      "1796          2  Yes and no, some materials such as books, musi...   \n",
      "1797          2  When talking about censorship in libraries, I ...   \n",
      "1798          2  Dear Newspaper,     @CAPS1 would you feel if s...   \n",
      "1799          2  A lot of people that are in school have probab...   \n",
      "1800          2  Do you think that if certain books, music, mov...   \n",
      "1801          2  If the people that are publishing and writing ...   \n",
      "1802          2  I think that all the bad books should be taken...   \n",
      "1803          2  Dear news people,     I am qriting to you beca...   \n",
      "1804          2  I think that books, magazines, papers etc shou...   \n",
      "1805          2  Hello, my name is @CAPS1, I feel that there sh...   \n",
      "1806          2  Books Removed From Shelves?      'All of us ca...   \n",
      "1807          2  I think almost every movie might offend someon...   \n",
      "1808          2  The world in full of offensive material, and t...   \n",
      "1809          2  People are entitile to their own oppinion abou...   \n",
      "1810          2  I think if people find books offensive they sh...   \n",
      "1811          2  A book is more than words or happenings; they'...   \n",
      "1812          2  I don't believe that certain books, music, mag...   \n",
      "...         ...                                                ...   \n",
      "3553          2  No, materials should not be removed from the l...   \n",
      "3554          2  When you think of a book do you think happy ki...   \n",
      "3555          2  There should not be sensorship on the books in...   \n",
      "3556          2  I do not believe that certain materials, such ...   \n",
      "3557          2  Censorship in libraries is when a librarian ha...   \n",
      "3558          2  I know that some people find some books offens...   \n",
      "3559          2  Do citizens have the right to remove books, ma...   \n",
      "3560          2  Why do we have books out there that are viewed...   \n",
      "3561          2  Libraries @CAPS1 Or @CAPS2?         This world...   \n",
      "3562          2  I believe that if that book, music, or magazin...   \n",
      "3563          2  Do you believe that certain materials, such as...   \n",
      "3564          2  Today in the media there are many things that ...   \n",
      "3565          2  Certain books, magazines, music and movies sho...   \n",
      "3566          2  Offensive things should be taken off for many ...   \n",
      "3567          2  What if some one found your favorite book offe...   \n",
      "3568          2  I blieve that any book or movie that is in the...   \n",
      "3569          2  Debates are a main part of our society today. ...   \n",
      "3570          2  Books are very important to our society. They ...   \n",
      "3571          2  In todays world, children are exposed to a lot...   \n",
      "3572          2  This is going to be an essay about if people f...   \n",
      "3573          2  Books, movies, magazines, music, etc., make up...   \n",
      "3574          2  I believe that certain materials should not be...   \n",
      "3575          2  I personally think certain materials, such as ...   \n",
      "3576          2  We all hope that one day our children will not...   \n",
      "3577          2  Libraries have a variety of material from book...   \n",
      "3578          2  The author is writting about taking books off ...   \n",
      "3579          2  I do not think that materials, such as books, ...   \n",
      "3580          2  Yes we should keep the books,music,movies,an m...   \n",
      "3581          2  I do believe that  book, magazines, music, mov...   \n",
      "3582          2  Different Then Everyone Else     @CAPS1 do peo...   \n",
      "\n",
      "      domain1_score  char_count  word_count  sent_count  avg_word_len  \\\n",
      "1783              4        2143         486          19      4.279835   \n",
      "1784              1         666         170           3      3.841176   \n",
      "1785              2         930         227          15      3.898678   \n",
      "1786              4        2179         470          31      4.512766   \n",
      "1787              4        1902         431          35      4.236659   \n",
      "1788              4        1420         327          25      4.159021   \n",
      "1789              5        2513         523          25      4.636711   \n",
      "1790              2        3211         795          36      3.949686   \n",
      "1791              4        1577         331          19      4.631420   \n",
      "1792              4        1644         385          24      4.127273   \n",
      "1793              3        1370         340          17      3.905882   \n",
      "1794              3        1376         319          18      4.194357   \n",
      "1795              5        2204         488          29      4.385246   \n",
      "1796              3        1379         335          12      4.014925   \n",
      "1797              3         458          97           5      4.577320   \n",
      "1798              3        1581         360          17      4.280556   \n",
      "1799              4        2788         665          39      4.070677   \n",
      "1800              3        1510         333          13      4.402402   \n",
      "1801              1         770         151           5      4.728477   \n",
      "1802              3        1414         342          21      4.005848   \n",
      "1803              3        1197         331          11      3.528701   \n",
      "1804              3        1239         293          19      4.061433   \n",
      "1805              3         898         203           9      4.206897   \n",
      "1806              4        2156         517          23      4.063830   \n",
      "1807              3        2242         507          22      4.228797   \n",
      "1808              4        1801         394          18      4.482234   \n",
      "1809              4         946         200          11      4.660000   \n",
      "1810              2         378          83           5      4.433735   \n",
      "1811              3        1220         283          15      4.183746   \n",
      "1812              3        1240         292          20      4.123288   \n",
      "...             ...         ...         ...         ...           ...   \n",
      "3553              2        1327         317           5      4.104101   \n",
      "3554              3        1026         258          14      3.868217   \n",
      "3555              2         347          79           4      4.303797   \n",
      "3556              4        2797         619          25      4.316640   \n",
      "3557              4        1508         341          14      4.290323   \n",
      "3558              4        3122         765          42      3.981699   \n",
      "3559              5        3281         701          35      4.550642   \n",
      "3560              4        2321         514          27      4.262646   \n",
      "3561              4        2307         554          31      4.039711   \n",
      "3562              4        1918         495          32      3.751515   \n",
      "3563              4        1714         371          22      4.471698   \n",
      "3564              3        1227         292          16      4.102740   \n",
      "3565              3        1857         407          24      4.476658   \n",
      "3566              3        1242         276          17      4.398551   \n",
      "3567              4        1749         391          17      4.375959   \n",
      "3568              3        1068         252          11      4.095238   \n",
      "3569              4        1886         413          25      4.421308   \n",
      "3570              4        2437         535          33      4.390654   \n",
      "3571              5        2972         656          40      4.393293   \n",
      "3572              3        1313         325          14      3.993846   \n",
      "3573              3        2732         554          22      4.761733   \n",
      "3574              3        2743         610          26      4.398361   \n",
      "3575              5        1832         417          20      4.270983   \n",
      "3576              4        1480         353          23      4.076487   \n",
      "3577              3        1186         241          16      4.825726   \n",
      "3578              3        1054         271          12      3.726937   \n",
      "3579              3        1092         248          16      4.254032   \n",
      "3580              2         475         118           5      3.923729   \n",
      "3581              3        2188         510          23      4.174510   \n",
      "3582              3        1961         490          15      3.893878   \n",
      "\n",
      "      lemma_count  spell_err_count  noun_count  adj_count  verb_count  \\\n",
      "1783          187               15         127         34          95   \n",
      "1784           80               12          38         15          46   \n",
      "1785          116                5          57         17          45   \n",
      "1786          168                3          99         28         122   \n",
      "1787          205               23         109         29          93   \n",
      "1788          148               10          85         23          61   \n",
      "1789          226               20         130         44         111   \n",
      "1790          222               24         149         39         156   \n",
      "1791          148                2          76         32          68   \n",
      "1792          167                3          74         18          78   \n",
      "1793          123               16          62         21          77   \n",
      "1794          143                7          68         14          80   \n",
      "1795          212               10         108         30         101   \n",
      "1796          161               11          78         22          60   \n",
      "1797           54                2          23          7          23   \n",
      "1798          176               17          76         34          74   \n",
      "1799          185               13         154         39         129   \n",
      "1800          119               12          68         24          75   \n",
      "1801           94                1          49          6          27   \n",
      "1802          117               19          77         28          75   \n",
      "1803          122               10          61         13          76   \n",
      "1804          106                8          56         13          67   \n",
      "1805          118               12          53         13          40   \n",
      "1806          164               21         103         32         119   \n",
      "1807          176               12         119         33         117   \n",
      "1808          193               21          89         39          69   \n",
      "1809          114                9          44         17          46   \n",
      "1810           54                2          21          7          16   \n",
      "1811          145                6          54         16          62   \n",
      "1812          134                4          50         22          61   \n",
      "...           ...              ...         ...        ...         ...   \n",
      "3553          133               10          74         24          61   \n",
      "3554          109                7          46         15          59   \n",
      "3555           61                5          16          8          15   \n",
      "3556          248               19         150         50         114   \n",
      "3557          128                6          70         30          62   \n",
      "3558          229               39         147         42         184   \n",
      "3559          252                5         178         49         137   \n",
      "3560          219               26         138         21          97   \n",
      "3561          201               40         127         34         109   \n",
      "3562          156               27          80         23          98   \n",
      "3563          179               14          99         33          61   \n",
      "3564          108                5          61         18          65   \n",
      "3565          160               12         107         22          86   \n",
      "3566          149                5          61         12          70   \n",
      "3567          173               14          98         33          80   \n",
      "3568          116               13          67         15          54   \n",
      "3569          178                9         106         35          74   \n",
      "3570          194                6         112         29         108   \n",
      "3571          239               19         161         46         127   \n",
      "3572          149               26          50         28          76   \n",
      "3573          188               21         146         57          98   \n",
      "3574          186               66         144         49         120   \n",
      "3575          167                9          81         32          89   \n",
      "3576          138               19          73         23          82   \n",
      "3577          125                7          62         23          46   \n",
      "3578          101               14          65         19          66   \n",
      "3579          120               12          65         22          48   \n",
      "3580           64                8          30          3          22   \n",
      "3581          156               17         125         26         121   \n",
      "3582          155               12         106         45          91   \n",
      "\n",
      "      adv_count  \n",
      "1783         32  \n",
      "1784          6  \n",
      "1785         15  \n",
      "1786         30  \n",
      "1787         30  \n",
      "1788         16  \n",
      "1789         32  \n",
      "1790         79  \n",
      "1791         24  \n",
      "1792         28  \n",
      "1793         19  \n",
      "1794         20  \n",
      "1795         37  \n",
      "1796         20  \n",
      "1797          2  \n",
      "1798         20  \n",
      "1799         46  \n",
      "1800         25  \n",
      "1801          6  \n",
      "1802         19  \n",
      "1803         17  \n",
      "1804          7  \n",
      "1805         11  \n",
      "1806         33  \n",
      "1807         30  \n",
      "1808         15  \n",
      "1809         13  \n",
      "1810          5  \n",
      "1811         10  \n",
      "1812         26  \n",
      "...         ...  \n",
      "3553         19  \n",
      "3554         19  \n",
      "3555          6  \n",
      "3556         32  \n",
      "3557         34  \n",
      "3558         64  \n",
      "3559         36  \n",
      "3560         24  \n",
      "3561         37  \n",
      "3562         50  \n",
      "3563         17  \n",
      "3564         18  \n",
      "3565         22  \n",
      "3566         18  \n",
      "3567         15  \n",
      "3568         11  \n",
      "3569         14  \n",
      "3570         52  \n",
      "3571         45  \n",
      "3572         21  \n",
      "3573         41  \n",
      "3574         35  \n",
      "3575         30  \n",
      "3576         29  \n",
      "3577         24  \n",
      "3578         15  \n",
      "3579         17  \n",
      "3580          5  \n",
      "3581         31  \n",
      "3582         28  \n",
      "\n",
      "[1800 rows x 13 columns]\n"
     ]
    }
   ],
   "source": [
    "# extracting features from essay set 2\n",
    "\n",
    "features_set2 = extract_features(data[data['essay_set'] == 2])\n",
    "\n",
    "print(features_set2)"
   ]
  },
  {
   "cell_type": "code",
   "execution_count": 22,
   "metadata": {},
   "outputs": [
    {
     "data": {
      "text/plain": [
       "<matplotlib.axes._subplots.AxesSubplot at 0x1a3fae9c50>"
      ]
     },
     "execution_count": 22,
     "metadata": {},
     "output_type": "execute_result"
    },
    {
     "data": {
      "image/png": "[encoded data removed]",
      "text/plain": [
       "<Figure size 432x288 with 1 Axes>"
      ]
     },
     "metadata": {
      "needs_background": "light"
     },
     "output_type": "display_data"
    },
    {
     "data": {
      "image/png": "[encoded data removed]",
      "text/plain": [
       "<Figure size 432x288 with 1 Axes>"
      ]
     },
     "metadata": {
      "needs_background": "light"
     },
     "output_type": "display_data"
    },
    {
     "data": {
      "image/png": "[encoded data removed]",
      "text/plain": [
       "<Figure size 432x288 with 1 Axes>"
      ]
     },
     "metadata": {
      "needs_background": "light"
     },
     "output_type": "display_data"
    },
    {
     "data": {
      "image/png": "[encoded data removed]",
      "text/plain": [
       "<Figure size 432x288 with 1 Axes>"
      ]
     },
     "metadata": {
      "needs_background": "light"
     },
     "output_type": "display_data"
    },
    {
     "data": {
      "image/png": "[encoded data removed]",
      "text/plain": [
       "<Figure size 432x288 with 1 Axes>"
      ]
     },
     "metadata": {
      "needs_background": "light"
     },
     "output_type": "display_data"
    },
    {
     "data": {
      "image/png": "[encoded data removed]",
      "text/plain": [
       "<Figure size 432x288 with 1 Axes>"
      ]
     },
     "metadata": {
      "needs_background": "light"
     },
     "output_type": "display_data"
    },
    {
     "data": {
      "image/png": "[encoded data removed]",
      "text/plain": [
       "<Figure size 432x288 with 1 Axes>"
      ]
     },
     "metadata": {
      "needs_background": "light"
     },
     "output_type": "display_data"
    },
    {
     "data": {
      "image/png": "[encoded data removed]",
      "text/plain": [
       "<Figure size 432x288 with 1 Axes>"
      ]
     },
     "metadata": {
      "needs_background": "light"
     },
     "output_type": "display_data"
    },
    {
     "data": {
      "image/png": "[encoded data removed]",
      "text/plain": [
       "<Figure size 432x288 with 1 Axes>"
      ]
     },
     "metadata": {
      "needs_background": "light"
     },
     "output_type": "display_data"
    },
    {
     "data": {
      "image/png": "[encoded data removed]",
      "text/plain": [
       "<Figure size 432x288 with 1 Axes>"
      ]
     },
     "metadata": {
      "needs_background": "light"
     },
     "output_type": "display_data"
    }
   ],
   "source": [
    "# Exploratory Data Analysis (EDA) on the essay set 2\n",
    "\n",
    "%matplotlib inline\n",
    "features_set2.plot.scatter(x = 'char_count', y = 'domain1_score', s=10,color='orange')\n",
    "features_set2.plot.scatter(x = 'word_count', y = 'domain1_score', s=10)\n",
    "features_set2.plot.scatter(x = 'sent_count', y = 'domain1_score', s=10, color='green')\n",
    "features_set2.plot.scatter(x = 'avg_word_len', y = 'domain1_score', s=10, color='red')\n",
    "features_set2.plot.scatter(x = 'lemma_count', y = 'domain1_score', s=10,color='gray')\n",
    "features_set2.plot.scatter(x = 'spell_err_count', y = 'domain1_score', s=10, color='yellow')\n",
    "features_set2.plot.scatter(x = 'noun_count', y = 'domain1_score', s=10, color='black')\n",
    "features_set2.plot.scatter(x = 'adj_count', y = 'domain1_score', s=10,color='pink')\n",
    "features_set2.plot.scatter(x = 'verb_count', y = 'domain1_score', s=10,color='purple')\n",
    "features_set2.plot.scatter(x = 'adv_count', y = 'domain1_score', s=10,color='cyan')\n",
    "\n",
    "\n"
   ]
  },
  {
   "cell_type": "markdown",
   "metadata": {},
   "source": [
    "## BOW + extracted features "
   ]
  },
  {
   "cell_type": "code",
   "execution_count": 35,
   "metadata": {},
   "outputs": [],
   "source": [
    "MSE = []\n",
    "Variance = []\n",
    "CohenKappa = []\n"
   ]
  },
  {
   "cell_type": "code",
   "execution_count": 37,
   "metadata": {
    "scrolled": true
   },
   "outputs": [],
   "source": [
    "# splitting data (BOW + other features) into train data and test data (70/30)\n",
    "    \n",
    "X = np.concatenate((features_set1.iloc[:, 3:].as_matrix(), X_cv), axis = 1)\n",
    "\n",
    "y = features_set1['domain1_score'].as_matrix()\n",
    "\n",
    "X_train, X_test, y_train, y_test = train_test_split(X, y, test_size = 0.3)"
   ]
  },
  {
   "cell_type": "code",
   "execution_count": 38,
   "metadata": {},
   "outputs": [
    {
     "name": "stdout",
     "output_type": "stream",
     "text": [
      "Coefficients: \n",
      " [ 0.0001198   0.00607282 -0.00629295 ... -0.0504102   0.04044733\n",
      " -0.00753845]\n",
      "Mean squared error: 1.19\n",
      "Variance score: 0.47\n",
      "Cohen's kappa score: 0.21\n"
     ]
    }
   ],
   "source": [
    "# Training a Linear Regression model using all the features (BOW + other features)\n",
    "\n",
    "linear_regressor = LinearRegression()\n",
    "\n",
    "linear_regressor.fit(X_train, y_train)\n",
    "\n",
    "y_pred = linear_regressor.predict(X_test)\n",
    "\n",
    "# The coefficients\n",
    "print('Coefficients: \\n', linear_regressor.coef_)\n",
    "\n",
    "# The mean squared error\n",
    "MSE.append(mean_squared_error(y_test, y_pred))\n",
    "print(\"Mean squared error: %.2f\" % mean_squared_error(y_test, y_pred))\n",
    "\n",
    "# Explained variance score: 1 is perfect prediction\n",
    "Variance.append(linear_regressor.score(X_test, y_test))\n",
    "print('Variance score: %.2f' % linear_regressor.score(X_test, y_test))\n",
    "\n",
    "# Cohen’s kappa score: 1 is complete agreement\n",
    "CohenKappa.append(cohen_kappa_score(np.rint(y_pred), y_test))\n",
    "print('Cohen\\'s kappa score: %.2f' % cohen_kappa_score(np.rint(y_pred), y_test))"
   ]
  },
  {
   "cell_type": "code",
   "execution_count": 39,
   "metadata": {
    "scrolled": false
   },
   "outputs": [
    {
     "name": "stdout",
     "output_type": "stream",
     "text": [
      "0.5034421008699075\n",
      "3.0\n",
      "Mean squared error: 1.08\n",
      "Variance score: 0.52\n",
      "Cohen's kappa score: 0.23\n"
     ]
    }
   ],
   "source": [
    "# Training a Ridge Regression model (l2 regularization) using all the features (BOW + other features)\n",
    "\n",
    "alphas = np.array([3, 1, 0.3, 0.1])\n",
    "\n",
    "ridge_regressor = Ridge()\n",
    "\n",
    "grid = GridSearchCV(estimator = ridge_regressor, param_grid = dict(alpha=alphas))\n",
    "grid.fit(X_train, y_train)\n",
    "\n",
    "y_pred = grid.predict(X_test)\n",
    "\n",
    "# summarize the results of the grid search\n",
    "print(grid.best_score_)\n",
    "print(grid.best_estimator_.alpha)\n",
    "\n",
    "# The mean squared error\n",
    "MSE.append(mean_squared_error(y_test, y_pred))\n",
    "print(\"Mean squared error: %.2f\" % mean_squared_error(y_test, y_pred))\n",
    "\n",
    "# Explained variance score: 1 is perfect prediction\n",
    "Variance.append(grid.score(X_test, y_test))\n",
    "print('Variance score: %.2f' % grid.score(X_test, y_test))\n",
    "\n",
    "# Cohen’s kappa score: 1 is complete agreement\n",
    "CohenKappa.append(cohen_kappa_score(np.rint(y_pred), y_test))\n",
    "print('Cohen\\'s kappa score: %.2f' % cohen_kappa_score(np.rint(y_pred), y_test))"
   ]
  },
  {
   "cell_type": "code",
   "execution_count": 40,
   "metadata": {},
   "outputs": [
    {
     "name": "stdout",
     "output_type": "stream",
     "text": [
      "0.7103686968067736\n",
      "0.1\n",
      "Mean squared error: 0.65\n",
      "Variance score: 0.71\n",
      "Cohen's kappa score: 0.34\n"
     ]
    }
   ],
   "source": [
    "# Training a Lasso Regression model (l1 regularization) using all the features (BOW + other features)\n",
    "\n",
    "alphas = np.array([3, 1, 0.3, 0.1])\n",
    "\n",
    "lasso_regressor = Lasso()\n",
    "\n",
    "grid = GridSearchCV(estimator = lasso_regressor, param_grid = dict(alpha=alphas))\n",
    "grid.fit(X_train, y_train)\n",
    "\n",
    "y_pred = grid.predict(X_test)\n",
    "\n",
    "# summarize the results of the grid search\n",
    "print(grid.best_score_)\n",
    "print(grid.best_estimator_.alpha)\n",
    "\n",
    "# The mean squared error\n",
    "MSE.append(mean_squared_error(y_test, y_pred))\n",
    "print(\"Mean squared error: %.2f\" % mean_squared_error(y_test, y_pred))\n",
    "\n",
    "# Explained variance score: 1 is perfect prediction\n",
    "Variance.append(grid.score(X_test, y_test))\n",
    "print('Variance score: %.2f' % grid.score(X_test, y_test))\n",
    "\n",
    "# Cohen’s kappa score: 1 is complete agreement\n",
    "CohenKappa.append(cohen_kappa_score(np.rint(y_pred), y_test))\n",
    "print('Cohen\\'s kappa score: %.2f' % cohen_kappa_score(np.rint(y_pred), y_test))"
   ]
  },
  {
   "cell_type": "code",
   "execution_count": 41,
   "metadata": {},
   "outputs": [
    {
     "name": "stdout",
     "output_type": "stream",
     "text": [
      "0.7400860638280792\n",
      "GradientBoostingRegressor(alpha=0.9, criterion='friedman_mse', init=None,\n",
      "             learning_rate=0.1, loss='ls', max_depth=2, max_features=None,\n",
      "             max_leaf_nodes=None, min_impurity_decrease=0.0,\n",
      "             min_impurity_split=None, min_samples_leaf=1,\n",
      "             min_samples_split=2, min_weight_fraction_leaf=0.0,\n",
      "             n_estimators=100, n_iter_no_change=None, presort='auto',\n",
      "             random_state=None, subsample=1.0, tol=0.0001,\n",
      "             validation_fraction=0.1, verbose=0, warm_start=False)\n",
      "MSE: 0.6085\n",
      "Variance score: 0.73\n",
      "Cohen's kappa score: 0.39\n"
     ]
    }
   ],
   "source": [
    "# Training a Gradient Boosting Regression model using all the features (BOW + other features)\n",
    "\n",
    "params = {'n_estimators':[100, 1000], 'max_depth':[2], 'min_samples_split': [2],\n",
    "          'learning_rate':[3, 1, 0.1, 0.3], 'loss': ['ls']}\n",
    "\n",
    "gbr = ensemble.GradientBoostingRegressor()\n",
    "\n",
    "grid = GridSearchCV(gbr, params)\n",
    "grid.fit(X_train, y_train)\n",
    "\n",
    "y_pred = grid.predict(X_test)\n",
    "\n",
    "# summarize the results of the grid search\n",
    "print(grid.best_score_)\n",
    "print(grid.best_estimator_)\n",
    "\n",
    "# The mean squared error\n",
    "mse = mean_squared_error(y_test, y_pred)\n",
    "MSE.append(mse)\n",
    "print(\"MSE: %.4f\" % mse)\n",
    "\n",
    "# Explained variance score: 1 is perfect prediction\n",
    "Variance.append(grid.score(X_test, y_test))\n",
    "print('Variance score: %.2f' % grid.score(X_test, y_test))\n",
    "\n",
    "# Cohen’s kappa score: 1 is complete agreement\n",
    "CohenKappa.append(cohen_kappa_score(np.rint(y_pred), y_test))\n",
    "print('Cohen\\'s kappa score: %.2f' % cohen_kappa_score(np.rint(y_pred), y_test))\n"
   ]
  },
  {
   "cell_type": "code",
   "execution_count": 42,
   "metadata": {},
   "outputs": [
    {
     "data": {
      "image/png": "[encoded data removed]",
      "text/plain": [
       "<Figure size 432x288 with 1 Axes>"
      ]
     },
     "metadata": {
      "needs_background": "light"
     },
     "output_type": "display_data"
    }
   ],
   "source": [
    "# Plot feature importance - to find the main factors affecting the final grade\n",
    "feature_importance = grid.best_estimator_.feature_importances_\n",
    "\n",
    "# make importances relative to max importance\n",
    "feature_importance = 100.0 * (feature_importance / feature_importance.max())\n",
    "feature_names = list(features_set1.iloc[:, 3:].columns.values)\n",
    "feature_names = np.asarray(feature_names + feature_names_cv)\n",
    "sorted_idx = np.argsort(feature_importance)\n",
    "# get top 100\n",
    "sorted_idx = sorted_idx[9910:]\n",
    "pos = np.arange(sorted_idx.shape[0]) + .5\n",
    "plt.subplot(1, 2, 2)\n",
    "plt.barh(pos, feature_importance[sorted_idx], align='center')\n",
    "plt.yticks(pos, feature_names[sorted_idx])\n",
    "plt.xlabel('Relative Importance')\n",
    "plt.title('Variable Importance')\n",
    "plt.show()\n"
   ]
  },
  {
   "cell_type": "code",
   "execution_count": 43,
   "metadata": {},
   "outputs": [
    {
     "name": "stdout",
     "output_type": "stream",
     "text": [
      "[1.1878156215679292, 1.0780687354517464, 0.6505859067980416, 0.6084822868613979]\n",
      "[0.4710287366221263, 0.519902440542634, 0.7102738482252577, 0.7290239005282149]\n",
      "[0.21093499214839107, 0.23388685987545654, 0.33661736856344115, 0.39184318509482086]\n"
     ]
    },
    {
     "data": {
      "image/png": "[encoded data removed]",
      "text/plain": [
       "<Figure size 432x288 with 1 Axes>"
      ]
     },
     "metadata": {
      "needs_background": "light"
     },
     "output_type": "display_data"
    }
   ],
   "source": [
    "import numpy as np\n",
    "import matplotlib.pyplot as plt\n",
    " \n",
    "# data to plot\n",
    "n_groups = 4\n",
    "#MSE = (1.24,1.16,0.75,0.61)\n",
    "#Variance = (0.52,0.55,0.71,0.76)\n",
    "#CohenKappa = (0.23,0.24,0.31,0.37)\n",
    "print(MSE)\n",
    "print(Variance)\n",
    "print(CohenKappa)\n",
    "\n",
    "# create plot\n",
    "fig, ax = plt.subplots()\n",
    "index = np.arange(n_groups)\n",
    "bar_width = 0.20\n",
    "opacity = 0.8\n",
    " \n",
    "rects1 = plt.bar(index, MSE, bar_width,\n",
    "alpha=opacity,\n",
    "color='b',\n",
    "label='MSE')\n",
    " \n",
    "rects2 = plt.bar(index + bar_width, Variance, bar_width,\n",
    "alpha=opacity,\n",
    "color='g',\n",
    "label='Variance Ratio ie R^2')\n",
    "\n",
    "rects3 = plt.bar(index + 2*bar_width, CohenKappa, bar_width,\n",
    "alpha=opacity,\n",
    "color='r',\n",
    "label='Cohen Kappa Score')\n",
    " \n",
    "plt.xlabel('Regression Techniques')\n",
    "plt.ylabel('Metric Evaluation')\n",
    "plt.title('Regression Technique Comparison for BOW + Extracted Features')\n",
    "plt.xticks(index + bar_width, ('Linear','Ridge','Lasso','Gradient Boosting'))\n",
    "plt.legend()\n",
    " \n",
    "plt.tight_layout()\n",
    "plt.show()\n",
    "\n"
   ]
  },
  {
   "cell_type": "markdown",
   "metadata": {},
   "source": [
    "## Only extracted features"
   ]
  },
  {
   "cell_type": "code",
   "execution_count": 44,
   "metadata": {},
   "outputs": [],
   "source": [
    "# splitting data (only 10 numerical/POS/orthographic features) into train data and test data (70/30)\n",
    "    \n",
    "X = features_set1.iloc[:, 3:].as_matrix()\n",
    "\n",
    "y = features_set1['domain1_score'].as_matrix()\n",
    "\n",
    "X_train, X_test, y_train, y_test = train_test_split(X, y, test_size = 0.3)"
   ]
  },
  {
   "cell_type": "code",
   "execution_count": 45,
   "metadata": {},
   "outputs": [
    {
     "name": "stdout",
     "output_type": "stream",
     "text": [
      "Coefficients: \n",
      " [-1.23669535e-04  5.65880052e-03  3.76122349e-03  5.54523150e-01\n",
      "  1.80508398e-02 -1.06066969e-02  2.26961005e-04 -7.59352179e-04\n",
      " -5.40947627e-03 -9.33477157e-03]\n",
      "Mean squared error: 0.65\n",
      "Variance score: 0.74\n",
      "Cohen's kappa score: 0.35\n"
     ]
    }
   ],
   "source": [
    "# Training a Linear Regression model using only 10 numerical/POS/orthographic features\n",
    "\n",
    "linear_regressor = LinearRegression()\n",
    "\n",
    "linear_regressor.fit(X_train, y_train)\n",
    "\n",
    "y_pred = linear_regressor.predict(X_test)\n",
    "\n",
    "# The coefficients\n",
    "print('Coefficients: \\n', linear_regressor.coef_)\n",
    "\n",
    "# The mean squared error\n",
    "print(\"Mean squared error: %.2f\" % mean_squared_error(y_test, y_pred))\n",
    "\n",
    "# Explained variance score: 1 is perfect prediction\n",
    "print('Variance score: %.2f' % linear_regressor.score(X_test, y_test))\n",
    "\n",
    "# Cohen’s kappa score: 1 is complete agreement\n",
    "print('Cohen\\'s kappa score: %.2f' % cohen_kappa_score(np.rint(y_pred), y_test))"
   ]
  },
  {
   "cell_type": "code",
   "execution_count": 46,
   "metadata": {},
   "outputs": [
    {
     "name": "stdout",
     "output_type": "stream",
     "text": [
      "0.6967088849207929\n",
      "0.3\n",
      "Mean squared error: 0.65\n",
      "Variance score: 0.74\n",
      "Cohen's kappa score: 0.35\n"
     ]
    }
   ],
   "source": [
    "# Training a Ridge Regression model (l2 regularization) using only 10 numerical/POS/orthographic features\n",
    "\n",
    "alphas = np.array([3, 1, 0, 0.3, 0.1, 0.03, 0.01, 0.003, 0.001])\n",
    "\n",
    "ridge_regressor = Ridge()\n",
    "\n",
    "grid = GridSearchCV(estimator = ridge_regressor, param_grid = dict(alpha=alphas))\n",
    "grid.fit(X_train, y_train)\n",
    "\n",
    "y_pred = grid.predict(X_test)\n",
    "\n",
    "# summarize the results of the grid search\n",
    "print(grid.best_score_)\n",
    "print(grid.best_estimator_.alpha)\n",
    "\n",
    "# The mean squared error\n",
    "print(\"Mean squared error: %.2f\" % mean_squared_error(y_test, y_pred))\n",
    "\n",
    "# Explained variance score: 1 is perfect prediction\n",
    "print('Variance score: %.2f' % grid.score(X_test, y_test))\n",
    "\n",
    "# Cohen’s kappa score: 1 is complete agreement\n",
    "print('Cohen\\'s kappa score: %.2f' % cohen_kappa_score(np.rint(y_pred), y_test))"
   ]
  },
  {
   "cell_type": "code",
   "execution_count": 47,
   "metadata": {},
   "outputs": [
    {
     "name": "stdout",
     "output_type": "stream",
     "text": [
      "0.6965123404008431\n",
      "0.1\n",
      "Mean squared error: 0.65\n",
      "Variance score: 0.74\n",
      "Cohen's kappa score: 0.35\n"
     ]
    }
   ],
   "source": [
    "# Training a Lasso Regression model (l1 regularization) using only 10 numerical/POS/orthographic features\n",
    "\n",
    "alphas = np.array([3, 1, 0.3, 0.1, 0.3])\n",
    "\n",
    "lasso_regressor = Lasso()\n",
    "\n",
    "grid = GridSearchCV(estimator = lasso_regressor, param_grid = dict(alpha=alphas))\n",
    "grid.fit(X_train, y_train)\n",
    "\n",
    "y_pred = grid.predict(X_test)\n",
    "\n",
    "# summarize the results of the grid search\n",
    "print(grid.best_score_)\n",
    "print(grid.best_estimator_.alpha)\n",
    "\n",
    "# The mean squared error\n",
    "print(\"Mean squared error: %.2f\" % mean_squared_error(y_test, y_pred))\n",
    "\n",
    "# Explained variance score: 1 is perfect prediction\n",
    "print('Variance score: %.2f' % grid.score(X_test, y_test))\n",
    "\n",
    "# Cohen’s kappa score: 1 is complete agreement\n",
    "print('Cohen\\'s kappa score: %.2f' % cohen_kappa_score(np.rint(y_pred), y_test))"
   ]
  },
  {
   "cell_type": "code",
   "execution_count": 48,
   "metadata": {},
   "outputs": [
    {
     "name": "stdout",
     "output_type": "stream",
     "text": [
      "0.7235479101089496\n",
      "GradientBoostingRegressor(alpha=0.9, criterion='friedman_mse', init=None,\n",
      "             learning_rate=0.01, loss='ls', max_depth=2, max_features=None,\n",
      "             max_leaf_nodes=None, min_impurity_decrease=0.0,\n",
      "             min_impurity_split=None, min_samples_leaf=1,\n",
      "             min_samples_split=2, min_weight_fraction_leaf=0.0,\n",
      "             n_estimators=500, n_iter_no_change=None, presort='auto',\n",
      "             random_state=None, subsample=1.0, tol=0.0001,\n",
      "             validation_fraction=0.1, verbose=0, warm_start=False)\n",
      "MSE: 0.5671\n",
      "Variance score: 0.77\n",
      "\n",
      "Cohen's kappa score: 0.39\n"
     ]
    }
   ],
   "source": [
    "# Training a Gradient Boosting Regression model using only 10 numerical/POS/orthographic features\n",
    "\n",
    "params = {'n_estimators':[50, 100, 500, 1000], 'max_depth':[2], 'min_samples_split': [2],\n",
    "          'learning_rate':[1, 0.1, 0.3, 0.01], 'loss': ['ls']}\n",
    "\n",
    "gbr = ensemble.GradientBoostingRegressor()\n",
    "\n",
    "grid = GridSearchCV(gbr, params)\n",
    "grid.fit(X_train, y_train)\n",
    "\n",
    "y_pred = grid.predict(X_test)\n",
    "\n",
    "# summarize the results of the grid search\n",
    "print(grid.best_score_)\n",
    "print(grid.best_estimator_)\n",
    "\n",
    "mse = mean_squared_error(y_test, y_pred)\n",
    "print(\"MSE: %.4f\" % mse)\n",
    "\n",
    "# Explained variance score: 1 is perfect prediction\n",
    "print('Variance score: %.2f' % grid.score(X_test, y_test))\n",
    "print()\n",
    "\n",
    "# Cohen’s kappa score: 1 is complete agreement\n",
    "print('Cohen\\'s kappa score: %.2f' % cohen_kappa_score(np.rint(y_pred), y_test))\n"
   ]
  },
  {
   "cell_type": "code",
   "execution_count": 49,
   "metadata": {},
   "outputs": [
    {
     "data": {
      "image/png": "[encoded data removed]",
      "text/plain": [
       "<Figure size 432x288 with 1 Axes>"
      ]
     },
     "metadata": {
      "needs_background": "light"
     },
     "output_type": "display_data"
    }
   ],
   "source": [
    "# Plot feature importance - to find the main factors affecting the final grade\n",
    "feature_importance = grid.best_estimator_.feature_importances_\n",
    "\n",
    "# make importances relative to max importance\n",
    "feature_importance = 100.0 * (feature_importance / feature_importance.max())\n",
    "feature_names = list(features_set1.iloc[:, 3:].columns.values)\n",
    "feature_names = np.asarray(feature_names)\n",
    "sorted_idx = np.argsort(feature_importance)\n",
    "pos = np.arange(sorted_idx.shape[0]) + .5\n",
    "plt.subplot(1, 2, 2)\n",
    "plt.barh(pos, feature_importance[sorted_idx], align='center', log=True)\n",
    "plt.yticks(pos, feature_names[sorted_idx])\n",
    "plt.xlabel('Relative Importance')\n",
    "plt.title('Variable Importance')\n",
    "plt.show()"
   ]
  },
  {
   "cell_type": "markdown",
   "metadata": {},
   "source": [
    "# Observations:\n",
    "    \n",
    "1. Using only BOW features:\n",
    "     Lasso Regression performs better than linear regression.\n",
    "\n",
    "2. Using all features:\n",
    "    Lasso Regression performs much better than Linear Regression and Ridge Regression.\n",
    "    Gradient Boosting Regression performs better i.e. has a higher variance score and kappa score than all of the above.\n",
    "\n",
    "3. Using only numerical/POS/orthographic features:\n",
    "    Linear, Ridge and Lasso Regression have a similar performance.\n",
    "    Gradient Boosting Regression has the highest variance and kappa scores.\n",
    "\n",
    "Hence, we can observe that models trained with all the features (BOW + numerical/POS/orthographic features) and \n",
    "models trained only with 10 numerical/POS/orthographic features produce similar scores.\n"
   ]
  }
 ],
 "metadata": {
  "kernelspec": {
   "display_name": "Python 3",
   "language": "python",
   "name": "python3"
  },
  "language_info": {
   "codemirror_mode": {
    "name": "ipython",
    "version": 3
   },
   "file_extension": ".py",
   "mimetype": "text/x-python",
   "name": "python",
   "nbconvert_exporter": "python",
   "pygments_lexer": "ipython3",
   "version": "3.7.1"
  }
 },
 "nbformat": 4,
 "nbformat_minor": 2
}
